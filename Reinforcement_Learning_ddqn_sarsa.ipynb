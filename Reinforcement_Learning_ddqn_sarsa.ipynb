{
  "nbformat": 4,
  "nbformat_minor": 0,
  "metadata": {
    "colab": {
      "provenance": [],
      "authorship_tag": "ABX9TyOXB4kgmGTwVduD+AFVvzHl",
      "include_colab_link": true
    },
    "kernelspec": {
      "name": "python3",
      "display_name": "Python 3"
    },
    "language_info": {
      "name": "python"
    }
  },
  "cells": [
    {
      "cell_type": "markdown",
      "metadata": {
        "id": "view-in-github",
        "colab_type": "text"
      },
      "source": [
        "<a href=\"https://colab.research.google.com/github/giardinas-dev/advanced-ai-production/blob/main/Reinforcement_Learning_ddqn_sarsa.ipynb\" target=\"_parent\"><img src=\"https://colab.research.google.com/assets/colab-badge.svg\" alt=\"Open In Colab\"/></a>"
      ]
    },
    {
      "cell_type": "code",
      "execution_count": null,
      "metadata": {
        "id": "4s8KeP3TSdXk",
        "colab": {
          "base_uri": "https://localhost:8080/"
        },
        "outputId": "e384aa88-bdee-4686-a5d6-5c74dcad9af9"
      },
      "outputs": [
        {
          "output_type": "stream",
          "name": "stdout",
          "text": [
            "Collecting gym-idsgame==1.0.12\n",
            "  Downloading gym_idsgame-1.0.12-py3-none-any.whl.metadata (1.1 kB)\n",
            "Downloading gym_idsgame-1.0.12-py3-none-any.whl (969 kB)\n",
            "\u001b[2K   \u001b[90m━━━━━━━━━━━━━━━━━━━━━━━━━━━━━━━━━━━━━━━━\u001b[0m \u001b[32m969.6/969.6 kB\u001b[0m \u001b[31m16.2 MB/s\u001b[0m eta \u001b[36m0:00:00\u001b[0m\n",
            "\u001b[?25hInstalling collected packages: gym-idsgame\n",
            "Successfully installed gym-idsgame-1.0.12\n",
            "Requirement already satisfied: scikit-learn in /usr/local/lib/python3.11/dist-packages (1.6.1)\n",
            "Collecting pyglet\n",
            "  Downloading pyglet-2.1.6-py3-none-any.whl.metadata (7.7 kB)\n",
            "Requirement already satisfied: numpy>=1.19.5 in /usr/local/lib/python3.11/dist-packages (from scikit-learn) (2.0.2)\n",
            "Requirement already satisfied: scipy>=1.6.0 in /usr/local/lib/python3.11/dist-packages (from scikit-learn) (1.16.0)\n",
            "Requirement already satisfied: joblib>=1.2.0 in /usr/local/lib/python3.11/dist-packages (from scikit-learn) (1.5.1)\n",
            "Requirement already satisfied: threadpoolctl>=3.1.0 in /usr/local/lib/python3.11/dist-packages (from scikit-learn) (3.6.0)\n",
            "Downloading pyglet-2.1.6-py3-none-any.whl (983 kB)\n",
            "\u001b[2K   \u001b[90m━━━━━━━━━━━━━━━━━━━━━━━━━━━━━━━━━━━━━━━━\u001b[0m \u001b[32m984.0/984.0 kB\u001b[0m \u001b[31m19.5 MB/s\u001b[0m eta \u001b[36m0:00:00\u001b[0m\n",
            "\u001b[?25hInstalling collected packages: pyglet\n",
            "\u001b[31mERROR: pip's dependency resolver does not currently take into account all the packages that are installed. This behaviour is the source of the following dependency conflicts.\n",
            "gym-idsgame 1.0.12 requires sklearn, which is not installed.\n",
            "gym-idsgame 1.0.12 requires stable-baselines3, which is not installed.\u001b[0m\u001b[31m\n",
            "\u001b[0mSuccessfully installed pyglet-2.1.6\n",
            "Requirement already satisfied: torch in /usr/local/lib/python3.11/dist-packages (2.6.0+cu124)\n",
            "Requirement already satisfied: torchvision in /usr/local/lib/python3.11/dist-packages (0.21.0+cu124)\n",
            "Requirement already satisfied: filelock in /usr/local/lib/python3.11/dist-packages (from torch) (3.18.0)\n",
            "Requirement already satisfied: typing-extensions>=4.10.0 in /usr/local/lib/python3.11/dist-packages (from torch) (4.14.1)\n",
            "Requirement already satisfied: networkx in /usr/local/lib/python3.11/dist-packages (from torch) (3.5)\n",
            "Requirement already satisfied: jinja2 in /usr/local/lib/python3.11/dist-packages (from torch) (3.1.6)\n",
            "Requirement already satisfied: fsspec in /usr/local/lib/python3.11/dist-packages (from torch) (2025.7.0)\n",
            "Collecting nvidia-cuda-nvrtc-cu12==12.4.127 (from torch)\n",
            "  Downloading nvidia_cuda_nvrtc_cu12-12.4.127-py3-none-manylinux2014_x86_64.whl.metadata (1.5 kB)\n",
            "Collecting nvidia-cuda-runtime-cu12==12.4.127 (from torch)\n",
            "  Downloading nvidia_cuda_runtime_cu12-12.4.127-py3-none-manylinux2014_x86_64.whl.metadata (1.5 kB)\n",
            "Collecting nvidia-cuda-cupti-cu12==12.4.127 (from torch)\n",
            "  Downloading nvidia_cuda_cupti_cu12-12.4.127-py3-none-manylinux2014_x86_64.whl.metadata (1.6 kB)\n",
            "Collecting nvidia-cudnn-cu12==9.1.0.70 (from torch)\n",
            "  Downloading nvidia_cudnn_cu12-9.1.0.70-py3-none-manylinux2014_x86_64.whl.metadata (1.6 kB)\n",
            "Collecting nvidia-cublas-cu12==12.4.5.8 (from torch)\n",
            "  Downloading nvidia_cublas_cu12-12.4.5.8-py3-none-manylinux2014_x86_64.whl.metadata (1.5 kB)\n",
            "Collecting nvidia-cufft-cu12==11.2.1.3 (from torch)\n",
            "  Downloading nvidia_cufft_cu12-11.2.1.3-py3-none-manylinux2014_x86_64.whl.metadata (1.5 kB)\n",
            "Collecting nvidia-curand-cu12==10.3.5.147 (from torch)\n",
            "  Downloading nvidia_curand_cu12-10.3.5.147-py3-none-manylinux2014_x86_64.whl.metadata (1.5 kB)\n",
            "Collecting nvidia-cusolver-cu12==11.6.1.9 (from torch)\n",
            "  Downloading nvidia_cusolver_cu12-11.6.1.9-py3-none-manylinux2014_x86_64.whl.metadata (1.6 kB)\n",
            "Collecting nvidia-cusparse-cu12==12.3.1.170 (from torch)\n",
            "  Downloading nvidia_cusparse_cu12-12.3.1.170-py3-none-manylinux2014_x86_64.whl.metadata (1.6 kB)\n",
            "Requirement already satisfied: nvidia-cusparselt-cu12==0.6.2 in /usr/local/lib/python3.11/dist-packages (from torch) (0.6.2)\n",
            "Requirement already satisfied: nvidia-nccl-cu12==2.21.5 in /usr/local/lib/python3.11/dist-packages (from torch) (2.21.5)\n",
            "Requirement already satisfied: nvidia-nvtx-cu12==12.4.127 in /usr/local/lib/python3.11/dist-packages (from torch) (12.4.127)\n",
            "Collecting nvidia-nvjitlink-cu12==12.4.127 (from torch)\n",
            "  Downloading nvidia_nvjitlink_cu12-12.4.127-py3-none-manylinux2014_x86_64.whl.metadata (1.5 kB)\n",
            "Requirement already satisfied: triton==3.2.0 in /usr/local/lib/python3.11/dist-packages (from torch) (3.2.0)\n",
            "Requirement already satisfied: sympy==1.13.1 in /usr/local/lib/python3.11/dist-packages (from torch) (1.13.1)\n",
            "Requirement already satisfied: mpmath<1.4,>=1.1.0 in /usr/local/lib/python3.11/dist-packages (from sympy==1.13.1->torch) (1.3.0)\n",
            "Requirement already satisfied: numpy in /usr/local/lib/python3.11/dist-packages (from torchvision) (2.0.2)\n",
            "Requirement already satisfied: pillow!=8.3.*,>=5.3.0 in /usr/local/lib/python3.11/dist-packages (from torchvision) (11.3.0)\n",
            "Requirement already satisfied: MarkupSafe>=2.0 in /usr/local/lib/python3.11/dist-packages (from jinja2->torch) (3.0.2)\n",
            "Downloading nvidia_cublas_cu12-12.4.5.8-py3-none-manylinux2014_x86_64.whl (363.4 MB)\n",
            "\u001b[2K   \u001b[90m━━━━━━━━━━━━━━━━━━━━━━━━━━━━━━━━━━━━━━━━\u001b[0m \u001b[32m363.4/363.4 MB\u001b[0m \u001b[31m2.7 MB/s\u001b[0m eta \u001b[36m0:00:00\u001b[0m\n",
            "\u001b[?25hDownloading nvidia_cuda_cupti_cu12-12.4.127-py3-none-manylinux2014_x86_64.whl (13.8 MB)\n",
            "\u001b[2K   \u001b[90m━━━━━━━━━━━━━━━━━━━━━━━━━━━━━━━━━━━━━━━━\u001b[0m \u001b[32m13.8/13.8 MB\u001b[0m \u001b[31m120.2 MB/s\u001b[0m eta \u001b[36m0:00:00\u001b[0m\n",
            "\u001b[?25hDownloading nvidia_cuda_nvrtc_cu12-12.4.127-py3-none-manylinux2014_x86_64.whl (24.6 MB)\n",
            "\u001b[2K   \u001b[90m━━━━━━━━━━━━━━━━━━━━━━━━━━━━━━━━━━━━━━━━\u001b[0m \u001b[32m24.6/24.6 MB\u001b[0m \u001b[31m61.7 MB/s\u001b[0m eta \u001b[36m0:00:00\u001b[0m\n",
            "\u001b[?25hDownloading nvidia_cuda_runtime_cu12-12.4.127-py3-none-manylinux2014_x86_64.whl (883 kB)\n",
            "\u001b[2K   \u001b[90m━━━━━━━━━━━━━━━━━━━━━━━━━━━━━━━━━━━━━━━━\u001b[0m \u001b[32m883.7/883.7 kB\u001b[0m \u001b[31m48.2 MB/s\u001b[0m eta \u001b[36m0:00:00\u001b[0m\n",
            "\u001b[?25hDownloading nvidia_cudnn_cu12-9.1.0.70-py3-none-manylinux2014_x86_64.whl (664.8 MB)\n",
            "\u001b[2K   \u001b[90m━━━━━━━━━━━━━━━━━━━━━━━━━━━━━━━━━━━━━━━━\u001b[0m \u001b[32m664.8/664.8 MB\u001b[0m \u001b[31m2.8 MB/s\u001b[0m eta \u001b[36m0:00:00\u001b[0m\n",
            "\u001b[?25hDownloading nvidia_cufft_cu12-11.2.1.3-py3-none-manylinux2014_x86_64.whl (211.5 MB)\n",
            "\u001b[2K   \u001b[90m━━━━━━━━━━━━━━━━━━━━━━━━━━━━━━━━━━━━━━━━\u001b[0m \u001b[32m211.5/211.5 MB\u001b[0m \u001b[31m5.5 MB/s\u001b[0m eta \u001b[36m0:00:00\u001b[0m\n",
            "\u001b[?25hDownloading nvidia_curand_cu12-10.3.5.147-py3-none-manylinux2014_x86_64.whl (56.3 MB)\n",
            "\u001b[2K   \u001b[90m━━━━━━━━━━━━━━━━━━━━━━━━━━━━━━━━━━━━━━━━\u001b[0m \u001b[32m56.3/56.3 MB\u001b[0m \u001b[31m14.0 MB/s\u001b[0m eta \u001b[36m0:00:00\u001b[0m\n",
            "\u001b[?25hDownloading nvidia_cusolver_cu12-11.6.1.9-py3-none-manylinux2014_x86_64.whl (127.9 MB)\n",
            "\u001b[2K   \u001b[90m━━━━━━━━━━━━━━━━━━━━━━━━━━━━━━━━━━━━━━━━\u001b[0m \u001b[32m127.9/127.9 MB\u001b[0m \u001b[31m7.7 MB/s\u001b[0m eta \u001b[36m0:00:00\u001b[0m\n",
            "\u001b[?25hDownloading nvidia_cusparse_cu12-12.3.1.170-py3-none-manylinux2014_x86_64.whl (207.5 MB)\n",
            "\u001b[2K   \u001b[90m━━━━━━━━━━━━━━━━━━━━━━━━━━━━━━━━━━━━━━━━\u001b[0m \u001b[32m207.5/207.5 MB\u001b[0m \u001b[31m5.4 MB/s\u001b[0m eta \u001b[36m0:00:00\u001b[0m\n",
            "\u001b[?25hDownloading nvidia_nvjitlink_cu12-12.4.127-py3-none-manylinux2014_x86_64.whl (21.1 MB)\n",
            "\u001b[2K   \u001b[90m━━━━━━━━━━━━━━━━━━━━━━━━━━━━━━━━━━━━━━━━\u001b[0m \u001b[32m21.1/21.1 MB\u001b[0m \u001b[31m49.5 MB/s\u001b[0m eta \u001b[36m0:00:00\u001b[0m\n",
            "\u001b[?25hInstalling collected packages: nvidia-nvjitlink-cu12, nvidia-curand-cu12, nvidia-cufft-cu12, nvidia-cuda-runtime-cu12, nvidia-cuda-nvrtc-cu12, nvidia-cuda-cupti-cu12, nvidia-cublas-cu12, nvidia-cusparse-cu12, nvidia-cudnn-cu12, nvidia-cusolver-cu12\n",
            "  Attempting uninstall: nvidia-nvjitlink-cu12\n",
            "    Found existing installation: nvidia-nvjitlink-cu12 12.5.82\n",
            "    Uninstalling nvidia-nvjitlink-cu12-12.5.82:\n",
            "      Successfully uninstalled nvidia-nvjitlink-cu12-12.5.82\n",
            "  Attempting uninstall: nvidia-curand-cu12\n",
            "    Found existing installation: nvidia-curand-cu12 10.3.6.82\n",
            "    Uninstalling nvidia-curand-cu12-10.3.6.82:\n",
            "      Successfully uninstalled nvidia-curand-cu12-10.3.6.82\n",
            "  Attempting uninstall: nvidia-cufft-cu12\n",
            "    Found existing installation: nvidia-cufft-cu12 11.2.3.61\n",
            "    Uninstalling nvidia-cufft-cu12-11.2.3.61:\n",
            "      Successfully uninstalled nvidia-cufft-cu12-11.2.3.61\n",
            "  Attempting uninstall: nvidia-cuda-runtime-cu12\n",
            "    Found existing installation: nvidia-cuda-runtime-cu12 12.5.82\n",
            "    Uninstalling nvidia-cuda-runtime-cu12-12.5.82:\n",
            "      Successfully uninstalled nvidia-cuda-runtime-cu12-12.5.82\n",
            "  Attempting uninstall: nvidia-cuda-nvrtc-cu12\n",
            "    Found existing installation: nvidia-cuda-nvrtc-cu12 12.5.82\n",
            "    Uninstalling nvidia-cuda-nvrtc-cu12-12.5.82:\n",
            "      Successfully uninstalled nvidia-cuda-nvrtc-cu12-12.5.82\n",
            "  Attempting uninstall: nvidia-cuda-cupti-cu12\n",
            "    Found existing installation: nvidia-cuda-cupti-cu12 12.5.82\n",
            "    Uninstalling nvidia-cuda-cupti-cu12-12.5.82:\n",
            "      Successfully uninstalled nvidia-cuda-cupti-cu12-12.5.82\n",
            "  Attempting uninstall: nvidia-cublas-cu12\n",
            "    Found existing installation: nvidia-cublas-cu12 12.5.3.2\n",
            "    Uninstalling nvidia-cublas-cu12-12.5.3.2:\n",
            "      Successfully uninstalled nvidia-cublas-cu12-12.5.3.2\n",
            "  Attempting uninstall: nvidia-cusparse-cu12\n",
            "    Found existing installation: nvidia-cusparse-cu12 12.5.1.3\n",
            "    Uninstalling nvidia-cusparse-cu12-12.5.1.3:\n",
            "      Successfully uninstalled nvidia-cusparse-cu12-12.5.1.3\n",
            "  Attempting uninstall: nvidia-cudnn-cu12\n",
            "    Found existing installation: nvidia-cudnn-cu12 9.3.0.75\n",
            "    Uninstalling nvidia-cudnn-cu12-9.3.0.75:\n",
            "      Successfully uninstalled nvidia-cudnn-cu12-9.3.0.75\n",
            "  Attempting uninstall: nvidia-cusolver-cu12\n",
            "    Found existing installation: nvidia-cusolver-cu12 11.6.3.83\n",
            "    Uninstalling nvidia-cusolver-cu12-11.6.3.83:\n",
            "      Successfully uninstalled nvidia-cusolver-cu12-11.6.3.83\n",
            "Successfully installed nvidia-cublas-cu12-12.4.5.8 nvidia-cuda-cupti-cu12-12.4.127 nvidia-cuda-nvrtc-cu12-12.4.127 nvidia-cuda-runtime-cu12-12.4.127 nvidia-cudnn-cu12-9.1.0.70 nvidia-cufft-cu12-11.2.1.3 nvidia-curand-cu12-10.3.5.147 nvidia-cusolver-cu12-11.6.1.9 nvidia-cusparse-cu12-12.3.1.170 nvidia-nvjitlink-cu12-12.4.127\n",
            "Collecting stable-baselines3\n",
            "  Downloading stable_baselines3-2.6.0-py3-none-any.whl.metadata (4.8 kB)\n",
            "Collecting gymnasium<1.2.0,>=0.29.1 (from stable-baselines3)\n",
            "  Downloading gymnasium-1.1.1-py3-none-any.whl.metadata (9.4 kB)\n",
            "Requirement already satisfied: numpy<3.0,>=1.20 in /usr/local/lib/python3.11/dist-packages (from stable-baselines3) (2.0.2)\n",
            "Requirement already satisfied: torch<3.0,>=2.3 in /usr/local/lib/python3.11/dist-packages (from stable-baselines3) (2.6.0+cu124)\n",
            "Requirement already satisfied: cloudpickle in /usr/local/lib/python3.11/dist-packages (from stable-baselines3) (3.1.1)\n",
            "Requirement already satisfied: pandas in /usr/local/lib/python3.11/dist-packages (from stable-baselines3) (2.2.2)\n",
            "Requirement already satisfied: matplotlib in /usr/local/lib/python3.11/dist-packages (from stable-baselines3) (3.10.0)\n",
            "Requirement already satisfied: typing-extensions>=4.3.0 in /usr/local/lib/python3.11/dist-packages (from gymnasium<1.2.0,>=0.29.1->stable-baselines3) (4.14.1)\n",
            "Requirement already satisfied: farama-notifications>=0.0.1 in /usr/local/lib/python3.11/dist-packages (from gymnasium<1.2.0,>=0.29.1->stable-baselines3) (0.0.4)\n",
            "Requirement already satisfied: filelock in /usr/local/lib/python3.11/dist-packages (from torch<3.0,>=2.3->stable-baselines3) (3.18.0)\n",
            "Requirement already satisfied: networkx in /usr/local/lib/python3.11/dist-packages (from torch<3.0,>=2.3->stable-baselines3) (3.5)\n",
            "Requirement already satisfied: jinja2 in /usr/local/lib/python3.11/dist-packages (from torch<3.0,>=2.3->stable-baselines3) (3.1.6)\n",
            "Requirement already satisfied: fsspec in /usr/local/lib/python3.11/dist-packages (from torch<3.0,>=2.3->stable-baselines3) (2025.7.0)\n",
            "Requirement already satisfied: nvidia-cuda-nvrtc-cu12==12.4.127 in /usr/local/lib/python3.11/dist-packages (from torch<3.0,>=2.3->stable-baselines3) (12.4.127)\n",
            "Requirement already satisfied: nvidia-cuda-runtime-cu12==12.4.127 in /usr/local/lib/python3.11/dist-packages (from torch<3.0,>=2.3->stable-baselines3) (12.4.127)\n",
            "Requirement already satisfied: nvidia-cuda-cupti-cu12==12.4.127 in /usr/local/lib/python3.11/dist-packages (from torch<3.0,>=2.3->stable-baselines3) (12.4.127)\n",
            "Requirement already satisfied: nvidia-cudnn-cu12==9.1.0.70 in /usr/local/lib/python3.11/dist-packages (from torch<3.0,>=2.3->stable-baselines3) (9.1.0.70)\n",
            "Requirement already satisfied: nvidia-cublas-cu12==12.4.5.8 in /usr/local/lib/python3.11/dist-packages (from torch<3.0,>=2.3->stable-baselines3) (12.4.5.8)\n",
            "Requirement already satisfied: nvidia-cufft-cu12==11.2.1.3 in /usr/local/lib/python3.11/dist-packages (from torch<3.0,>=2.3->stable-baselines3) (11.2.1.3)\n",
            "Requirement already satisfied: nvidia-curand-cu12==10.3.5.147 in /usr/local/lib/python3.11/dist-packages (from torch<3.0,>=2.3->stable-baselines3) (10.3.5.147)\n",
            "Requirement already satisfied: nvidia-cusolver-cu12==11.6.1.9 in /usr/local/lib/python3.11/dist-packages (from torch<3.0,>=2.3->stable-baselines3) (11.6.1.9)\n",
            "Requirement already satisfied: nvidia-cusparse-cu12==12.3.1.170 in /usr/local/lib/python3.11/dist-packages (from torch<3.0,>=2.3->stable-baselines3) (12.3.1.170)\n",
            "Requirement already satisfied: nvidia-cusparselt-cu12==0.6.2 in /usr/local/lib/python3.11/dist-packages (from torch<3.0,>=2.3->stable-baselines3) (0.6.2)\n",
            "Requirement already satisfied: nvidia-nccl-cu12==2.21.5 in /usr/local/lib/python3.11/dist-packages (from torch<3.0,>=2.3->stable-baselines3) (2.21.5)\n",
            "Requirement already satisfied: nvidia-nvtx-cu12==12.4.127 in /usr/local/lib/python3.11/dist-packages (from torch<3.0,>=2.3->stable-baselines3) (12.4.127)\n",
            "Requirement already satisfied: nvidia-nvjitlink-cu12==12.4.127 in /usr/local/lib/python3.11/dist-packages (from torch<3.0,>=2.3->stable-baselines3) (12.4.127)\n",
            "Requirement already satisfied: triton==3.2.0 in /usr/local/lib/python3.11/dist-packages (from torch<3.0,>=2.3->stable-baselines3) (3.2.0)\n",
            "Requirement already satisfied: sympy==1.13.1 in /usr/local/lib/python3.11/dist-packages (from torch<3.0,>=2.3->stable-baselines3) (1.13.1)\n",
            "Requirement already satisfied: mpmath<1.4,>=1.1.0 in /usr/local/lib/python3.11/dist-packages (from sympy==1.13.1->torch<3.0,>=2.3->stable-baselines3) (1.3.0)\n",
            "Requirement already satisfied: contourpy>=1.0.1 in /usr/local/lib/python3.11/dist-packages (from matplotlib->stable-baselines3) (1.3.2)\n",
            "Requirement already satisfied: cycler>=0.10 in /usr/local/lib/python3.11/dist-packages (from matplotlib->stable-baselines3) (0.12.1)\n",
            "Requirement already satisfied: fonttools>=4.22.0 in /usr/local/lib/python3.11/dist-packages (from matplotlib->stable-baselines3) (4.59.0)\n",
            "Requirement already satisfied: kiwisolver>=1.3.1 in /usr/local/lib/python3.11/dist-packages (from matplotlib->stable-baselines3) (1.4.8)\n",
            "Requirement already satisfied: packaging>=20.0 in /usr/local/lib/python3.11/dist-packages (from matplotlib->stable-baselines3) (25.0)\n",
            "Requirement already satisfied: pillow>=8 in /usr/local/lib/python3.11/dist-packages (from matplotlib->stable-baselines3) (11.3.0)\n",
            "Requirement already satisfied: pyparsing>=2.3.1 in /usr/local/lib/python3.11/dist-packages (from matplotlib->stable-baselines3) (3.2.3)\n",
            "Requirement already satisfied: python-dateutil>=2.7 in /usr/local/lib/python3.11/dist-packages (from matplotlib->stable-baselines3) (2.9.0.post0)\n",
            "Requirement already satisfied: pytz>=2020.1 in /usr/local/lib/python3.11/dist-packages (from pandas->stable-baselines3) (2025.2)\n",
            "Requirement already satisfied: tzdata>=2022.7 in /usr/local/lib/python3.11/dist-packages (from pandas->stable-baselines3) (2025.2)\n",
            "Requirement already satisfied: six>=1.5 in /usr/local/lib/python3.11/dist-packages (from python-dateutil>=2.7->matplotlib->stable-baselines3) (1.17.0)\n",
            "Requirement already satisfied: MarkupSafe>=2.0 in /usr/local/lib/python3.11/dist-packages (from jinja2->torch<3.0,>=2.3->stable-baselines3) (3.0.2)\n",
            "Downloading stable_baselines3-2.6.0-py3-none-any.whl (184 kB)\n",
            "\u001b[2K   \u001b[90m━━━━━━━━━━━━━━━━━━━━━━━━━━━━━━━━━━━━━━━━\u001b[0m \u001b[32m184.5/184.5 kB\u001b[0m \u001b[31m6.4 MB/s\u001b[0m eta \u001b[36m0:00:00\u001b[0m\n",
            "\u001b[?25hDownloading gymnasium-1.1.1-py3-none-any.whl (965 kB)\n",
            "\u001b[2K   \u001b[90m━━━━━━━━━━━━━━━━━━━━━━━━━━━━━━━━━━━━━━━━\u001b[0m \u001b[32m965.4/965.4 kB\u001b[0m \u001b[31m37.8 MB/s\u001b[0m eta \u001b[36m0:00:00\u001b[0m\n",
            "\u001b[?25hInstalling collected packages: gymnasium, stable-baselines3\n",
            "  Attempting uninstall: gymnasium\n",
            "    Found existing installation: gymnasium 1.2.0\n",
            "    Uninstalling gymnasium-1.2.0:\n",
            "      Successfully uninstalled gymnasium-1.2.0\n",
            "\u001b[31mERROR: pip's dependency resolver does not currently take into account all the packages that are installed. This behaviour is the source of the following dependency conflicts.\n",
            "gym-idsgame 1.0.12 requires sklearn, which is not installed.\u001b[0m\u001b[31m\n",
            "\u001b[0mSuccessfully installed gymnasium-1.1.1 stable-baselines3-2.6.0\n"
          ]
        }
      ],
      "source": [
        "# Installa gym-idsgame e dipendenze\n",
        "!pip install --no-deps  gym-idsgame==1.0.12\n",
        "!pip install scikit-learn pyglet\n",
        "!pip install torch torchvision\n",
        "!pip install stable-baselines3\n",
        "\n",
        "import numpy as np\n",
        "import random\n",
        "import torch\n",
        "import torchvision"
      ]
    },
    {
      "cell_type": "code",
      "source": [
        "import random\n",
        "import numpy as np\n",
        "\n",
        "def moving_average(data, window_size):\n",
        "\n",
        "    if len(data) < window_size:\n",
        "        return []\n",
        "\n",
        "    moving_averages = []\n",
        "    for i in range(len(data) - window_size + 1):\n",
        "        window = data[i:i + window_size]\n",
        "        window_average = sum(window) / window_size\n",
        "        moving_averages.append(window_average)\n",
        "\n",
        "    return moving_averages\n",
        "\n",
        "\n",
        "random.seed(42)\n",
        "np.random.seed(42)\n"
      ],
      "metadata": {
        "id": "8JaGSRPV_jmz"
      },
      "execution_count": null,
      "outputs": []
    },
    {
      "cell_type": "code",
      "source": [
        "device = torch.device(\"cuda\" if torch.cuda.is_available() else \"cpu\")"
      ],
      "metadata": {
        "id": "2n8Ww2eQ9mMV"
      },
      "execution_count": null,
      "outputs": []
    },
    {
      "cell_type": "markdown",
      "source": [
        "**AMBIENTE DI SIMULAZIONE**\n",
        "\n",
        "Il progetto utilizza la libreria *gym_idsgame* , specializzata nella simulazione di scenari di attacco e difesa in reti informatiche. In particolare, si è scelto l’ambiente random_attack, dove l’attaccante agisce in modo casuale, creando uno scenario realistico e dinamico per testare le strategie difensive. Questo ambiente permette di valutare l’efficacia degli algoritmi in condizioni di variabilità e incertezza tipiche delle minacce informatiche reali.\n",
        "\n",
        "**TRAINING: SARSA**\n",
        "\n",
        "L’addestramento del difensore è stato realizzato con l’algoritmo SARSA, implementato nella funzione sarsa_learning.Durante ogni episodio, l’agente difensivo sceglie un’azione basata su una politica epsilon-greedy, alternando tra azioni casuali e azioni che massimizzano il valore stimato nella Q-table. Nel mentre, l’attaccante agisce con strategie casuali, forzando il difensore ad adattarsi continuamente.\n",
        "\n",
        "Ad ogni passo, la Q-table viene aggiornata con la formula SARSA, che considera la ricompensa ricevuta, lo stato successivo e l’azione successiva prevista, permettendo all’agente di migliorare progressivamente la sua politica. Inoltre, il valore di epsilon viene ridotto gradualmente, così da favorire l’apprendimento di strategie più solide nel tempo.\n",
        "\n",
        "Per ottimizzare l’addestramento sono state testate diverse configurazioni di parametri (setup), caratterizzate da valori differenti di tasso di apprendimento (alpha), fattore di sconto (gamma), tasso di decadimento di epsilon (epsilon_decay), e valore minimo di epsilon (epsilon_min). Questi setup permettono di valutare come variazioni nel processo di apprendimento influenzino la capacità del difensore di adattarsi e migliorare. Il confronto tra i diversi setup è stato effettuato analizzando l’andamento delle ricompense medie nel corso degli episodi, tramite grafici di *moving average* . Questa metodologia ha consentito di identificare configurazioni ottimali per il training e di misurare l’efficacia dell’algoritmo SARSA nel migliorare la capacità difensiva in ambienti dinamici\n",
        "\n",
        "**POLICY**\n",
        "\n",
        "Una volta addestrato, il difensore viene valutato attraverso la funzione *evaluate_policy* . Qui la politica appresa viene testata su più episodi contro attaccanti con modalità diverse: randomiche, deterministiche o cicliche. Questo permette di misurare la robustezza e l’efficacia della strategia difensiva in condizioni diverse, andando a quantificare la media delle ricompense ottenute (0.0 , 1.0). Il confronto con strategie casuali o nulle mette in evidenza il miglioramento ottenuto grazie all’apprendimento, confermando la validità dell’approccio SARSA nel contesto della difesa informatica."
      ],
      "metadata": {
        "id": "cgH4F5oOB57n"
      }
    },
    {
      "cell_type": "code",
      "source": [
        "def epsilon_greedy_policy(state_key, Q, epsilon, action_space):\n",
        "    if random.uniform(0, 1) < epsilon:\n",
        "        return action_space.sample()\n",
        "    else:\n",
        "        q_vals = Q.get(state_key, np.zeros(action_space.n))\n",
        "        return int(np.argmax(q_vals))\n",
        "\n",
        "\n",
        "# state_to_key è una funzione fondamentale per la gestione degli stati\n",
        "# all’interno dell’algoritmo SARSA, che usa una struttura dati dizionario (Q)\n",
        "# per memorizzare i valori di azione-stato. Dal momento che in Python\n",
        "# le chiavi del dizionario devono essere immutabili e hashabili,\n",
        "# non possiamo usare direttamente array NumPy o oggetti mutabili\n",
        "# come chiavi. Serve quindi una funzione che trasformi lo stato\n",
        "# in una rappresentazione immutabile, univoca e hashabile.\n",
        "\n",
        "def state_to_key(state):\n",
        "    if isinstance(state, np.ndarray):\n",
        "        return tuple(state.flatten())\n",
        "    elif isinstance(state, (list, tuple)):\n",
        "        # se è un tuple/lista di array o numeri, appiattisci tutto in una tupla piatta\n",
        "        flat = []\n",
        "        for s in state:\n",
        "            if isinstance(s, np.ndarray):\n",
        "                flat.extend(s.flatten())\n",
        "            else:\n",
        "                flat.append(s)\n",
        "        return tuple(flat)\n",
        "    else:\n",
        "        return (state,)\n",
        "\n",
        "\n",
        "\n",
        "def sarsa_learning(env, setup , print_every=1000, seed = 42):\n",
        "    alpha = setup['alpha']\n",
        "    gamma = setup['gamma']\n",
        "    epsilon = setup['epsilon_start']\n",
        "    epsilon_min = setup['epsilon_min']\n",
        "    epsilon_decay = setup['epsilon_decay']\n",
        "    decay_every = setup['decay_every']\n",
        "    num_episodes = setup['num_episodes']\n",
        "\n",
        "    Q = {}\n",
        "    episode_rewards = []\n",
        "\n",
        "    for episode in range(num_episodes):\n",
        "        state = env.reset(seed)\n",
        "        if isinstance(state, tuple):\n",
        "            state = state[0]\n",
        "\n",
        "        state_key = state_to_key(state)\n",
        "        action_def = epsilon_greedy_policy(state_key, Q, epsilon, env.defender_action_space)\n",
        "        done = False\n",
        "        total_reward = 0\n",
        "\n",
        "        while not done:\n",
        "            action_att = env.attacker_action_space.sample()\n",
        "            next_state, reward, done, _ = env.step((action_att, action_def))\n",
        "            if isinstance(next_state, tuple):\n",
        "                next_state = next_state[0]\n",
        "            next_state_key = state_to_key(next_state)\n",
        "            next_action_def = epsilon_greedy_policy(next_state_key, Q, epsilon, env.defender_action_space)\n",
        "\n",
        "            if state_key not in Q:\n",
        "                Q[state_key] = np.zeros(env.defender_action_space.n)\n",
        "            if next_state_key not in Q:\n",
        "                Q[next_state_key] = np.zeros(env.defender_action_space.n)\n",
        "\n",
        "            if isinstance(reward, (tuple, list)):\n",
        "                reward = reward[1] #reward difensore\n",
        "\n",
        "            Q[state_key][action_def] += alpha * (\n",
        "                reward + gamma * Q[next_state_key][next_action_def] - Q[state_key][action_def]\n",
        "            )\n",
        "\n",
        "            state_key = next_state_key\n",
        "            action_def = next_action_def\n",
        "            total_reward += reward\n",
        "\n",
        "        if episode % decay_every == 0:\n",
        "            epsilon = max(epsilon_min, epsilon * epsilon_decay)\n",
        "            print(f\"Episode {episode}, epsilon decayed to {round(epsilon, 4)}\")\n",
        "\n",
        "        if episode % print_every == 0:\n",
        "            print(f\"Episode {episode}, Total Reward: {total_reward}\")\n",
        "\n",
        "        episode_rewards.append(total_reward)\n",
        "\n",
        "    policy = {state_key: int(np.argmax(q_vals)) for state_key, q_vals in Q.items()}\n",
        "    return Q, policy, episode_rewards\n",
        "\n",
        "class AttackerAgent:\n",
        "    def __init__(self, action_space, mode='random', fixed_action=0):\n",
        "        self.action_space = action_space\n",
        "        self.mode = mode\n",
        "        self.fixed_action = fixed_action\n",
        "        self.actions = list(range(action_space.n))\n",
        "        self.index = 0  # per il ciclico\n",
        "\n",
        "    def sample(self):\n",
        "        if self.mode == 'random':\n",
        "            return self.action_space.sample()\n",
        "        elif self.mode == 'deterministic':\n",
        "            return self.fixed_action\n",
        "        elif self.mode == 'cyclic':\n",
        "            action = self.actions[self.index]\n",
        "            self.index = (self.index + 1) % len(self.actions)\n",
        "            return action\n",
        "        else:\n",
        "            raise ValueError(f\"Modalità sconosciuta: {self.mode}\")\n",
        "\n",
        "    def reset(self):\n",
        "        self.index = 0\n",
        "\n",
        "\n",
        "def evaluate_policy(env, policy, attacker, num_episodes=100, run_test = 5, seed = 42):\n",
        "    total_rewards = []\n",
        "    for _ in range(run_test):\n",
        "      for episode in range(num_episodes):\n",
        "          state = env.reset((seed + run_test*num_episodes + episode))\n",
        "          if isinstance(state, tuple):\n",
        "              state = state[0]\n",
        "          done = False\n",
        "          total_reward = 0\n",
        "          while not done:\n",
        "              state_key = state_to_key(state)\n",
        "              if policy == \"random\":\n",
        "                  # difensore random\n",
        "                  action_def = env.defender_action_space.sample()\n",
        "              elif policy == \"null\":\n",
        "                  # defender action 0\n",
        "                  action_def = 0\n",
        "              else:\n",
        "                  # policy\n",
        "                  action_def = policy.get(state_key, env.defender_action_space.sample())\n",
        "\n",
        "\n",
        "              action_att = attacker.sample()\n",
        "\n",
        "              next_state, reward, done, _ = env.step((action_att, action_def))\n",
        "              if isinstance(next_state, tuple):\n",
        "                  next_state = next_state[0]\n",
        "              state = next_state\n",
        "\n",
        "              if isinstance(reward, tuple):\n",
        "                  reward = reward[1]\n",
        "\n",
        "              total_reward += reward\n",
        "\n",
        "          total_rewards.append(total_reward)\n",
        "\n",
        "    avg_reward = sum(total_rewards) / (num_episodes*run_test)\n",
        "    return round(avg_reward,2)\n",
        "\n",
        "\n"
      ],
      "metadata": {
        "id": "BrhflCD5TC0-"
      },
      "execution_count": null,
      "outputs": []
    },
    {
      "cell_type": "code",
      "source": [
        "import pandas as pd\n",
        "from itertools import islice\n",
        "import matplotlib.pyplot as plt\n",
        "import gymnasium as gym\n",
        "import gym_idsgame\n",
        "from gym_idsgame.envs import IdsGameMaximalAttackV0Env as maximal_attack, IdsGameRandomAttackV0Env as random_attack\n",
        "from gym_idsgame.config.client_config import ClientConfig, IdsGameConfig\n",
        "\n",
        "env = random_attack()\n",
        "\n",
        "print(env.defender_action_space.n)\n",
        "setups = [\n",
        "    {\n",
        "        'name': 'Setup A - Decay lento e epsilon_min moderato',\n",
        "        'alpha': 0.05,\n",
        "        'gamma': 0.99,\n",
        "        'epsilon_start': 1.0,\n",
        "        'epsilon_min': 0.05,\n",
        "        'epsilon_decay': 0.998,\n",
        "        'decay_every': 500,\n",
        "        'num_episodes': 60000\n",
        "    },\n",
        "    {\n",
        "        'name': 'Setup B - Decay molto lento, epsilon_min più alto',\n",
        "        'alpha': 0.03,\n",
        "        'gamma': 0.99,\n",
        "        'epsilon_start': 1.0,\n",
        "        'epsilon_min': 0.1,\n",
        "        'epsilon_decay': 0.999,\n",
        "        'decay_every': 500,\n",
        "        'num_episodes': 60000\n",
        "    },\n",
        "    {\n",
        "        'name': 'Setup C - Alpha medio e decay moderato',\n",
        "        'alpha': 0.04,\n",
        "        'gamma': 0.99,\n",
        "        'epsilon_start': 1.0,\n",
        "        'epsilon_min': 0.05,\n",
        "        'epsilon_decay': 0.995,\n",
        "        'decay_every': 500,\n",
        "        'num_episodes': 50000\n",
        "    }\n",
        "]\n",
        "\n",
        "results = []\n",
        "for setup in setups:\n",
        "    print(f\"\\n Avvio training con: {setup['name']}\")\n",
        "    env = random_attack()\n",
        "    Q, policy, rewards = sarsa_learning(env, setup)\n",
        "    env.close()\n",
        "    results.append((setup['name'], rewards, policy, Q))\n",
        "\n",
        "\n",
        "plt.figure(figsize=(12, 6))\n",
        "for name, rewards, _ , _ in results:\n",
        "    ma = moving_average(rewards, window=100)\n",
        "    plt.plot(ma, label=name)\n",
        "\n",
        "plt.title('Confronto dei setup SARSA (media mobile dei reward)')\n",
        "plt.xlabel('Episodio')\n",
        "plt.ylabel('Reward (media mobile)')\n",
        "plt.legend()\n",
        "plt.grid(True)\n",
        "plt.show()\n",
        "\n"
      ],
      "metadata": {
        "id": "fOgyNnCXSuk-",
        "colab": {
          "base_uri": "https://localhost:8080/",
          "height": 1000
        },
        "outputId": "fe047c9a-6ac5-403f-e84d-f4bee6e98678"
      },
      "execution_count": null,
      "outputs": [
        {
          "output_type": "stream",
          "name": "stdout",
          "text": [
            "33\n",
            "\n",
            " Avvio training con: Setup A - Decay lento e epsilon_min moderato\n",
            "Episode 0, epsilon decayed to 0.998\n",
            "Episode 0, Total Reward: 1\n",
            "Episode 500, epsilon decayed to 0.996\n",
            "Episode 1000, epsilon decayed to 0.994\n",
            "Episode 1000, Total Reward: 1\n",
            "Episode 1500, epsilon decayed to 0.992\n",
            "Episode 2000, epsilon decayed to 0.99\n",
            "Episode 2000, Total Reward: -1\n",
            "Episode 2500, epsilon decayed to 0.9881\n",
            "Episode 3000, epsilon decayed to 0.9861\n",
            "Episode 3000, Total Reward: 1\n",
            "Episode 3500, epsilon decayed to 0.9841\n",
            "Episode 4000, epsilon decayed to 0.9821\n",
            "Episode 4000, Total Reward: -1\n",
            "Episode 4500, epsilon decayed to 0.9802\n",
            "Episode 5000, epsilon decayed to 0.9782\n",
            "Episode 5000, Total Reward: 1\n",
            "Episode 5500, epsilon decayed to 0.9763\n",
            "Episode 6000, epsilon decayed to 0.9743\n",
            "Episode 6000, Total Reward: 1\n",
            "Episode 6500, epsilon decayed to 0.9724\n",
            "Episode 7000, epsilon decayed to 0.9704\n",
            "Episode 7000, Total Reward: -1\n",
            "Episode 7500, epsilon decayed to 0.9685\n",
            "Episode 8000, epsilon decayed to 0.9665\n",
            "Episode 8000, Total Reward: -1\n",
            "Episode 8500, epsilon decayed to 0.9646\n",
            "Episode 9000, epsilon decayed to 0.9627\n",
            "Episode 9000, Total Reward: 1\n",
            "Episode 9500, epsilon decayed to 0.9608\n",
            "Episode 10000, epsilon decayed to 0.9588\n",
            "Episode 10000, Total Reward: 1\n",
            "Episode 10500, epsilon decayed to 0.9569\n",
            "Episode 11000, epsilon decayed to 0.955\n",
            "Episode 11000, Total Reward: 1\n",
            "Episode 11500, epsilon decayed to 0.9531\n",
            "Episode 12000, epsilon decayed to 0.9512\n",
            "Episode 12000, Total Reward: -1\n",
            "Episode 12500, epsilon decayed to 0.9493\n",
            "Episode 13000, epsilon decayed to 0.9474\n",
            "Episode 13000, Total Reward: 1\n",
            "Episode 13500, epsilon decayed to 0.9455\n",
            "Episode 14000, epsilon decayed to 0.9436\n",
            "Episode 14000, Total Reward: 1\n",
            "Episode 14500, epsilon decayed to 0.9417\n",
            "Episode 15000, epsilon decayed to 0.9398\n",
            "Episode 15000, Total Reward: 1\n",
            "Episode 15500, epsilon decayed to 0.9379\n",
            "Episode 16000, epsilon decayed to 0.9361\n",
            "Episode 16000, Total Reward: 1\n",
            "Episode 16500, epsilon decayed to 0.9342\n",
            "Episode 17000, epsilon decayed to 0.9323\n",
            "Episode 17000, Total Reward: 1\n",
            "Episode 17500, epsilon decayed to 0.9305\n",
            "Episode 18000, epsilon decayed to 0.9286\n",
            "Episode 18000, Total Reward: 1\n",
            "Episode 18500, epsilon decayed to 0.9267\n",
            "Episode 19000, epsilon decayed to 0.9249\n",
            "Episode 19000, Total Reward: 1\n",
            "Episode 19500, epsilon decayed to 0.923\n",
            "Episode 20000, epsilon decayed to 0.9212\n",
            "Episode 20000, Total Reward: 1\n",
            "Episode 20500, epsilon decayed to 0.9194\n",
            "Episode 21000, epsilon decayed to 0.9175\n",
            "Episode 21000, Total Reward: -1\n",
            "Episode 21500, epsilon decayed to 0.9157\n",
            "Episode 22000, epsilon decayed to 0.9138\n",
            "Episode 22000, Total Reward: 1\n",
            "Episode 22500, epsilon decayed to 0.912\n",
            "Episode 23000, epsilon decayed to 0.9102\n",
            "Episode 23000, Total Reward: 1\n",
            "Episode 23500, epsilon decayed to 0.9084\n",
            "Episode 24000, epsilon decayed to 0.9066\n",
            "Episode 24000, Total Reward: 1\n",
            "Episode 24500, epsilon decayed to 0.9047\n",
            "Episode 25000, epsilon decayed to 0.9029\n",
            "Episode 25000, Total Reward: 1\n",
            "Episode 25500, epsilon decayed to 0.9011\n",
            "Episode 26000, epsilon decayed to 0.8993\n",
            "Episode 26000, Total Reward: 1\n",
            "Episode 26500, epsilon decayed to 0.8975\n",
            "Episode 27000, epsilon decayed to 0.8957\n",
            "Episode 27000, Total Reward: 1\n",
            "Episode 27500, epsilon decayed to 0.8939\n",
            "Episode 28000, epsilon decayed to 0.8922\n",
            "Episode 28000, Total Reward: 1\n",
            "Episode 28500, epsilon decayed to 0.8904\n",
            "Episode 29000, epsilon decayed to 0.8886\n",
            "Episode 29000, Total Reward: 1\n",
            "Episode 29500, epsilon decayed to 0.8868\n",
            "Episode 30000, epsilon decayed to 0.885\n",
            "Episode 30000, Total Reward: 1\n",
            "Episode 30500, epsilon decayed to 0.8833\n",
            "Episode 31000, epsilon decayed to 0.8815\n",
            "Episode 31000, Total Reward: 1\n",
            "Episode 31500, epsilon decayed to 0.8797\n",
            "Episode 32000, epsilon decayed to 0.878\n",
            "Episode 32000, Total Reward: 1\n",
            "Episode 32500, epsilon decayed to 0.8762\n",
            "Episode 33000, epsilon decayed to 0.8745\n",
            "Episode 33000, Total Reward: 1\n",
            "Episode 33500, epsilon decayed to 0.8727\n",
            "Episode 34000, epsilon decayed to 0.871\n",
            "Episode 34000, Total Reward: 1\n",
            "Episode 34500, epsilon decayed to 0.8692\n",
            "Episode 35000, epsilon decayed to 0.8675\n",
            "Episode 35000, Total Reward: 1\n",
            "Episode 35500, epsilon decayed to 0.8658\n",
            "Episode 36000, epsilon decayed to 0.864\n",
            "Episode 36000, Total Reward: 1\n",
            "Episode 36500, epsilon decayed to 0.8623\n",
            "Episode 37000, epsilon decayed to 0.8606\n",
            "Episode 37000, Total Reward: 1\n",
            "Episode 37500, epsilon decayed to 0.8589\n",
            "Episode 38000, epsilon decayed to 0.8571\n",
            "Episode 38000, Total Reward: 1\n",
            "Episode 38500, epsilon decayed to 0.8554\n",
            "Episode 39000, epsilon decayed to 0.8537\n",
            "Episode 39000, Total Reward: 1\n",
            "Episode 39500, epsilon decayed to 0.852\n",
            "Episode 40000, epsilon decayed to 0.8503\n",
            "Episode 40000, Total Reward: -1\n",
            "Episode 40500, epsilon decayed to 0.8486\n",
            "Episode 41000, epsilon decayed to 0.8469\n",
            "Episode 41000, Total Reward: 1\n",
            "Episode 41500, epsilon decayed to 0.8452\n",
            "Episode 42000, epsilon decayed to 0.8435\n",
            "Episode 42000, Total Reward: 1\n",
            "Episode 42500, epsilon decayed to 0.8418\n",
            "Episode 43000, epsilon decayed to 0.8402\n",
            "Episode 43000, Total Reward: -1\n",
            "Episode 43500, epsilon decayed to 0.8385\n",
            "Episode 44000, epsilon decayed to 0.8368\n",
            "Episode 44000, Total Reward: 1\n",
            "Episode 44500, epsilon decayed to 0.8351\n",
            "Episode 45000, epsilon decayed to 0.8334\n",
            "Episode 45000, Total Reward: 1\n",
            "Episode 45500, epsilon decayed to 0.8318\n",
            "Episode 46000, epsilon decayed to 0.8301\n",
            "Episode 46000, Total Reward: -1\n",
            "Episode 46500, epsilon decayed to 0.8285\n",
            "Episode 47000, epsilon decayed to 0.8268\n",
            "Episode 47000, Total Reward: 1\n",
            "Episode 47500, epsilon decayed to 0.8251\n",
            "Episode 48000, epsilon decayed to 0.8235\n",
            "Episode 48000, Total Reward: 1\n",
            "Episode 48500, epsilon decayed to 0.8219\n",
            "Episode 49000, epsilon decayed to 0.8202\n",
            "Episode 49000, Total Reward: 1\n",
            "Episode 49500, epsilon decayed to 0.8186\n",
            "Episode 50000, epsilon decayed to 0.8169\n",
            "Episode 50000, Total Reward: 1\n",
            "Episode 50500, epsilon decayed to 0.8153\n",
            "Episode 51000, epsilon decayed to 0.8137\n",
            "Episode 51000, Total Reward: -1\n",
            "Episode 51500, epsilon decayed to 0.812\n",
            "Episode 52000, epsilon decayed to 0.8104\n",
            "Episode 52000, Total Reward: 1\n",
            "Episode 52500, epsilon decayed to 0.8088\n",
            "Episode 53000, epsilon decayed to 0.8072\n",
            "Episode 53000, Total Reward: 1\n",
            "Episode 53500, epsilon decayed to 0.8056\n",
            "Episode 54000, epsilon decayed to 0.8039\n",
            "Episode 54000, Total Reward: 1\n",
            "Episode 54500, epsilon decayed to 0.8023\n",
            "Episode 55000, epsilon decayed to 0.8007\n",
            "Episode 55000, Total Reward: 1\n",
            "Episode 55500, epsilon decayed to 0.7991\n",
            "Episode 56000, epsilon decayed to 0.7975\n",
            "Episode 56000, Total Reward: 1\n",
            "Episode 56500, epsilon decayed to 0.7959\n",
            "Episode 57000, epsilon decayed to 0.7944\n",
            "Episode 57000, Total Reward: 1\n",
            "Episode 57500, epsilon decayed to 0.7928\n",
            "Episode 58000, epsilon decayed to 0.7912\n",
            "Episode 58000, Total Reward: 1\n",
            "Episode 58500, epsilon decayed to 0.7896\n",
            "Episode 59000, epsilon decayed to 0.788\n",
            "Episode 59000, Total Reward: 1\n",
            "Episode 59500, epsilon decayed to 0.7864\n",
            "\n",
            " Avvio training con: Setup B - Decay molto lento, epsilon_min più alto\n",
            "Episode 0, epsilon decayed to 0.999\n",
            "Episode 0, Total Reward: 1\n",
            "Episode 500, epsilon decayed to 0.998\n",
            "Episode 1000, epsilon decayed to 0.997\n",
            "Episode 1000, Total Reward: 1\n",
            "Episode 1500, epsilon decayed to 0.996\n",
            "Episode 2000, epsilon decayed to 0.995\n",
            "Episode 2000, Total Reward: 1\n",
            "Episode 2500, epsilon decayed to 0.994\n",
            "Episode 3000, epsilon decayed to 0.993\n",
            "Episode 3000, Total Reward: 1\n",
            "Episode 3500, epsilon decayed to 0.992\n",
            "Episode 4000, epsilon decayed to 0.991\n",
            "Episode 4000, Total Reward: 1\n",
            "Episode 4500, epsilon decayed to 0.99\n",
            "Episode 5000, epsilon decayed to 0.9891\n",
            "Episode 5000, Total Reward: 1\n",
            "Episode 5500, epsilon decayed to 0.9881\n",
            "Episode 6000, epsilon decayed to 0.9871\n",
            "Episode 6000, Total Reward: 1\n",
            "Episode 6500, epsilon decayed to 0.9861\n",
            "Episode 7000, epsilon decayed to 0.9851\n",
            "Episode 7000, Total Reward: 1\n",
            "Episode 7500, epsilon decayed to 0.9841\n",
            "Episode 8000, epsilon decayed to 0.9831\n",
            "Episode 8000, Total Reward: 1\n",
            "Episode 8500, epsilon decayed to 0.9822\n",
            "Episode 9000, epsilon decayed to 0.9812\n",
            "Episode 9000, Total Reward: 1\n",
            "Episode 9500, epsilon decayed to 0.9802\n",
            "Episode 10000, epsilon decayed to 0.9792\n",
            "Episode 10000, Total Reward: 1\n",
            "Episode 10500, epsilon decayed to 0.9782\n",
            "Episode 11000, epsilon decayed to 0.9773\n",
            "Episode 11000, Total Reward: 1\n",
            "Episode 11500, epsilon decayed to 0.9763\n",
            "Episode 12000, epsilon decayed to 0.9753\n",
            "Episode 12000, Total Reward: 1\n",
            "Episode 12500, epsilon decayed to 0.9743\n",
            "Episode 13000, epsilon decayed to 0.9733\n",
            "Episode 13000, Total Reward: 1\n",
            "Episode 13500, epsilon decayed to 0.9724\n",
            "Episode 14000, epsilon decayed to 0.9714\n",
            "Episode 14000, Total Reward: 1\n",
            "Episode 14500, epsilon decayed to 0.9704\n",
            "Episode 15000, epsilon decayed to 0.9695\n",
            "Episode 15000, Total Reward: 1\n",
            "Episode 15500, epsilon decayed to 0.9685\n",
            "Episode 16000, epsilon decayed to 0.9675\n",
            "Episode 16000, Total Reward: 1\n",
            "Episode 16500, epsilon decayed to 0.9666\n",
            "Episode 17000, epsilon decayed to 0.9656\n",
            "Episode 17000, Total Reward: 1\n",
            "Episode 17500, epsilon decayed to 0.9646\n",
            "Episode 18000, epsilon decayed to 0.9637\n",
            "Episode 18000, Total Reward: 1\n",
            "Episode 18500, epsilon decayed to 0.9627\n",
            "Episode 19000, epsilon decayed to 0.9617\n",
            "Episode 19000, Total Reward: 1\n",
            "Episode 19500, epsilon decayed to 0.9608\n",
            "Episode 20000, epsilon decayed to 0.9598\n",
            "Episode 20000, Total Reward: -1\n",
            "Episode 20500, epsilon decayed to 0.9588\n",
            "Episode 21000, epsilon decayed to 0.9579\n",
            "Episode 21000, Total Reward: 1\n",
            "Episode 21500, epsilon decayed to 0.9569\n",
            "Episode 22000, epsilon decayed to 0.956\n",
            "Episode 22000, Total Reward: 1\n",
            "Episode 22500, epsilon decayed to 0.955\n",
            "Episode 23000, epsilon decayed to 0.9541\n",
            "Episode 23000, Total Reward: 1\n",
            "Episode 23500, epsilon decayed to 0.9531\n",
            "Episode 24000, epsilon decayed to 0.9522\n",
            "Episode 24000, Total Reward: -1\n",
            "Episode 24500, epsilon decayed to 0.9512\n",
            "Episode 25000, epsilon decayed to 0.9503\n",
            "Episode 25000, Total Reward: 1\n",
            "Episode 25500, epsilon decayed to 0.9493\n",
            "Episode 26000, epsilon decayed to 0.9484\n",
            "Episode 26000, Total Reward: -1\n",
            "Episode 26500, epsilon decayed to 0.9474\n",
            "Episode 27000, epsilon decayed to 0.9465\n",
            "Episode 27000, Total Reward: 1\n",
            "Episode 27500, epsilon decayed to 0.9455\n",
            "Episode 28000, epsilon decayed to 0.9446\n",
            "Episode 28000, Total Reward: 1\n",
            "Episode 28500, epsilon decayed to 0.9436\n",
            "Episode 29000, epsilon decayed to 0.9427\n",
            "Episode 29000, Total Reward: 1\n",
            "Episode 29500, epsilon decayed to 0.9417\n",
            "Episode 30000, epsilon decayed to 0.9408\n",
            "Episode 30000, Total Reward: 1\n",
            "Episode 30500, epsilon decayed to 0.9399\n",
            "Episode 31000, epsilon decayed to 0.9389\n",
            "Episode 31000, Total Reward: 1\n",
            "Episode 31500, epsilon decayed to 0.938\n",
            "Episode 32000, epsilon decayed to 0.937\n",
            "Episode 32000, Total Reward: 1\n",
            "Episode 32500, epsilon decayed to 0.9361\n",
            "Episode 33000, epsilon decayed to 0.9352\n",
            "Episode 33000, Total Reward: 1\n",
            "Episode 33500, epsilon decayed to 0.9342\n",
            "Episode 34000, epsilon decayed to 0.9333\n",
            "Episode 34000, Total Reward: 1\n",
            "Episode 34500, epsilon decayed to 0.9324\n",
            "Episode 35000, epsilon decayed to 0.9314\n",
            "Episode 35000, Total Reward: 1\n",
            "Episode 35500, epsilon decayed to 0.9305\n",
            "Episode 36000, epsilon decayed to 0.9296\n",
            "Episode 36000, Total Reward: 1\n",
            "Episode 36500, epsilon decayed to 0.9286\n",
            "Episode 37000, epsilon decayed to 0.9277\n",
            "Episode 37000, Total Reward: 1\n",
            "Episode 37500, epsilon decayed to 0.9268\n",
            "Episode 38000, epsilon decayed to 0.9259\n",
            "Episode 38000, Total Reward: 1\n",
            "Episode 38500, epsilon decayed to 0.9249\n",
            "Episode 39000, epsilon decayed to 0.924\n",
            "Episode 39000, Total Reward: 1\n",
            "Episode 39500, epsilon decayed to 0.9231\n",
            "Episode 40000, epsilon decayed to 0.9222\n",
            "Episode 40000, Total Reward: 1\n",
            "Episode 40500, epsilon decayed to 0.9212\n",
            "Episode 41000, epsilon decayed to 0.9203\n",
            "Episode 41000, Total Reward: 1\n",
            "Episode 41500, epsilon decayed to 0.9194\n",
            "Episode 42000, epsilon decayed to 0.9185\n",
            "Episode 42000, Total Reward: -1\n",
            "Episode 42500, epsilon decayed to 0.9176\n",
            "Episode 43000, epsilon decayed to 0.9166\n",
            "Episode 43000, Total Reward: 1\n",
            "Episode 43500, epsilon decayed to 0.9157\n",
            "Episode 44000, epsilon decayed to 0.9148\n",
            "Episode 44000, Total Reward: 1\n",
            "Episode 44500, epsilon decayed to 0.9139\n",
            "Episode 45000, epsilon decayed to 0.913\n",
            "Episode 45000, Total Reward: 1\n",
            "Episode 45500, epsilon decayed to 0.9121\n",
            "Episode 46000, epsilon decayed to 0.9112\n",
            "Episode 46000, Total Reward: 1\n",
            "Episode 46500, epsilon decayed to 0.9102\n",
            "Episode 47000, epsilon decayed to 0.9093\n",
            "Episode 47000, Total Reward: -1\n",
            "Episode 47500, epsilon decayed to 0.9084\n",
            "Episode 48000, epsilon decayed to 0.9075\n",
            "Episode 48000, Total Reward: 1\n",
            "Episode 48500, epsilon decayed to 0.9066\n",
            "Episode 49000, epsilon decayed to 0.9057\n",
            "Episode 49000, Total Reward: 1\n",
            "Episode 49500, epsilon decayed to 0.9048\n",
            "Episode 50000, epsilon decayed to 0.9039\n",
            "Episode 50000, Total Reward: 1\n",
            "Episode 50500, epsilon decayed to 0.903\n",
            "Episode 51000, epsilon decayed to 0.9021\n",
            "Episode 51000, Total Reward: 1\n",
            "Episode 51500, epsilon decayed to 0.9012\n",
            "Episode 52000, epsilon decayed to 0.9003\n",
            "Episode 52000, Total Reward: -1\n",
            "Episode 52500, epsilon decayed to 0.8994\n",
            "Episode 53000, epsilon decayed to 0.8985\n",
            "Episode 53000, Total Reward: 1\n",
            "Episode 53500, epsilon decayed to 0.8976\n",
            "Episode 54000, epsilon decayed to 0.8967\n",
            "Episode 54000, Total Reward: 1\n",
            "Episode 54500, epsilon decayed to 0.8958\n",
            "Episode 55000, epsilon decayed to 0.8949\n",
            "Episode 55000, Total Reward: 1\n",
            "Episode 55500, epsilon decayed to 0.894\n",
            "Episode 56000, epsilon decayed to 0.8931\n",
            "Episode 56000, Total Reward: 1\n",
            "Episode 56500, epsilon decayed to 0.8922\n",
            "Episode 57000, epsilon decayed to 0.8913\n",
            "Episode 57000, Total Reward: 1\n",
            "Episode 57500, epsilon decayed to 0.8904\n",
            "Episode 58000, epsilon decayed to 0.8895\n",
            "Episode 58000, Total Reward: 1\n",
            "Episode 58500, epsilon decayed to 0.8886\n",
            "Episode 59000, epsilon decayed to 0.8878\n",
            "Episode 59000, Total Reward: 1\n",
            "Episode 59500, epsilon decayed to 0.8869\n",
            "\n",
            " Avvio training con: Setup C - Alpha medio e decay moderato\n",
            "Episode 0, epsilon decayed to 0.995\n",
            "Episode 0, Total Reward: 1\n",
            "Episode 500, epsilon decayed to 0.99\n",
            "Episode 1000, epsilon decayed to 0.9851\n",
            "Episode 1000, Total Reward: 1\n",
            "Episode 1500, epsilon decayed to 0.9801\n",
            "Episode 2000, epsilon decayed to 0.9752\n",
            "Episode 2000, Total Reward: 1\n",
            "Episode 2500, epsilon decayed to 0.9704\n",
            "Episode 3000, epsilon decayed to 0.9655\n",
            "Episode 3000, Total Reward: 1\n",
            "Episode 3500, epsilon decayed to 0.9607\n",
            "Episode 4000, epsilon decayed to 0.9559\n",
            "Episode 4000, Total Reward: 1\n",
            "Episode 4500, epsilon decayed to 0.9511\n",
            "Episode 5000, epsilon decayed to 0.9464\n",
            "Episode 5000, Total Reward: 1\n",
            "Episode 5500, epsilon decayed to 0.9416\n",
            "Episode 6000, epsilon decayed to 0.9369\n",
            "Episode 6000, Total Reward: 1\n",
            "Episode 6500, epsilon decayed to 0.9322\n",
            "Episode 7000, epsilon decayed to 0.9276\n",
            "Episode 7000, Total Reward: -1\n",
            "Episode 7500, epsilon decayed to 0.9229\n",
            "Episode 8000, epsilon decayed to 0.9183\n",
            "Episode 8000, Total Reward: -1\n",
            "Episode 8500, epsilon decayed to 0.9137\n",
            "Episode 9000, epsilon decayed to 0.9092\n",
            "Episode 9000, Total Reward: 1\n",
            "Episode 9500, epsilon decayed to 0.9046\n",
            "Episode 10000, epsilon decayed to 0.9001\n",
            "Episode 10000, Total Reward: 1\n",
            "Episode 10500, epsilon decayed to 0.8956\n",
            "Episode 11000, epsilon decayed to 0.8911\n",
            "Episode 11000, Total Reward: 1\n",
            "Episode 11500, epsilon decayed to 0.8867\n",
            "Episode 12000, epsilon decayed to 0.8822\n",
            "Episode 12000, Total Reward: 1\n",
            "Episode 12500, epsilon decayed to 0.8778\n",
            "Episode 13000, epsilon decayed to 0.8734\n",
            "Episode 13000, Total Reward: 1\n",
            "Episode 13500, epsilon decayed to 0.8691\n",
            "Episode 14000, epsilon decayed to 0.8647\n",
            "Episode 14000, Total Reward: 1\n",
            "Episode 14500, epsilon decayed to 0.8604\n",
            "Episode 15000, epsilon decayed to 0.8561\n",
            "Episode 15000, Total Reward: 1\n",
            "Episode 15500, epsilon decayed to 0.8518\n",
            "Episode 16000, epsilon decayed to 0.8475\n",
            "Episode 16000, Total Reward: 1\n",
            "Episode 16500, epsilon decayed to 0.8433\n",
            "Episode 17000, epsilon decayed to 0.8391\n",
            "Episode 17000, Total Reward: 1\n",
            "Episode 17500, epsilon decayed to 0.8349\n",
            "Episode 18000, epsilon decayed to 0.8307\n",
            "Episode 18000, Total Reward: 1\n",
            "Episode 18500, epsilon decayed to 0.8266\n",
            "Episode 19000, epsilon decayed to 0.8224\n",
            "Episode 19000, Total Reward: -1\n",
            "Episode 19500, epsilon decayed to 0.8183\n",
            "Episode 20000, epsilon decayed to 0.8142\n",
            "Episode 20000, Total Reward: 1\n",
            "Episode 20500, epsilon decayed to 0.8102\n",
            "Episode 21000, epsilon decayed to 0.8061\n",
            "Episode 21000, Total Reward: 1\n",
            "Episode 21500, epsilon decayed to 0.8021\n",
            "Episode 22000, epsilon decayed to 0.7981\n",
            "Episode 22000, Total Reward: 1\n",
            "Episode 22500, epsilon decayed to 0.7941\n",
            "Episode 23000, epsilon decayed to 0.7901\n",
            "Episode 23000, Total Reward: 1\n",
            "Episode 23500, epsilon decayed to 0.7862\n",
            "Episode 24000, epsilon decayed to 0.7822\n",
            "Episode 24000, Total Reward: 1\n",
            "Episode 24500, epsilon decayed to 0.7783\n",
            "Episode 25000, epsilon decayed to 0.7744\n",
            "Episode 25000, Total Reward: 1\n",
            "Episode 25500, epsilon decayed to 0.7705\n",
            "Episode 26000, epsilon decayed to 0.7667\n",
            "Episode 26000, Total Reward: 1\n",
            "Episode 26500, epsilon decayed to 0.7629\n",
            "Episode 27000, epsilon decayed to 0.759\n",
            "Episode 27000, Total Reward: 1\n",
            "Episode 27500, epsilon decayed to 0.7553\n",
            "Episode 28000, epsilon decayed to 0.7515\n",
            "Episode 28000, Total Reward: 1\n",
            "Episode 28500, epsilon decayed to 0.7477\n",
            "Episode 29000, epsilon decayed to 0.744\n",
            "Episode 29000, Total Reward: 1\n",
            "Episode 29500, epsilon decayed to 0.7403\n",
            "Episode 30000, epsilon decayed to 0.7366\n",
            "Episode 30000, Total Reward: -1\n",
            "Episode 30500, epsilon decayed to 0.7329\n",
            "Episode 31000, epsilon decayed to 0.7292\n",
            "Episode 31000, Total Reward: 1\n",
            "Episode 31500, epsilon decayed to 0.7256\n",
            "Episode 32000, epsilon decayed to 0.7219\n",
            "Episode 32000, Total Reward: 1\n",
            "Episode 32500, epsilon decayed to 0.7183\n",
            "Episode 33000, epsilon decayed to 0.7147\n",
            "Episode 33000, Total Reward: 1\n",
            "Episode 33500, epsilon decayed to 0.7112\n",
            "Episode 34000, epsilon decayed to 0.7076\n",
            "Episode 34000, Total Reward: -1\n",
            "Episode 34500, epsilon decayed to 0.7041\n",
            "Episode 35000, epsilon decayed to 0.7005\n",
            "Episode 35000, Total Reward: -1\n",
            "Episode 35500, epsilon decayed to 0.697\n",
            "Episode 36000, epsilon decayed to 0.6936\n",
            "Episode 36000, Total Reward: -1\n",
            "Episode 36500, epsilon decayed to 0.6901\n",
            "Episode 37000, epsilon decayed to 0.6866\n",
            "Episode 37000, Total Reward: 1\n",
            "Episode 37500, epsilon decayed to 0.6832\n",
            "Episode 38000, epsilon decayed to 0.6798\n",
            "Episode 38000, Total Reward: 1\n",
            "Episode 38500, epsilon decayed to 0.6764\n",
            "Episode 39000, epsilon decayed to 0.673\n",
            "Episode 39000, Total Reward: 1\n",
            "Episode 39500, epsilon decayed to 0.6696\n",
            "Episode 40000, epsilon decayed to 0.6663\n",
            "Episode 40000, Total Reward: 1\n",
            "Episode 40500, epsilon decayed to 0.663\n",
            "Episode 41000, epsilon decayed to 0.6597\n",
            "Episode 41000, Total Reward: -1\n",
            "Episode 41500, epsilon decayed to 0.6564\n",
            "Episode 42000, epsilon decayed to 0.6531\n",
            "Episode 42000, Total Reward: 1\n",
            "Episode 42500, epsilon decayed to 0.6498\n",
            "Episode 43000, epsilon decayed to 0.6466\n",
            "Episode 43000, Total Reward: -1\n",
            "Episode 43500, epsilon decayed to 0.6433\n",
            "Episode 44000, epsilon decayed to 0.6401\n",
            "Episode 44000, Total Reward: 1\n",
            "Episode 44500, epsilon decayed to 0.6369\n",
            "Episode 45000, epsilon decayed to 0.6337\n",
            "Episode 45000, Total Reward: 1\n",
            "Episode 45500, epsilon decayed to 0.6306\n",
            "Episode 46000, epsilon decayed to 0.6274\n",
            "Episode 46000, Total Reward: 1\n",
            "Episode 46500, epsilon decayed to 0.6243\n",
            "Episode 47000, epsilon decayed to 0.6211\n",
            "Episode 47000, Total Reward: 1\n",
            "Episode 47500, epsilon decayed to 0.618\n",
            "Episode 48000, epsilon decayed to 0.6149\n",
            "Episode 48000, Total Reward: 1\n",
            "Episode 48500, epsilon decayed to 0.6119\n",
            "Episode 49000, epsilon decayed to 0.6088\n",
            "Episode 49000, Total Reward: 1\n",
            "Episode 49500, epsilon decayed to 0.6058\n"
          ]
        },
        {
          "output_type": "display_data",
          "data": {
            "text/plain": [
              "<Figure size 1200x600 with 1 Axes>"
            ],
            "image/png": "[encoded data removed]"
          },
          "metadata": {}
        }
      ]
    },
    {
      "cell_type": "markdown",
      "source": [
        "**PERFORMANCE**\n",
        "\n",
        "Setup A (*Decay lento, epsilon_min moderato*):\n",
        "\n",
        "- Epsilon decresce gradualmente da 0.998 a ~0.78 dopo 60k episodi.\n",
        "\n",
        "- Reward alterna +1 e -1, ma con frequenti ricompense positive.\n",
        "\n",
        "- Apprendimento stabile ma lento.\n",
        "\n",
        "Setup B (*Decay molto lento, epsilon_min alto*):\n",
        "\n",
        "- Epsilon decresce molto lentamente da 0.999 a ~0.88 dopo 60k episodi.\n",
        "\n",
        "- Predominanza di ricompense +1, meno esplorazione.\n",
        "\n",
        "- Apprendimento molto stabile ma con epsilon ancora alto, quindi rischio minor esplorazione.\n",
        "\n",
        "Setup C (*Alpha medio, decay moderato*):\n",
        "\n",
        "- Epsilon parte da 0.995 e scende più rapidamente a ~0.6 in 50k episodi.\n",
        "\n",
        "- Reward per lo più +1, qualche episodio negativo.\n",
        "\n",
        "- Apprendimento più rapido con buon bilanciamento tra esplorazione e sfruttamento.\n",
        "\n"
      ],
      "metadata": {
        "id": "GTVY94xkCBV1"
      }
    },
    {
      "cell_type": "code",
      "source": [
        "\n",
        "num_test_episodes = 300\n",
        "mode_attacker = {\n",
        "    'random': 'random',\n",
        "    'deterministico': 'deterministic',\n",
        "    'ciclico': 'cyclic'\n",
        "}\n",
        "env = random_attack()\n",
        "for name, _ ,policy , Q in results:\n",
        "  for mode in mode_attacker.items():\n",
        "    attacker = AttackerAgent(env.attacker_action_space, mode=mode[1], fixed_action=0)\n",
        "    print(f\"\\n\\n - Valuzione attaccante {mode[0]}\")\n",
        "    print(f\"-- Valutazione difensore SARSA {name}:\", evaluate_policy(env, policy, attacker, num_test_episodes, seed=42))\n",
        "    print(\"-- Valutazione difensore random:\", evaluate_policy(env, \"random\", attacker, num_test_episodes,  seed=42))\n",
        "    print(\"-- Valutazione difensore nulla:\", evaluate_policy(env, \"null\", attacker, num_test_episodes,  seed=42))\n",
        "\n",
        "\n",
        "# Visualizzione di Q-Table e Policy ( dimensionalità troppo alta per stampa )\n",
        "\n",
        "#    print(\"\\n--- Q-table (sintetica, prime 10 righe) ---\")\n",
        "#    for state_key, q_values in islice(Q.items(), 10):\n",
        "#        state_ints = tuple(int(x) for x in state_key)\n",
        "#        q_rounded = [round(float(val), 2) for val in q_values]\n",
        "#        print(f\"Stato: {state_ints} → Q: {q_rounded}\")\n",
        "\n",
        "#    print(\"\\n--- Politica appresa (difensore) prime 10 azioni ---\")\n",
        "#    for state_key, action in islice(policy.items(), 10):\n",
        "#        state_ints = tuple(int(x) for x in state_key)\n",
        "#        print(f\"Stato: {state_ints} → Azione: {action}\")\n",
        "\n"
      ],
      "metadata": {
        "colab": {
          "base_uri": "https://localhost:8080/"
        },
        "id": "ulXy1iu5yvCf",
        "outputId": "485b13f9-dff4-498e-f872-db08ac3164c6"
      },
      "execution_count": null,
      "outputs": [
        {
          "output_type": "stream",
          "name": "stdout",
          "text": [
            "\n",
            "\n",
            " - Valuzione attaccante random\n",
            "-- Valutazione difensore SARSA Setup A - Decay lento e epsilon_min moderato: 0.74\n",
            "-- Valutazione difensore random: 0.72\n",
            "-- Valutazione difensore nulla: 0.63\n",
            "\n",
            "\n",
            " - Valuzione attaccante deterministico\n",
            "-- Valutazione difensore SARSA Setup A - Decay lento e epsilon_min moderato: 0.75\n",
            "-- Valutazione difensore random: 0.73\n",
            "-- Valutazione difensore nulla: 0.65\n",
            "\n",
            "\n",
            " - Valuzione attaccante ciclico\n",
            "-- Valutazione difensore SARSA Setup A - Decay lento e epsilon_min moderato: 0.71\n",
            "-- Valutazione difensore random: 0.73\n",
            "-- Valutazione difensore nulla: 0.65\n",
            "\n",
            "\n",
            " - Valuzione attaccante random\n",
            "-- Valutazione difensore SARSA Setup B - Decay molto lento, epsilon_min più alto: 0.76\n",
            "-- Valutazione difensore random: 0.7\n",
            "-- Valutazione difensore nulla: 0.66\n",
            "\n",
            "\n",
            " - Valuzione attaccante deterministico\n",
            "-- Valutazione difensore SARSA Setup B - Decay molto lento, epsilon_min più alto: 0.8\n",
            "-- Valutazione difensore random: 0.74\n",
            "-- Valutazione difensore nulla: 0.63\n",
            "\n",
            "\n",
            " - Valuzione attaccante ciclico\n",
            "-- Valutazione difensore SARSA Setup B - Decay molto lento, epsilon_min più alto: 0.79\n",
            "-- Valutazione difensore random: 0.72\n",
            "-- Valutazione difensore nulla: 0.64\n",
            "\n",
            "\n",
            " - Valuzione attaccante random\n",
            "-- Valutazione difensore SARSA Setup C - Alpha medio e decay moderato: 0.73\n",
            "-- Valutazione difensore random: 0.75\n",
            "-- Valutazione difensore nulla: 0.63\n",
            "\n",
            "\n",
            " - Valuzione attaccante deterministico\n",
            "-- Valutazione difensore SARSA Setup C - Alpha medio e decay moderato: 0.72\n",
            "-- Valutazione difensore random: 0.76\n",
            "-- Valutazione difensore nulla: 0.6\n",
            "\n",
            "\n",
            " - Valuzione attaccante ciclico\n",
            "-- Valutazione difensore SARSA Setup C - Alpha medio e decay moderato: 0.72\n",
            "-- Valutazione difensore random: 0.73\n",
            "-- Valutazione difensore nulla: 0.68\n"
          ]
        }
      ]
    },
    {
      "cell_type": "markdown",
      "source": [
        "**ANALISI RISULTATI**\n",
        "\n",
        "Dai risultati emerge che il comportamento del difensore SARSA varia sensibilmente in base alla configurazione dei parametri di apprendimento e alla strategia adottata dall’attaccante.\n",
        "\n",
        "Setup B (édecay molto lento e epsilon_min più alto*) risulta essere il più efficace, con performance superiori rispetto agli altri difensori in quasi tutti gli scenari. In particolare, raggiunge valori di 0.80 contro un attaccante deterministico e 0.79 contro uno ciclico, superando nettamente sia il difensore random che quello nullo. Questo suggerisce che un' esplorazione prolungata, combinata con una soglia minima di esplorazione relativamente elevata, consente al difensore di apprendere strategie difensive robuste anche contro attacchi strutturati.\n",
        "\n",
        "Setup A (*decay lento e epsilon_min moderato*) mostra risultati più variabili. Ottiene 0.75 contro un attaccante deterministico, ma scende a 0.71 contro uno ciclico, risultando in alcuni casi addirittura inferiore al difensore random. Questo indica che un livello di esplorazione non sufficientemente sostenuto nel tempo può portare a politiche subottimali, specialmente contro attacchi meno prevedibili.\n",
        "\n",
        "Setup C (*alpha medio e decay moderato*) presenta risultati inferiori alle aspettative. In alcuni casi, come contro l’attaccante random (0.73) e deterministico (0.72), è addirittura superato dal difensore random (0.75–0.76). Questi dati fanno pensare che un apprendimento più rapido (alpha medio) combinato con una fase di esplorazione più breve (decay moderato) possa portare a una convergenza prematura verso strategie poco efficaci.\n",
        "\n",
        "In sintesi, il Setup B emerge come la configurazione migliore per un difensore SARSA in grado di adattarsi efficacemente a diverse tipologie di attacco. La sua capacità di mantenere un buon livello di esplorazione nel tempo sembra essere il fattore chiave per ottenere prestazioni elevate."
      ],
      "metadata": {
        "id": "vvpuWSryzbZ7"
      }
    },
    {
      "cell_type": "markdown",
      "source": [
        "______________________________________________________________\n"
      ],
      "metadata": {
        "id": "ceXkglACUy9O"
      }
    },
    {
      "cell_type": "markdown",
      "source": [
        "**AMBIENTE DI SIMULAZIONE**\n",
        "\n",
        "Il progetto utilizza la libreria gym_idsgame, specializzata nella simulazione di scenari di attacco e difesa in reti informatiche. In particolare, per un primo caso è stato scelto l’ambiente random_attack, in cui l’attaccante agisce in modo casuale, creando uno scenario realistico e dinamico per testare le strategie difensive. In un secondo caso, si è utilizzato l’ambiente maximal_attack, che simula un attacco massivo e dinamico, mettendo alla prova le abilità difensive dei nostri agenti in condizioni di forte pressione.\n",
        "\n",
        "**TRAINING: DDQN**\n",
        "\n",
        "L’addestramento del difensore è stato effettuato utilizzando l’algoritmo DDQN (Double Deep Q-Network), implementato nella funzione *ddqn_learning*. In ogni episodio, l’agente difensore seleziona un’azione seguendo una politica epsilon-greedy, alternando tra esplorazione casuale e sfruttamento delle azioni con il valore Q stimato dalla rete neurale.\n",
        "\n",
        "Durante l’interazione con l’ambiente, le esperienze (stato, azione, ricompensa, stato successivo, done) vengono accumulate in un replay buffer da cui vengono campionati mini-batch per l’addestramento. Questo meccanismo aiuta a stabilizzare l’apprendimento riducendo la correlazione tra campioni consecutivi.\n",
        "\n",
        "La rete Q viene aggiornata minimizzando la differenza tra il valore stimato e il target calcolato utilizzando la rete target, aggiornata periodicamente per migliorare la stabilità. L’aggiornamento segue la logica DDQN, che utilizza la rete principale per selezionare l’azione successiva e la rete target per stimarne il valore, riducendo il problema di sovrastima tipico dei classici DQN.\n",
        "\n",
        "Anche in questo caso, il parametro epsilon, che regola il bilanciamento tra esplorazione e sfruttamento, viene ridotto gradualmente nel corso degli episodi per favorire l’apprendimento di strategie più efficaci.\n",
        "\n",
        "Per ottimizzare le prestazioni sono state testate diverse configurazioni di parametri (setup), con variazioni su epsilon iniziale, valore minimo, decadimento di epsilon, tasso di apprendimento, dimensione del batch, frequenza di aggiornamento della rete target, e durata dell’addestramento. Questi setup hanno permesso di analizzare l’impatto dei parametri sull’efficacia dell’apprendimento del difensore.\n",
        "\n",
        "I risultati sono stati confrontati visualizzando la media mobile dei reward durante gli episodi, evidenziando come diversi setup influenzino la velocità e la qualità dell’apprendimento in ambienti dinamici. Questa metodologia ha facilitato l’individuazione di configurazioni ottimali per il training e la valutazione della robustezza della politica difensiva appresa.\n",
        "\n",
        "**REWARD SHAPING**\n",
        "\n",
        "Nel presente lavoro, abbiamo introdotto il reward shaping nel training con DDQN, mentre non è stato applicato nel caso di SARSA, principalmente a causa della differenza sostanziale tra i due algoritmi: DDQN è un metodo off-policy, mentre SARSA è on-policy. In particolare, nel DDQN, essendo off-policy, l’algoritmo apprende la funzione di valore associata a una policy ottimale indipendentemente dalla policy utilizzata per l’esplorazione dell’ambiente. Tale caratteristica consente di modificare la funzione di ricompensa — ad esempio tramite reward shaping — senza influenzare direttamente la policy di comportamento e senza compromettere la convergenza dell’apprendimento. Al contrario, SARSA apprende il valore della policy effettivamente seguita durante l’interazione con l’ambiente (on-policy); di conseguenza, ogni modifica alla funzione di ricompensa impatta direttamente sulla policy esplorativa e sul processo di apprendimento, potenzialmente introducendo bias o instabilità. Per tali ragioni, il reward shaping risulta più sicuro ed efficace nel contesto di algoritmi off-policy come DDQN, mentre nel caso di SARSA è necessario adottare approcci più formali e cauti, quali lo shaping basato su potenziali, al fine di evitare alterazioni indesiderate della policy on-policy durante il training."
      ],
      "metadata": {
        "id": "2p3xa7D2COEP"
      }
    },
    {
      "cell_type": "code",
      "source": [
        "from collections import deque\n",
        "import torch.nn as nn\n",
        "import torch.optim as optim\n",
        "from tqdm import tqdm\n",
        "device = torch.device(\"cuda\" if torch.cuda.is_available() else \"cpu\")\n",
        "\n",
        "# Funzione di preprocessing dello stato\n",
        "def preprocess_state(state):\n",
        "    if isinstance(state, tuple):\n",
        "        state = state[0]\n",
        "    return np.array(state).flatten()\n",
        "\n",
        "# Campionamento di esperienze dal replay buffer\n",
        "def sample_experience(buffer, batch_size):\n",
        "    batch = random.sample(buffer, batch_size)\n",
        "    states, actions, rewards, next_states, dones = zip(*batch)\n",
        "    return np.array(states), actions, rewards, np.array(next_states), dones\n",
        "\n",
        "class DQN(nn.Module):\n",
        "    def __init__(self, state_size, action_size):\n",
        "        super(DQN, self).__init__()\n",
        "        self.fc1 = nn.Linear(state_size, 512)\n",
        "        self.fc2 = nn.Linear(512, 512)\n",
        "        self.fc3 = nn.Linear(512, action_size)\n",
        "\n",
        "    def forward(self, x):\n",
        "        x = torch.relu(self.fc1(x))\n",
        "        x = torch.relu(self.fc2(x))\n",
        "        return self.fc3(x)\n",
        "\n",
        "#  epsilon-greedy per il difensore\n",
        "def select_defender_action(state, epsilon, q_network, env):\n",
        "    state = preprocess_state(state)\n",
        "    if random.random() < epsilon:\n",
        "        return env.defender_action_space.sample()\n",
        "    else:\n",
        "        with torch.no_grad():\n",
        "            state_tensor = torch.FloatTensor(state).unsqueeze(0).to(device)\n",
        "            q_values = q_network(state_tensor)\n",
        "            return torch.argmax(q_values).item()\n",
        "\n",
        "def ddqn_learning(\n",
        "    env,\n",
        "    q_network,\n",
        "    target_network,\n",
        "    optimizer,\n",
        "    criterion,\n",
        "    buffer_maxlen=100000,\n",
        "    batch_size=64,\n",
        "    gamma=0.99,\n",
        "    epsilon=1.0,\n",
        "    epsilon_min=0.01,\n",
        "    epsilon_decay=0.995,\n",
        "    update_target_every=10,\n",
        "    num_episodes=500,\n",
        "    print_every=50,\n",
        "    reward_shaping=True\n",
        "):\n",
        "    def shape_reward(r):\n",
        "        reward_def = r[1] if isinstance(r, tuple) else r\n",
        "\n",
        "        if not reward_shaping:\n",
        "            return reward_def\n",
        "\n",
        "        if reward_def > 0:\n",
        "            return reward_def + 0.1\n",
        "        elif reward_def < 0:\n",
        "            return reward_def - 0.1\n",
        "        else:\n",
        "            return -0.02\n",
        "\n",
        "    # modelli sul device corretto\n",
        "    q_network.to(device)\n",
        "    target_network.to(device)\n",
        "\n",
        "    buffer = deque(maxlen=buffer_maxlen)\n",
        "    episode_rewards = []\n",
        "\n",
        "    for episode in tqdm(range(num_episodes)):\n",
        "        state = preprocess_state(env.reset())\n",
        "        done = False\n",
        "        total_reward = 0\n",
        "\n",
        "        while not done:\n",
        "            action_att = env.attacker_action_space.sample()\n",
        "            action_def = select_defender_action(state, epsilon, q_network, env)\n",
        "\n",
        "            next_state, reward, done, _ = env.step((action_att, action_def))\n",
        "            next_state = preprocess_state(next_state)\n",
        "\n",
        "            shaped_reward = shape_reward(reward)\n",
        "\n",
        "            buffer.append((state, action_def, shaped_reward, next_state, float(done)))\n",
        "            state = next_state\n",
        "            total_reward += shaped_reward\n",
        "\n",
        "            if len(buffer) >= batch_size:\n",
        "                states, actions, rewards, next_states, dones = sample_experience(buffer, batch_size)\n",
        "\n",
        "                states = torch.tensor(states, dtype=torch.float32, device=device)\n",
        "                next_states = torch.tensor(next_states, dtype=torch.float32, device=device)\n",
        "                actions = torch.tensor(actions, dtype=torch.int64, device=device)\n",
        "                rewards = torch.tensor(rewards, dtype=torch.float32, device=device)\n",
        "                dones = torch.tensor(dones, dtype=torch.float32, device=device)\n",
        "\n",
        "\n",
        "\n",
        "                q_network.train()\n",
        "\n",
        "                q_out = q_network(states)\n",
        "\n",
        "                q_values = q_out.gather(1, actions.unsqueeze(1)).squeeze(1)\n",
        "\n",
        "                with torch.no_grad():\n",
        "                    next_actions = q_network(next_states).argmax(dim=1)\n",
        "                    next_q_values = target_network(next_states).gather(1, next_actions.unsqueeze(1)).squeeze(1)\n",
        "                    target_q = rewards + gamma * next_q_values * (1 - dones)\n",
        "\n",
        "                loss = criterion(q_values, target_q)\n",
        "\n",
        "                optimizer.zero_grad()\n",
        "                loss.backward()\n",
        "                optimizer.step()\n",
        "\n",
        "        if episode % update_target_every == 0:\n",
        "            target_network.load_state_dict(q_network.state_dict())\n",
        "\n",
        "        epsilon = max(epsilon_min, epsilon * epsilon_decay)\n",
        "        episode_rewards.append(total_reward)\n",
        "\n",
        "        if episode % print_every == 0:\n",
        "            avg_reward = np.mean(episode_rewards[-print_every:])\n",
        "            print(f\"Episode {episode} | AvgReward: {avg_reward:.2f} | Epsilon: {epsilon:.3f}\")\n",
        "\n",
        "    return q_network, episode_rewards"
      ],
      "metadata": {
        "id": "ccB5GjyOS9Pj"
      },
      "execution_count": null,
      "outputs": []
    },
    {
      "cell_type": "code",
      "source": [
        "import numpy as np\n",
        "import random\n",
        "import torch\n",
        "import matplotlib.pyplot as plt\n",
        "import gymnasium as gym\n",
        "import gym_idsgame\n",
        "from gym_idsgame.envs import IdsGameRandomAttackV0Env as random_attack\n",
        "\n",
        "\n",
        "# Funzione per media mobile\n",
        "#def moving_average(x, window=100):\n",
        "#   return np.convolve(x, np.ones(window)/window, mode='valid')\n",
        "\n",
        "setups = [\n",
        "    {\n",
        "        \"name\": \"Setup A - Equilibrio generale\",\n",
        "        \"epsilon\": 1.0,\n",
        "        \"epsilon_min\": 0.01,\n",
        "        \"epsilon_decay\": 0.992,    # decay moderato\n",
        "        \"gamma\": 0.985,            # alto fattore di sconto per valorizzare ricompense future\n",
        "        \"batch_size\": 64,\n",
        "        \"buffer_maxlen\": 50000,    # buffer non troppo grande, per esperienze recenti\n",
        "        \"update_target_every\": 10,\n",
        "        \"num_episodes\": 40000,\n",
        "        \"lr\": 3e-4                 # learning rate medio\n",
        "    },\n",
        "    {\n",
        "        \"name\": \"Setup B - Esplorazione più lunga\",\n",
        "        \"epsilon\": 1.0,\n",
        "        \"epsilon_min\": 0.05,       # epsilon_min più alto per più esplorazione anche a fine training\n",
        "        \"epsilon_decay\": 0.995,    # decay lento per esplorare a lungo\n",
        "        \"gamma\": 0.99,\n",
        "        \"batch_size\": 64,\n",
        "        \"buffer_maxlen\": 60000,\n",
        "        \"update_target_every\": 20,\n",
        "        \"num_episodes\": 50000,\n",
        "        \"lr\": 1e-4                 # learning rate più basso per stabilità\n",
        "    },\n",
        "    {\n",
        "        \"name\": \"Setup C - Apprendimento più aggressivo\",\n",
        "        \"epsilon\": 1.0,\n",
        "        \"epsilon_min\": 0.01,\n",
        "        \"epsilon_decay\": 0.985,    # decay più veloce per sfruttare la policy\n",
        "        \"gamma\": 0.98,\n",
        "        \"batch_size\": 128,         # batch più grande\n",
        "        \"buffer_maxlen\": 40000,\n",
        "        \"update_target_every\": 5,\n",
        "        \"num_episodes\": 35000,\n",
        "        \"lr\": 5e-4                 # learning rate più alto per apprendimento rapido\n",
        "    }\n",
        "]\n",
        "\n",
        "results = []\n",
        "\n",
        "for setup in setups:\n",
        "    print(f\"\\nAvvio training con: {setup['name']}\")\n",
        "    env = random_attack()\n",
        "\n",
        "    sample_state = env.reset()\n",
        "    if isinstance(sample_state, tuple):\n",
        "        sample_state = sample_state[0]\n",
        "    state_size = len(np.array(sample_state).flatten())\n",
        "    action_size = env.defender_action_space.n\n",
        "\n",
        "    q_network = DQN(state_size, action_size).to(device)\n",
        "    target_network = DQN(state_size, action_size).to(device)\n",
        "    target_network.load_state_dict(q_network.state_dict())\n",
        "\n",
        "    optimizer = torch.optim.Adam(q_network.parameters(), lr=setup[\"lr\"])\n",
        "    criterion = torch.nn.MSELoss()\n",
        "\n",
        "    q_net_trained, rewards = ddqn_learning(\n",
        "        env=env,\n",
        "        q_network=q_network,\n",
        "        target_network=target_network,\n",
        "        optimizer=optimizer,\n",
        "        criterion=criterion,\n",
        "        buffer_maxlen=setup[\"buffer_maxlen\"],\n",
        "        batch_size=setup[\"batch_size\"],\n",
        "        gamma=setup[\"gamma\"],\n",
        "        epsilon=setup[\"epsilon\"],\n",
        "        epsilon_min=setup[\"epsilon_min\"],\n",
        "        epsilon_decay=setup[\"epsilon_decay\"],\n",
        "        update_target_every=setup[\"update_target_every\"],\n",
        "        num_episodes=setup[\"num_episodes\"],\n",
        "        print_every=1000\n",
        "    )\n",
        "\n",
        "    results.append((setup[\"name\"], rewards, q_net_trained))\n",
        "    env.close()\n"
      ],
      "metadata": {
        "id": "xnHxEotySzRk",
        "colab": {
          "base_uri": "https://localhost:8080/",
          "height": 1000
        },
        "outputId": "53f73e42-8c44-4924-8d65-70882f59a044"
      },
      "execution_count": null,
      "outputs": [
        {
          "output_type": "stream",
          "name": "stdout",
          "text": [
            "\n",
            "Avvio training con: Setup A - Equilibrio generale\n"
          ]
        },
        {
          "output_type": "stream",
          "name": "stderr",
          "text": [
            "  0%|          | 28/40000 [00:00<02:27, 271.65it/s]"
          ]
        },
        {
          "output_type": "stream",
          "name": "stdout",
          "text": [
            "Episode 0 | AvgReward: 1.08 | Epsilon: 0.992\n"
          ]
        },
        {
          "output_type": "stream",
          "name": "stderr",
          "text": [
            "  3%|▎         | 1012/40000 [00:14<10:46, 60.29it/s]"
          ]
        },
        {
          "output_type": "stream",
          "name": "stdout",
          "text": [
            "Episode 1000 | AvgReward: 0.77 | Epsilon: 0.010\n"
          ]
        },
        {
          "output_type": "stream",
          "name": "stderr",
          "text": [
            "  5%|▌         | 2010/40000 [00:31<11:46, 53.80it/s]"
          ]
        },
        {
          "output_type": "stream",
          "name": "stdout",
          "text": [
            "Episode 2000 | AvgReward: 0.78 | Epsilon: 0.010\n"
          ]
        },
        {
          "output_type": "stream",
          "name": "stderr",
          "text": [
            "  8%|▊         | 3012/40000 [00:46<08:02, 76.59it/s]"
          ]
        },
        {
          "output_type": "stream",
          "name": "stdout",
          "text": [
            "Episode 3000 | AvgReward: 0.76 | Epsilon: 0.010\n"
          ]
        },
        {
          "output_type": "stream",
          "name": "stderr",
          "text": [
            " 10%|█         | 4007/40000 [01:02<08:35, 69.78it/s]"
          ]
        },
        {
          "output_type": "stream",
          "name": "stdout",
          "text": [
            "Episode 4000 | AvgReward: 0.81 | Epsilon: 0.010\n"
          ]
        },
        {
          "output_type": "stream",
          "name": "stderr",
          "text": [
            " 13%|█▎        | 5008/40000 [01:21<09:02, 64.45it/s]"
          ]
        },
        {
          "output_type": "stream",
          "name": "stdout",
          "text": [
            "Episode 5000 | AvgReward: 0.76 | Epsilon: 0.010\n"
          ]
        },
        {
          "output_type": "stream",
          "name": "stderr",
          "text": [
            " 15%|█▌        | 6012/40000 [01:38<07:53, 71.73it/s]"
          ]
        },
        {
          "output_type": "stream",
          "name": "stdout",
          "text": [
            "Episode 6000 | AvgReward: 0.76 | Epsilon: 0.010\n"
          ]
        },
        {
          "output_type": "stream",
          "name": "stderr",
          "text": [
            " 18%|█▊        | 7005/40000 [01:54<10:30, 52.32it/s]"
          ]
        },
        {
          "output_type": "stream",
          "name": "stdout",
          "text": [
            "Episode 7000 | AvgReward: 0.74 | Epsilon: 0.010\n"
          ]
        },
        {
          "output_type": "stream",
          "name": "stderr",
          "text": [
            " 20%|██        | 8013/40000 [02:11<07:20, 72.67it/s]"
          ]
        },
        {
          "output_type": "stream",
          "name": "stdout",
          "text": [
            "Episode 8000 | AvgReward: 0.72 | Epsilon: 0.010\n"
          ]
        },
        {
          "output_type": "stream",
          "name": "stderr",
          "text": [
            " 23%|██▎       | 9016/40000 [02:27<06:29, 79.53it/s]"
          ]
        },
        {
          "output_type": "stream",
          "name": "stdout",
          "text": [
            "Episode 9000 | AvgReward: 0.76 | Epsilon: 0.010\n"
          ]
        },
        {
          "output_type": "stream",
          "name": "stderr",
          "text": [
            " 25%|██▌       | 10008/40000 [02:42<09:12, 54.26it/s]"
          ]
        },
        {
          "output_type": "stream",
          "name": "stdout",
          "text": [
            "Episode 10000 | AvgReward: 0.74 | Epsilon: 0.010\n"
          ]
        },
        {
          "output_type": "stream",
          "name": "stderr",
          "text": [
            " 28%|██▊       | 11017/40000 [02:59<06:22, 75.84it/s]"
          ]
        },
        {
          "output_type": "stream",
          "name": "stdout",
          "text": [
            "Episode 11000 | AvgReward: 0.71 | Epsilon: 0.010\n"
          ]
        },
        {
          "output_type": "stream",
          "name": "stderr",
          "text": [
            " 30%|███       | 12011/40000 [03:15<06:44, 69.26it/s]"
          ]
        },
        {
          "output_type": "stream",
          "name": "stdout",
          "text": [
            "Episode 12000 | AvgReward: 0.74 | Epsilon: 0.010\n"
          ]
        },
        {
          "output_type": "stream",
          "name": "stderr",
          "text": [
            " 33%|███▎      | 13007/40000 [03:31<07:01, 64.09it/s]"
          ]
        },
        {
          "output_type": "stream",
          "name": "stdout",
          "text": [
            "Episode 13000 | AvgReward: 0.71 | Epsilon: 0.010\n"
          ]
        },
        {
          "output_type": "stream",
          "name": "stderr",
          "text": [
            " 35%|███▌      | 14005/40000 [03:48<05:52, 73.77it/s]"
          ]
        },
        {
          "output_type": "stream",
          "name": "stdout",
          "text": [
            "Episode 14000 | AvgReward: 0.73 | Epsilon: 0.010\n"
          ]
        },
        {
          "output_type": "stream",
          "name": "stderr",
          "text": [
            " 38%|███▊      | 15016/40000 [04:04<05:40, 73.35it/s]"
          ]
        },
        {
          "output_type": "stream",
          "name": "stdout",
          "text": [
            "Episode 15000 | AvgReward: 0.71 | Epsilon: 0.010\n"
          ]
        },
        {
          "output_type": "stream",
          "name": "stderr",
          "text": [
            " 40%|████      | 16009/40000 [04:20<06:23, 62.61it/s]"
          ]
        },
        {
          "output_type": "stream",
          "name": "stdout",
          "text": [
            "Episode 16000 | AvgReward: 0.72 | Epsilon: 0.010\n"
          ]
        },
        {
          "output_type": "stream",
          "name": "stderr",
          "text": [
            " 43%|████▎     | 17010/40000 [04:37<06:26, 59.55it/s]"
          ]
        },
        {
          "output_type": "stream",
          "name": "stdout",
          "text": [
            "Episode 17000 | AvgReward: 0.74 | Epsilon: 0.010\n"
          ]
        },
        {
          "output_type": "stream",
          "name": "stderr",
          "text": [
            " 45%|████▌     | 18016/40000 [04:53<05:11, 70.51it/s]"
          ]
        },
        {
          "output_type": "stream",
          "name": "stdout",
          "text": [
            "Episode 18000 | AvgReward: 0.71 | Epsilon: 0.010\n"
          ]
        },
        {
          "output_type": "stream",
          "name": "stderr",
          "text": [
            " 48%|████▊     | 19007/40000 [05:10<06:53, 50.82it/s]"
          ]
        },
        {
          "output_type": "stream",
          "name": "stdout",
          "text": [
            "Episode 19000 | AvgReward: 0.71 | Epsilon: 0.010\n"
          ]
        },
        {
          "output_type": "stream",
          "name": "stderr",
          "text": [
            " 50%|█████     | 20018/40000 [05:26<04:14, 78.47it/s]"
          ]
        },
        {
          "output_type": "stream",
          "name": "stdout",
          "text": [
            "Episode 20000 | AvgReward: 0.73 | Epsilon: 0.010\n"
          ]
        },
        {
          "output_type": "stream",
          "name": "stderr",
          "text": [
            " 53%|█████▎    | 21013/40000 [05:43<04:39, 68.03it/s]"
          ]
        },
        {
          "output_type": "stream",
          "name": "stdout",
          "text": [
            "Episode 21000 | AvgReward: 0.71 | Epsilon: 0.010\n"
          ]
        },
        {
          "output_type": "stream",
          "name": "stderr",
          "text": [
            " 55%|█████▌    | 22010/40000 [06:00<05:14, 57.14it/s]"
          ]
        },
        {
          "output_type": "stream",
          "name": "stdout",
          "text": [
            "Episode 22000 | AvgReward: 0.74 | Epsilon: 0.010\n"
          ]
        },
        {
          "output_type": "stream",
          "name": "stderr",
          "text": [
            " 58%|█████▊    | 23014/40000 [06:16<04:16, 66.32it/s]"
          ]
        },
        {
          "output_type": "stream",
          "name": "stdout",
          "text": [
            "Episode 23000 | AvgReward: 0.69 | Epsilon: 0.010\n"
          ]
        },
        {
          "output_type": "stream",
          "name": "stderr",
          "text": [
            " 60%|██████    | 24009/40000 [06:32<03:32, 75.43it/s]"
          ]
        },
        {
          "output_type": "stream",
          "name": "stdout",
          "text": [
            "Episode 24000 | AvgReward: 0.73 | Epsilon: 0.010\n"
          ]
        },
        {
          "output_type": "stream",
          "name": "stderr",
          "text": [
            " 63%|██████▎   | 25013/40000 [06:49<04:13, 59.17it/s]"
          ]
        },
        {
          "output_type": "stream",
          "name": "stdout",
          "text": [
            "Episode 25000 | AvgReward: 0.74 | Epsilon: 0.010\n"
          ]
        },
        {
          "output_type": "stream",
          "name": "stderr",
          "text": [
            " 65%|██████▌   | 26009/40000 [07:05<03:12, 72.57it/s]"
          ]
        },
        {
          "output_type": "stream",
          "name": "stdout",
          "text": [
            "Episode 26000 | AvgReward: 0.73 | Epsilon: 0.010\n"
          ]
        },
        {
          "output_type": "stream",
          "name": "stderr",
          "text": [
            " 68%|██████▊   | 27011/40000 [07:21<03:26, 62.78it/s]"
          ]
        },
        {
          "output_type": "stream",
          "name": "stdout",
          "text": [
            "Episode 27000 | AvgReward: 0.72 | Epsilon: 0.010\n"
          ]
        },
        {
          "output_type": "stream",
          "name": "stderr",
          "text": [
            " 70%|███████   | 28014/40000 [07:38<02:58, 67.33it/s]"
          ]
        },
        {
          "output_type": "stream",
          "name": "stdout",
          "text": [
            "Episode 28000 | AvgReward: 0.75 | Epsilon: 0.010\n"
          ]
        },
        {
          "output_type": "stream",
          "name": "stderr",
          "text": [
            " 73%|███████▎  | 29009/40000 [07:55<03:10, 57.63it/s]"
          ]
        },
        {
          "output_type": "stream",
          "name": "stdout",
          "text": [
            "Episode 29000 | AvgReward: 0.70 | Epsilon: 0.010\n"
          ]
        },
        {
          "output_type": "stream",
          "name": "stderr",
          "text": [
            " 75%|███████▌  | 30006/40000 [08:12<04:20, 38.39it/s]"
          ]
        },
        {
          "output_type": "stream",
          "name": "stdout",
          "text": [
            "Episode 30000 | AvgReward: 0.76 | Epsilon: 0.010\n"
          ]
        },
        {
          "output_type": "stream",
          "name": "stderr",
          "text": [
            " 78%|███████▊  | 31019/40000 [08:29<01:42, 87.91it/s]"
          ]
        },
        {
          "output_type": "stream",
          "name": "stdout",
          "text": [
            "Episode 31000 | AvgReward: 0.76 | Epsilon: 0.010\n"
          ]
        },
        {
          "output_type": "stream",
          "name": "stderr",
          "text": [
            " 80%|████████  | 32007/40000 [08:46<02:33, 51.94it/s]"
          ]
        },
        {
          "output_type": "stream",
          "name": "stdout",
          "text": [
            "Episode 32000 | AvgReward: 0.73 | Epsilon: 0.010\n"
          ]
        },
        {
          "output_type": "stream",
          "name": "stderr",
          "text": [
            " 83%|████████▎ | 33007/40000 [09:04<01:40, 69.33it/s]"
          ]
        },
        {
          "output_type": "stream",
          "name": "stdout",
          "text": [
            "Episode 33000 | AvgReward: 0.75 | Epsilon: 0.010\n"
          ]
        },
        {
          "output_type": "stream",
          "name": "stderr",
          "text": [
            " 85%|████████▌ | 34007/40000 [09:21<01:45, 56.68it/s]"
          ]
        },
        {
          "output_type": "stream",
          "name": "stdout",
          "text": [
            "Episode 34000 | AvgReward: 0.77 | Epsilon: 0.010\n"
          ]
        },
        {
          "output_type": "stream",
          "name": "stderr",
          "text": [
            " 88%|████████▊ | 35007/40000 [09:37<01:40, 49.59it/s]"
          ]
        },
        {
          "output_type": "stream",
          "name": "stdout",
          "text": [
            "Episode 35000 | AvgReward: 0.78 | Epsilon: 0.010\n"
          ]
        },
        {
          "output_type": "stream",
          "name": "stderr",
          "text": [
            " 90%|█████████ | 36011/40000 [09:54<01:05, 61.03it/s]"
          ]
        },
        {
          "output_type": "stream",
          "name": "stdout",
          "text": [
            "Episode 36000 | AvgReward: 0.79 | Epsilon: 0.010\n"
          ]
        },
        {
          "output_type": "stream",
          "name": "stderr",
          "text": [
            " 93%|█████████▎| 37008/40000 [10:10<00:55, 53.62it/s]"
          ]
        },
        {
          "output_type": "stream",
          "name": "stdout",
          "text": [
            "Episode 37000 | AvgReward: 0.73 | Epsilon: 0.010\n"
          ]
        },
        {
          "output_type": "stream",
          "name": "stderr",
          "text": [
            " 95%|█████████▌| 38005/40000 [10:29<00:55, 36.13it/s]"
          ]
        },
        {
          "output_type": "stream",
          "name": "stdout",
          "text": [
            "Episode 38000 | AvgReward: 0.78 | Epsilon: 0.010\n"
          ]
        },
        {
          "output_type": "stream",
          "name": "stderr",
          "text": [
            " 98%|█████████▊| 39010/40000 [10:46<00:18, 54.19it/s]"
          ]
        },
        {
          "output_type": "stream",
          "name": "stdout",
          "text": [
            "Episode 39000 | AvgReward: 0.78 | Epsilon: 0.010\n"
          ]
        },
        {
          "output_type": "stream",
          "name": "stderr",
          "text": [
            "100%|██████████| 40000/40000 [11:02<00:00, 60.35it/s]\n"
          ]
        },
        {
          "output_type": "stream",
          "name": "stdout",
          "text": [
            "\n",
            "Avvio training con: Setup B - Esplorazione più lunga\n"
          ]
        },
        {
          "output_type": "stream",
          "name": "stderr",
          "text": [
            "  0%|          | 19/50000 [00:00<05:23, 154.68it/s]"
          ]
        },
        {
          "output_type": "stream",
          "name": "stdout",
          "text": [
            "Episode 0 | AvgReward: -1.20 | Epsilon: 0.995\n"
          ]
        },
        {
          "output_type": "stream",
          "name": "stderr",
          "text": [
            "  2%|▏         | 1013/50000 [00:14<11:42, 69.73it/s]"
          ]
        },
        {
          "output_type": "stream",
          "name": "stdout",
          "text": [
            "Episode 1000 | AvgReward: 0.72 | Epsilon: 0.050\n"
          ]
        },
        {
          "output_type": "stream",
          "name": "stderr",
          "text": [
            "  4%|▍         | 2009/50000 [00:29<11:00, 72.66it/s]"
          ]
        },
        {
          "output_type": "stream",
          "name": "stdout",
          "text": [
            "Episode 2000 | AvgReward: 0.75 | Epsilon: 0.050\n"
          ]
        },
        {
          "output_type": "stream",
          "name": "stderr",
          "text": [
            "  6%|▌         | 3014/50000 [00:44<11:06, 70.53it/s]"
          ]
        },
        {
          "output_type": "stream",
          "name": "stdout",
          "text": [
            "Episode 3000 | AvgReward: 0.74 | Epsilon: 0.050\n"
          ]
        },
        {
          "output_type": "stream",
          "name": "stderr",
          "text": [
            "  8%|▊         | 4011/50000 [00:59<11:35, 66.14it/s]"
          ]
        },
        {
          "output_type": "stream",
          "name": "stdout",
          "text": [
            "Episode 4000 | AvgReward: 0.75 | Epsilon: 0.050\n"
          ]
        },
        {
          "output_type": "stream",
          "name": "stderr",
          "text": [
            " 10%|█         | 5006/50000 [01:17<09:55, 75.60it/s]"
          ]
        },
        {
          "output_type": "stream",
          "name": "stdout",
          "text": [
            "Episode 5000 | AvgReward: 0.76 | Epsilon: 0.050\n"
          ]
        },
        {
          "output_type": "stream",
          "name": "stderr",
          "text": [
            " 12%|█▏        | 6004/50000 [01:34<14:42, 49.83it/s]"
          ]
        },
        {
          "output_type": "stream",
          "name": "stdout",
          "text": [
            "Episode 6000 | AvgReward: 0.73 | Epsilon: 0.050\n"
          ]
        },
        {
          "output_type": "stream",
          "name": "stderr",
          "text": [
            " 14%|█▍        | 7010/50000 [01:52<14:45, 48.54it/s]"
          ]
        },
        {
          "output_type": "stream",
          "name": "stdout",
          "text": [
            "Episode 7000 | AvgReward: 0.74 | Epsilon: 0.050\n"
          ]
        },
        {
          "output_type": "stream",
          "name": "stderr",
          "text": [
            " 16%|█▌        | 8017/50000 [02:08<09:15, 75.51it/s]"
          ]
        },
        {
          "output_type": "stream",
          "name": "stdout",
          "text": [
            "Episode 8000 | AvgReward: 0.72 | Epsilon: 0.050\n"
          ]
        },
        {
          "output_type": "stream",
          "name": "stderr",
          "text": [
            " 18%|█▊        | 9012/50000 [02:23<10:47, 63.30it/s]"
          ]
        },
        {
          "output_type": "stream",
          "name": "stdout",
          "text": [
            "Episode 9000 | AvgReward: 0.78 | Epsilon: 0.050\n"
          ]
        },
        {
          "output_type": "stream",
          "name": "stderr",
          "text": [
            " 20%|██        | 10005/50000 [02:39<12:03, 55.31it/s]"
          ]
        },
        {
          "output_type": "stream",
          "name": "stdout",
          "text": [
            "Episode 10000 | AvgReward: 0.78 | Epsilon: 0.050\n"
          ]
        },
        {
          "output_type": "stream",
          "name": "stderr",
          "text": [
            " 22%|██▏       | 11008/50000 [02:56<09:48, 66.21it/s]"
          ]
        },
        {
          "output_type": "stream",
          "name": "stdout",
          "text": [
            "Episode 11000 | AvgReward: 0.76 | Epsilon: 0.050\n"
          ]
        },
        {
          "output_type": "stream",
          "name": "stderr",
          "text": [
            " 24%|██▍       | 12013/50000 [03:13<10:56, 57.86it/s]"
          ]
        },
        {
          "output_type": "stream",
          "name": "stdout",
          "text": [
            "Episode 12000 | AvgReward: 0.78 | Epsilon: 0.050\n"
          ]
        },
        {
          "output_type": "stream",
          "name": "stderr",
          "text": [
            " 26%|██▌       | 13008/50000 [03:30<09:09, 67.32it/s]"
          ]
        },
        {
          "output_type": "stream",
          "name": "stdout",
          "text": [
            "Episode 13000 | AvgReward: 0.80 | Epsilon: 0.050\n"
          ]
        },
        {
          "output_type": "stream",
          "name": "stderr",
          "text": [
            " 28%|██▊       | 14008/50000 [03:49<08:27, 70.92it/s]"
          ]
        },
        {
          "output_type": "stream",
          "name": "stdout",
          "text": [
            "Episode 14000 | AvgReward: 0.80 | Epsilon: 0.050\n"
          ]
        },
        {
          "output_type": "stream",
          "name": "stderr",
          "text": [
            " 30%|███       | 15003/50000 [04:05<14:35, 39.99it/s]"
          ]
        },
        {
          "output_type": "stream",
          "name": "stdout",
          "text": [
            "Episode 15000 | AvgReward: 0.72 | Epsilon: 0.050\n"
          ]
        },
        {
          "output_type": "stream",
          "name": "stderr",
          "text": [
            " 32%|███▏      | 16010/50000 [04:22<09:35, 59.05it/s]"
          ]
        },
        {
          "output_type": "stream",
          "name": "stdout",
          "text": [
            "Episode 16000 | AvgReward: 0.77 | Epsilon: 0.050\n"
          ]
        },
        {
          "output_type": "stream",
          "name": "stderr",
          "text": [
            " 34%|███▍      | 17009/50000 [04:37<08:08, 67.59it/s]"
          ]
        },
        {
          "output_type": "stream",
          "name": "stdout",
          "text": [
            "Episode 17000 | AvgReward: 0.80 | Epsilon: 0.050\n"
          ]
        },
        {
          "output_type": "stream",
          "name": "stderr",
          "text": [
            " 36%|███▌      | 18011/50000 [04:55<09:08, 58.33it/s]"
          ]
        },
        {
          "output_type": "stream",
          "name": "stdout",
          "text": [
            "Episode 18000 | AvgReward: 0.81 | Epsilon: 0.050\n"
          ]
        },
        {
          "output_type": "stream",
          "name": "stderr",
          "text": [
            " 38%|███▊      | 19011/50000 [05:12<07:40, 67.26it/s]"
          ]
        },
        {
          "output_type": "stream",
          "name": "stdout",
          "text": [
            "Episode 19000 | AvgReward: 0.79 | Epsilon: 0.050\n"
          ]
        },
        {
          "output_type": "stream",
          "name": "stderr",
          "text": [
            " 40%|████      | 20007/50000 [05:28<08:33, 58.45it/s]"
          ]
        },
        {
          "output_type": "stream",
          "name": "stdout",
          "text": [
            "Episode 20000 | AvgReward: 0.80 | Epsilon: 0.050\n"
          ]
        },
        {
          "output_type": "stream",
          "name": "stderr",
          "text": [
            " 42%|████▏     | 21009/50000 [05:45<07:35, 63.64it/s]"
          ]
        },
        {
          "output_type": "stream",
          "name": "stdout",
          "text": [
            "Episode 21000 | AvgReward: 0.76 | Epsilon: 0.050\n"
          ]
        },
        {
          "output_type": "stream",
          "name": "stderr",
          "text": [
            " 44%|████▍     | 22008/50000 [06:02<08:21, 55.85it/s]"
          ]
        },
        {
          "output_type": "stream",
          "name": "stdout",
          "text": [
            "Episode 22000 | AvgReward: 0.80 | Epsilon: 0.050\n"
          ]
        },
        {
          "output_type": "stream",
          "name": "stderr",
          "text": [
            " 46%|████▌     | 23010/50000 [06:18<07:05, 63.49it/s]"
          ]
        },
        {
          "output_type": "stream",
          "name": "stdout",
          "text": [
            "Episode 23000 | AvgReward: 0.80 | Epsilon: 0.050\n"
          ]
        },
        {
          "output_type": "stream",
          "name": "stderr",
          "text": [
            " 48%|████▊     | 24005/50000 [06:34<06:48, 63.57it/s]"
          ]
        },
        {
          "output_type": "stream",
          "name": "stdout",
          "text": [
            "Episode 24000 | AvgReward: 0.78 | Epsilon: 0.050\n"
          ]
        },
        {
          "output_type": "stream",
          "name": "stderr",
          "text": [
            " 50%|█████     | 25010/50000 [06:51<06:36, 63.02it/s]"
          ]
        },
        {
          "output_type": "stream",
          "name": "stdout",
          "text": [
            "Episode 25000 | AvgReward: 0.78 | Epsilon: 0.050\n"
          ]
        },
        {
          "output_type": "stream",
          "name": "stderr",
          "text": [
            " 52%|█████▏    | 26013/50000 [07:09<07:35, 52.71it/s]"
          ]
        },
        {
          "output_type": "stream",
          "name": "stdout",
          "text": [
            "Episode 26000 | AvgReward: 0.75 | Epsilon: 0.050\n"
          ]
        },
        {
          "output_type": "stream",
          "name": "stderr",
          "text": [
            " 54%|█████▍    | 27015/50000 [07:25<04:46, 80.26it/s]"
          ]
        },
        {
          "output_type": "stream",
          "name": "stdout",
          "text": [
            "Episode 27000 | AvgReward: 0.79 | Epsilon: 0.050\n"
          ]
        },
        {
          "output_type": "stream",
          "name": "stderr",
          "text": [
            " 56%|█████▌    | 28011/50000 [07:41<05:32, 66.13it/s]"
          ]
        },
        {
          "output_type": "stream",
          "name": "stdout",
          "text": [
            "Episode 28000 | AvgReward: 0.80 | Epsilon: 0.050\n"
          ]
        },
        {
          "output_type": "stream",
          "name": "stderr",
          "text": [
            " 58%|█████▊    | 29013/50000 [07:58<05:59, 58.36it/s]"
          ]
        },
        {
          "output_type": "stream",
          "name": "stdout",
          "text": [
            "Episode 29000 | AvgReward: 0.80 | Epsilon: 0.050\n"
          ]
        },
        {
          "output_type": "stream",
          "name": "stderr",
          "text": [
            " 60%|██████    | 30008/50000 [08:15<04:46, 69.85it/s]"
          ]
        },
        {
          "output_type": "stream",
          "name": "stdout",
          "text": [
            "Episode 30000 | AvgReward: 0.80 | Epsilon: 0.050\n"
          ]
        },
        {
          "output_type": "stream",
          "name": "stderr",
          "text": [
            " 62%|██████▏   | 31009/50000 [08:32<04:54, 64.38it/s]"
          ]
        },
        {
          "output_type": "stream",
          "name": "stdout",
          "text": [
            "Episode 31000 | AvgReward: 0.81 | Epsilon: 0.050\n"
          ]
        },
        {
          "output_type": "stream",
          "name": "stderr",
          "text": [
            " 64%|██████▍   | 32008/50000 [08:50<06:25, 46.70it/s]"
          ]
        },
        {
          "output_type": "stream",
          "name": "stdout",
          "text": [
            "Episode 32000 | AvgReward: 0.79 | Epsilon: 0.050\n"
          ]
        },
        {
          "output_type": "stream",
          "name": "stderr",
          "text": [
            " 66%|██████▌   | 33010/50000 [09:06<05:02, 56.10it/s]"
          ]
        },
        {
          "output_type": "stream",
          "name": "stdout",
          "text": [
            "Episode 33000 | AvgReward: 0.80 | Epsilon: 0.050\n"
          ]
        },
        {
          "output_type": "stream",
          "name": "stderr",
          "text": [
            " 68%|██████▊   | 34009/50000 [09:24<05:32, 48.08it/s]"
          ]
        },
        {
          "output_type": "stream",
          "name": "stdout",
          "text": [
            "Episode 34000 | AvgReward: 0.74 | Epsilon: 0.050\n"
          ]
        },
        {
          "output_type": "stream",
          "name": "stderr",
          "text": [
            " 70%|███████   | 35008/50000 [09:41<03:27, 72.33it/s]"
          ]
        },
        {
          "output_type": "stream",
          "name": "stdout",
          "text": [
            "Episode 35000 | AvgReward: 0.80 | Epsilon: 0.050\n"
          ]
        },
        {
          "output_type": "stream",
          "name": "stderr",
          "text": [
            " 72%|███████▏  | 36010/50000 [09:57<03:53, 59.92it/s]"
          ]
        },
        {
          "output_type": "stream",
          "name": "stdout",
          "text": [
            "Episode 36000 | AvgReward: 0.76 | Epsilon: 0.050\n"
          ]
        },
        {
          "output_type": "stream",
          "name": "stderr",
          "text": [
            " 74%|███████▍  | 37011/50000 [10:14<03:15, 66.32it/s]"
          ]
        },
        {
          "output_type": "stream",
          "name": "stdout",
          "text": [
            "Episode 37000 | AvgReward: 0.82 | Epsilon: 0.050\n"
          ]
        },
        {
          "output_type": "stream",
          "name": "stderr",
          "text": [
            " 76%|███████▌  | 38017/50000 [10:31<02:28, 80.58it/s]"
          ]
        },
        {
          "output_type": "stream",
          "name": "stdout",
          "text": [
            "Episode 38000 | AvgReward: 0.76 | Epsilon: 0.050\n"
          ]
        },
        {
          "output_type": "stream",
          "name": "stderr",
          "text": [
            " 78%|███████▊  | 39007/50000 [10:48<03:40, 49.80it/s]"
          ]
        },
        {
          "output_type": "stream",
          "name": "stdout",
          "text": [
            "Episode 39000 | AvgReward: 0.80 | Epsilon: 0.050\n"
          ]
        },
        {
          "output_type": "stream",
          "name": "stderr",
          "text": [
            " 80%|████████  | 40013/50000 [11:04<02:24, 68.95it/s]"
          ]
        },
        {
          "output_type": "stream",
          "name": "stdout",
          "text": [
            "Episode 40000 | AvgReward: 0.83 | Epsilon: 0.050\n"
          ]
        },
        {
          "output_type": "stream",
          "name": "stderr",
          "text": [
            " 82%|████████▏ | 41015/50000 [11:21<02:07, 70.63it/s]"
          ]
        },
        {
          "output_type": "stream",
          "name": "stdout",
          "text": [
            "Episode 41000 | AvgReward: 0.81 | Epsilon: 0.050\n"
          ]
        },
        {
          "output_type": "stream",
          "name": "stderr",
          "text": [
            " 84%|████████▍ | 42008/50000 [11:38<02:39, 50.18it/s]"
          ]
        },
        {
          "output_type": "stream",
          "name": "stdout",
          "text": [
            "Episode 42000 | AvgReward: 0.81 | Epsilon: 0.050\n"
          ]
        },
        {
          "output_type": "stream",
          "name": "stderr",
          "text": [
            " 86%|████████▌ | 43011/50000 [11:54<01:58, 59.12it/s]"
          ]
        },
        {
          "output_type": "stream",
          "name": "stdout",
          "text": [
            "Episode 43000 | AvgReward: 0.79 | Epsilon: 0.050\n"
          ]
        },
        {
          "output_type": "stream",
          "name": "stderr",
          "text": [
            " 88%|████████▊ | 44010/50000 [12:10<01:39, 59.90it/s]"
          ]
        },
        {
          "output_type": "stream",
          "name": "stdout",
          "text": [
            "Episode 44000 | AvgReward: 0.78 | Epsilon: 0.050\n"
          ]
        },
        {
          "output_type": "stream",
          "name": "stderr",
          "text": [
            " 90%|█████████ | 45003/50000 [12:27<01:10, 71.04it/s]"
          ]
        },
        {
          "output_type": "stream",
          "name": "stdout",
          "text": [
            "Episode 45000 | AvgReward: 0.80 | Epsilon: 0.050\n"
          ]
        },
        {
          "output_type": "stream",
          "name": "stderr",
          "text": [
            " 92%|█████████▏| 46012/50000 [12:46<01:06, 60.00it/s]"
          ]
        },
        {
          "output_type": "stream",
          "name": "stdout",
          "text": [
            "Episode 46000 | AvgReward: 0.78 | Epsilon: 0.050\n"
          ]
        },
        {
          "output_type": "stream",
          "name": "stderr",
          "text": [
            " 94%|█████████▍| 47010/50000 [13:02<00:50, 59.12it/s]"
          ]
        },
        {
          "output_type": "stream",
          "name": "stdout",
          "text": [
            "Episode 47000 | AvgReward: 0.78 | Epsilon: 0.050\n"
          ]
        },
        {
          "output_type": "stream",
          "name": "stderr",
          "text": [
            " 96%|█████████▌| 48012/50000 [13:19<00:30, 65.79it/s]"
          ]
        },
        {
          "output_type": "stream",
          "name": "stdout",
          "text": [
            "Episode 48000 | AvgReward: 0.81 | Epsilon: 0.050\n"
          ]
        },
        {
          "output_type": "stream",
          "name": "stderr",
          "text": [
            " 98%|█████████▊| 49011/50000 [13:36<00:14, 67.08it/s]"
          ]
        },
        {
          "output_type": "stream",
          "name": "stdout",
          "text": [
            "Episode 49000 | AvgReward: 0.76 | Epsilon: 0.050\n"
          ]
        },
        {
          "output_type": "stream",
          "name": "stderr",
          "text": [
            "100%|██████████| 50000/50000 [13:53<00:00, 60.01it/s]\n"
          ]
        },
        {
          "output_type": "stream",
          "name": "stdout",
          "text": [
            "\n",
            "Avvio training con: Setup C - Apprendimento più aggressivo\n"
          ]
        },
        {
          "output_type": "stream",
          "name": "stderr",
          "text": [
            "  0%|          | 26/35000 [00:00<02:34, 225.82it/s]"
          ]
        },
        {
          "output_type": "stream",
          "name": "stdout",
          "text": [
            "Episode 0 | AvgReward: 1.08 | Epsilon: 0.985\n"
          ]
        },
        {
          "output_type": "stream",
          "name": "stderr",
          "text": [
            "  3%|▎         | 1011/35000 [00:15<09:16, 61.04it/s]"
          ]
        },
        {
          "output_type": "stream",
          "name": "stdout",
          "text": [
            "Episode 1000 | AvgReward: 0.70 | Epsilon: 0.010\n"
          ]
        },
        {
          "output_type": "stream",
          "name": "stderr",
          "text": [
            "  6%|▌         | 2013/35000 [00:31<07:50, 70.14it/s]"
          ]
        },
        {
          "output_type": "stream",
          "name": "stdout",
          "text": [
            "Episode 2000 | AvgReward: 0.74 | Epsilon: 0.010\n"
          ]
        },
        {
          "output_type": "stream",
          "name": "stderr",
          "text": [
            "  9%|▊         | 3006/35000 [00:47<10:49, 49.29it/s]"
          ]
        },
        {
          "output_type": "stream",
          "name": "stdout",
          "text": [
            "Episode 3000 | AvgReward: 0.71 | Epsilon: 0.010\n"
          ]
        },
        {
          "output_type": "stream",
          "name": "stderr",
          "text": [
            " 11%|█▏        | 4008/35000 [01:04<07:21, 70.19it/s]"
          ]
        },
        {
          "output_type": "stream",
          "name": "stdout",
          "text": [
            "Episode 4000 | AvgReward: 0.66 | Epsilon: 0.010\n"
          ]
        },
        {
          "output_type": "stream",
          "name": "stderr",
          "text": [
            " 14%|█▍        | 5014/35000 [01:20<07:53, 63.30it/s]"
          ]
        },
        {
          "output_type": "stream",
          "name": "stdout",
          "text": [
            "Episode 5000 | AvgReward: 0.70 | Epsilon: 0.010\n"
          ]
        },
        {
          "output_type": "stream",
          "name": "stderr",
          "text": [
            " 17%|█▋        | 6012/35000 [01:38<07:44, 62.46it/s]"
          ]
        },
        {
          "output_type": "stream",
          "name": "stdout",
          "text": [
            "Episode 6000 | AvgReward: 0.72 | Epsilon: 0.010\n"
          ]
        },
        {
          "output_type": "stream",
          "name": "stderr",
          "text": [
            " 20%|██        | 7012/35000 [01:55<07:43, 60.35it/s]"
          ]
        },
        {
          "output_type": "stream",
          "name": "stdout",
          "text": [
            "Episode 7000 | AvgReward: 0.71 | Epsilon: 0.010\n"
          ]
        },
        {
          "output_type": "stream",
          "name": "stderr",
          "text": [
            " 23%|██▎       | 8004/35000 [02:12<09:27, 47.60it/s]"
          ]
        },
        {
          "output_type": "stream",
          "name": "stdout",
          "text": [
            "Episode 8000 | AvgReward: 0.68 | Epsilon: 0.010\n"
          ]
        },
        {
          "output_type": "stream",
          "name": "stderr",
          "text": [
            " 26%|██▌       | 9004/35000 [02:30<10:18, 42.02it/s]"
          ]
        },
        {
          "output_type": "stream",
          "name": "stdout",
          "text": [
            "Episode 9000 | AvgReward: 0.68 | Epsilon: 0.010\n"
          ]
        },
        {
          "output_type": "stream",
          "name": "stderr",
          "text": [
            " 29%|██▊       | 10015/35000 [02:48<06:57, 59.79it/s]"
          ]
        },
        {
          "output_type": "stream",
          "name": "stdout",
          "text": [
            "Episode 10000 | AvgReward: 0.76 | Epsilon: 0.010\n"
          ]
        },
        {
          "output_type": "stream",
          "name": "stderr",
          "text": [
            " 31%|███▏      | 11008/35000 [03:05<07:10, 55.73it/s]"
          ]
        },
        {
          "output_type": "stream",
          "name": "stdout",
          "text": [
            "Episode 11000 | AvgReward: 0.71 | Epsilon: 0.010\n"
          ]
        },
        {
          "output_type": "stream",
          "name": "stderr",
          "text": [
            " 34%|███▍      | 12010/35000 [03:22<05:50, 65.64it/s]"
          ]
        },
        {
          "output_type": "stream",
          "name": "stdout",
          "text": [
            "Episode 12000 | AvgReward: 0.75 | Epsilon: 0.010\n"
          ]
        },
        {
          "output_type": "stream",
          "name": "stderr",
          "text": [
            " 37%|███▋      | 13009/35000 [03:40<07:47, 47.06it/s]"
          ]
        },
        {
          "output_type": "stream",
          "name": "stdout",
          "text": [
            "Episode 13000 | AvgReward: 0.71 | Epsilon: 0.010\n"
          ]
        },
        {
          "output_type": "stream",
          "name": "stderr",
          "text": [
            " 40%|████      | 14006/35000 [03:57<07:41, 45.50it/s]"
          ]
        },
        {
          "output_type": "stream",
          "name": "stdout",
          "text": [
            "Episode 14000 | AvgReward: 0.68 | Epsilon: 0.010\n"
          ]
        },
        {
          "output_type": "stream",
          "name": "stderr",
          "text": [
            " 43%|████▎     | 15007/35000 [04:14<04:46, 69.82it/s]"
          ]
        },
        {
          "output_type": "stream",
          "name": "stdout",
          "text": [
            "Episode 15000 | AvgReward: 0.68 | Epsilon: 0.010\n"
          ]
        },
        {
          "output_type": "stream",
          "name": "stderr",
          "text": [
            " 46%|████▌     | 16010/35000 [04:32<04:37, 68.52it/s]"
          ]
        },
        {
          "output_type": "stream",
          "name": "stdout",
          "text": [
            "Episode 16000 | AvgReward: 0.72 | Epsilon: 0.010\n"
          ]
        },
        {
          "output_type": "stream",
          "name": "stderr",
          "text": [
            " 49%|████▊     | 17007/35000 [04:48<06:11, 48.38it/s]"
          ]
        },
        {
          "output_type": "stream",
          "name": "stdout",
          "text": [
            "Episode 17000 | AvgReward: 0.71 | Epsilon: 0.010\n"
          ]
        },
        {
          "output_type": "stream",
          "name": "stderr",
          "text": [
            " 51%|█████▏    | 18019/35000 [05:06<03:58, 71.05it/s]"
          ]
        },
        {
          "output_type": "stream",
          "name": "stdout",
          "text": [
            "Episode 18000 | AvgReward: 0.67 | Epsilon: 0.010\n"
          ]
        },
        {
          "output_type": "stream",
          "name": "stderr",
          "text": [
            " 54%|█████▍    | 19012/35000 [05:23<04:58, 53.56it/s]"
          ]
        },
        {
          "output_type": "stream",
          "name": "stdout",
          "text": [
            "Episode 19000 | AvgReward: 0.68 | Epsilon: 0.010\n"
          ]
        },
        {
          "output_type": "stream",
          "name": "stderr",
          "text": [
            " 57%|█████▋    | 20008/35000 [05:41<04:40, 53.50it/s]"
          ]
        },
        {
          "output_type": "stream",
          "name": "stdout",
          "text": [
            "Episode 20000 | AvgReward: 0.70 | Epsilon: 0.010\n"
          ]
        },
        {
          "output_type": "stream",
          "name": "stderr",
          "text": [
            " 60%|██████    | 21008/35000 [05:59<03:43, 62.64it/s]"
          ]
        },
        {
          "output_type": "stream",
          "name": "stdout",
          "text": [
            "Episode 21000 | AvgReward: 0.72 | Epsilon: 0.010\n"
          ]
        },
        {
          "output_type": "stream",
          "name": "stderr",
          "text": [
            " 63%|██████▎   | 22009/35000 [06:15<03:03, 70.62it/s]"
          ]
        },
        {
          "output_type": "stream",
          "name": "stdout",
          "text": [
            "Episode 22000 | AvgReward: 0.70 | Epsilon: 0.010\n"
          ]
        },
        {
          "output_type": "stream",
          "name": "stderr",
          "text": [
            " 66%|██████▌   | 23006/35000 [06:32<03:51, 51.71it/s]"
          ]
        },
        {
          "output_type": "stream",
          "name": "stdout",
          "text": [
            "Episode 23000 | AvgReward: 0.72 | Epsilon: 0.010\n"
          ]
        },
        {
          "output_type": "stream",
          "name": "stderr",
          "text": [
            " 69%|██████▊   | 24011/35000 [06:49<02:39, 68.89it/s]"
          ]
        },
        {
          "output_type": "stream",
          "name": "stdout",
          "text": [
            "Episode 24000 | AvgReward: 0.70 | Epsilon: 0.010\n"
          ]
        },
        {
          "output_type": "stream",
          "name": "stderr",
          "text": [
            " 71%|███████▏  | 25015/35000 [07:05<02:27, 67.72it/s]"
          ]
        },
        {
          "output_type": "stream",
          "name": "stdout",
          "text": [
            "Episode 25000 | AvgReward: 0.72 | Epsilon: 0.010\n"
          ]
        },
        {
          "output_type": "stream",
          "name": "stderr",
          "text": [
            " 74%|███████▍  | 26011/35000 [07:23<02:20, 64.03it/s]"
          ]
        },
        {
          "output_type": "stream",
          "name": "stdout",
          "text": [
            "Episode 26000 | AvgReward: 0.68 | Epsilon: 0.010\n"
          ]
        },
        {
          "output_type": "stream",
          "name": "stderr",
          "text": [
            " 77%|███████▋  | 27015/35000 [07:39<01:55, 69.27it/s]"
          ]
        },
        {
          "output_type": "stream",
          "name": "stdout",
          "text": [
            "Episode 27000 | AvgReward: 0.74 | Epsilon: 0.010\n"
          ]
        },
        {
          "output_type": "stream",
          "name": "stderr",
          "text": [
            " 80%|████████  | 28006/35000 [07:57<02:26, 47.73it/s]"
          ]
        },
        {
          "output_type": "stream",
          "name": "stdout",
          "text": [
            "Episode 28000 | AvgReward: 0.73 | Epsilon: 0.010\n"
          ]
        },
        {
          "output_type": "stream",
          "name": "stderr",
          "text": [
            " 83%|████████▎ | 29013/35000 [08:14<01:29, 67.14it/s]"
          ]
        },
        {
          "output_type": "stream",
          "name": "stdout",
          "text": [
            "Episode 29000 | AvgReward: 0.68 | Epsilon: 0.010\n"
          ]
        },
        {
          "output_type": "stream",
          "name": "stderr",
          "text": [
            " 86%|████████▌ | 30004/35000 [08:31<01:21, 61.53it/s]"
          ]
        },
        {
          "output_type": "stream",
          "name": "stdout",
          "text": [
            "Episode 30000 | AvgReward: 0.72 | Epsilon: 0.010\n"
          ]
        },
        {
          "output_type": "stream",
          "name": "stderr",
          "text": [
            " 89%|████████▊ | 31004/35000 [08:48<01:03, 63.41it/s]"
          ]
        },
        {
          "output_type": "stream",
          "name": "stdout",
          "text": [
            "Episode 31000 | AvgReward: 0.73 | Epsilon: 0.010\n"
          ]
        },
        {
          "output_type": "stream",
          "name": "stderr",
          "text": [
            " 91%|█████████▏| 32008/35000 [09:05<00:51, 58.21it/s]"
          ]
        },
        {
          "output_type": "stream",
          "name": "stdout",
          "text": [
            "Episode 32000 | AvgReward: 0.65 | Epsilon: 0.010\n"
          ]
        },
        {
          "output_type": "stream",
          "name": "stderr",
          "text": [
            " 94%|█████████▍| 33002/35000 [09:23<00:29, 66.71it/s]"
          ]
        },
        {
          "output_type": "stream",
          "name": "stdout",
          "text": [
            "Episode 33000 | AvgReward: 0.68 | Epsilon: 0.010\n"
          ]
        },
        {
          "output_type": "stream",
          "name": "stderr",
          "text": [
            " 97%|█████████▋| 34011/35000 [09:40<00:17, 57.86it/s]"
          ]
        },
        {
          "output_type": "stream",
          "name": "stdout",
          "text": [
            "Episode 34000 | AvgReward: 0.72 | Epsilon: 0.010\n"
          ]
        },
        {
          "output_type": "stream",
          "name": "stderr",
          "text": [
            "100%|██████████| 35000/35000 [09:57<00:00, 58.55it/s]\n"
          ]
        },
        {
          "output_type": "error",
          "ename": "ValueError",
          "evalue": "too many values to unpack (expected 2)",
          "traceback": [
            "\u001b[0;31m---------------------------------------------------------------------------\u001b[0m",
            "\u001b[0;31mValueError\u001b[0m                                Traceback (most recent call last)",
            "\u001b[0;32m/tmp/ipython-input-67-4109427934.py\u001b[0m in \u001b[0;36m<cell line: 0>\u001b[0;34m()\u001b[0m\n\u001b[1;32m     93\u001b[0m \u001b[0;34m\u001b[0m\u001b[0m\n\u001b[1;32m     94\u001b[0m \u001b[0mplt\u001b[0m\u001b[0;34m.\u001b[0m\u001b[0mfigure\u001b[0m\u001b[0;34m(\u001b[0m\u001b[0mfigsize\u001b[0m\u001b[0;34m=\u001b[0m\u001b[0;34m(\u001b[0m\u001b[0;36m12\u001b[0m\u001b[0;34m,\u001b[0m\u001b[0;36m6\u001b[0m\u001b[0;34m)\u001b[0m\u001b[0;34m)\u001b[0m\u001b[0;34m\u001b[0m\u001b[0;34m\u001b[0m\u001b[0m\n\u001b[0;32m---> 95\u001b[0;31m \u001b[0;32mfor\u001b[0m \u001b[0mname\u001b[0m\u001b[0;34m,\u001b[0m \u001b[0mrewards\u001b[0m \u001b[0;32min\u001b[0m \u001b[0mresults\u001b[0m\u001b[0;34m:\u001b[0m\u001b[0;34m\u001b[0m\u001b[0;34m\u001b[0m\u001b[0m\n\u001b[0m\u001b[1;32m     96\u001b[0m     \u001b[0mma\u001b[0m \u001b[0;34m=\u001b[0m \u001b[0mmoving_average\u001b[0m\u001b[0;34m(\u001b[0m\u001b[0mrewards\u001b[0m\u001b[0;34m,\u001b[0m \u001b[0;36m100\u001b[0m\u001b[0;34m)\u001b[0m\u001b[0;34m\u001b[0m\u001b[0;34m\u001b[0m\u001b[0m\n\u001b[1;32m     97\u001b[0m     \u001b[0mplt\u001b[0m\u001b[0;34m.\u001b[0m\u001b[0mplot\u001b[0m\u001b[0;34m(\u001b[0m\u001b[0mma\u001b[0m\u001b[0;34m,\u001b[0m \u001b[0mlabel\u001b[0m\u001b[0;34m=\u001b[0m\u001b[0mname\u001b[0m\u001b[0;34m)\u001b[0m\u001b[0;34m\u001b[0m\u001b[0;34m\u001b[0m\u001b[0m\n",
            "\u001b[0;31mValueError\u001b[0m: too many values to unpack (expected 2)"
          ]
        },
        {
          "output_type": "display_data",
          "data": {
            "text/plain": [
              "<Figure size 1200x600 with 0 Axes>"
            ]
          },
          "metadata": {}
        }
      ]
    },
    {
      "cell_type": "code",
      "source": [
        "\n",
        "plt.figure(figsize=(12,6))\n",
        "for name, rewards, _ in results:\n",
        "    ma = moving_average(rewards, 100)\n",
        "    plt.plot(ma, label=name)\n",
        "\n",
        "plt.title(\"Confronto setup DDQN (media mobile dei reward)\")\n",
        "plt.xlabel(\"Episodi\")\n",
        "plt.ylabel(\"Reward (media mobile)\")\n",
        "plt.legend()\n",
        "plt.grid()\n",
        "plt.show()\n"
      ],
      "metadata": {
        "colab": {
          "base_uri": "https://localhost:8080/",
          "height": 564
        },
        "id": "tBisb5x9nzaG",
        "outputId": "d0a4ee80-b847-45c3-aa37-f53d3307285f"
      },
      "execution_count": null,
      "outputs": [
        {
          "output_type": "display_data",
          "data": {
            "text/plain": [
              "<Figure size 1200x600 with 1 Axes>"
            ],
            "image/png": "[encoded data removed]"
          },
          "metadata": {}
        }
      ]
    },
    {
      "cell_type": "markdown",
      "source": [
        "**PERFORMANCE**: *RANDOM ATTACK*\n",
        "\n",
        "*Setup A: Equilibrio generale*\n",
        "Decay moderato di epsilon (0.992) con valore minimo molto basso (0.01). Learning rate medio (3e-4) e buffer di dimensione contenuta. L’agente bilancia bene esplorazione e sfruttamento, valorizzando le ricompense future con gamma alto (0.985). Il conclusione presenta un apprendimento stabile e progressivo con buona capacità di generalizzazione.\n",
        "\n",
        "*Setup B: Esplorazione prolungata*\n",
        "Decay lento di epsilon (0.995) ma epsilon minimo più alto (0.05), favorendo una maggiore esplorazione anche in fasi avanzate. Learning rate basso (1e-4) e buffer ampio per mantenere esperienze recenti. Gamma molto alto (0.99) per dare peso alle ricompense future. Performance attese: apprendimento più conservativo e stabile, con minor rischio di convergenza su politiche sub-ottimali.\n",
        "\n",
        "*Setup C: Apprendimento aggressivo*\n",
        "Decay veloce di epsilon (0.985) con epsilon minimo basso (0.01), batch size grande (128) e learning rate alto (5e-4). L’agente sfrutta più rapidamente la politica appresa, ma con più variabilità nella ricompensa. Gamma leggermente inferiore (0.98) per preferire ricompense più immediate. In questo setup si ha un apprendimento rapido ma più “rumoroso” e meno stabile, ideale per scenari in cui serve convergenza veloce.\n",
        "\n"
      ],
      "metadata": {
        "id": "uHW0R-vUsMxx"
      }
    },
    {
      "cell_type": "code",
      "source": [
        "\n",
        "\n",
        "\n",
        "def policy(state, q_net):\n",
        "        q_net.eval()\n",
        "        state_proc = preprocess_state(state)\n",
        "        state_tensor = torch.FloatTensor(state_proc).unsqueeze(0).to(device)\n",
        "        with torch.no_grad():\n",
        "            q_values = q_net(state_tensor)\n",
        "            return torch.argmax(q_values).item()\n",
        "\n",
        "def evaluate_policy_ddqn(env, policy, attacker, q_net, num_episodes=100, run_test=5, seed=42, reward_shaping=True):\n",
        "    def shape_reward(r):\n",
        "        # Se il reward è una tupla, usiamo il reward del difensore (indice 1)\n",
        "        raw_reward = r[1] if isinstance(r, tuple) else r\n",
        "        if not reward_shaping:\n",
        "            return raw_reward\n",
        "\n",
        "\n",
        "        # Esempio semplice di shaping\n",
        "         # Reward shaping moderato\n",
        "        if raw_reward > 0:\n",
        "            # Mantieni o aumenta leggermente le ricompense positive\n",
        "            return raw_reward + 0.1\n",
        "        elif raw_reward < 0:\n",
        "            # Penalizza le ricompense negative ma in modo soft\n",
        "            return raw_reward - 0.1\n",
        "        else:\n",
        "            # Per gli zero, assegna una piccola penalità per incoraggiare azioni più efficaci\n",
        "            return -0.02\n",
        "\n",
        "    total_rewards = []\n",
        "\n",
        "    for run in range(run_test):\n",
        "        for episode in range(num_episodes):\n",
        "            state = env.reset(seed + run * num_episodes + episode)\n",
        "            if isinstance(state, tuple):\n",
        "                state = state[0]\n",
        "\n",
        "            done = False\n",
        "            total_reward = 0\n",
        "\n",
        "            while not done:\n",
        "                state_key = state_to_key(state)\n",
        "\n",
        "                # --- Selezione azione difensore ---\n",
        "                if policy == \"random\":\n",
        "                    action_def = env.defender_action_space.sample()\n",
        "                elif policy == \"null\":\n",
        "                    action_def = 0\n",
        "                elif callable(policy):\n",
        "                    # DDQN policy come funzione\n",
        "                    action_def = policy(state,q_net)\n",
        "                else:\n",
        "                    # Tabella di Q (dict)\n",
        "                    action_def = policy.get(state_key, env.defender_action_space.sample())\n",
        "\n",
        "                # Azione attaccante\n",
        "                action_att = attacker.sample()\n",
        "\n",
        "                # Interazione ambiente\n",
        "                next_state, reward, done, _ = env.step((action_att, action_def))\n",
        "                if isinstance(next_state, tuple):\n",
        "                    next_state = next_state[0]\n",
        "\n",
        "                # Reward shaping\n",
        "                shaped_reward = shape_reward(reward)\n",
        "                total_reward += shaped_reward\n",
        "\n",
        "                state = next_state\n",
        "\n",
        "            total_rewards.append(total_reward)\n",
        "\n",
        "    avg_reward = sum(total_rewards) / (num_episodes * run_test)\n",
        "    return round(avg_reward, 2)\n",
        "\n",
        "\n",
        "\n",
        "num_test_episodes = 300\n",
        "mode_attacker = {\n",
        "    'random': 'random',\n",
        "    'deterministico': 'deterministic',\n",
        "    'ciclico': 'cyclic'\n",
        "}\n",
        "env = random_attack()\n",
        "for name, rewards, q_net in results:\n",
        "    # utilizziamo q_net per recuperare la policy appresa\n",
        "\n",
        "    print(f\"\\nValutazione difensore DDQN: {name}\")\n",
        "    for mode_name, mode_val in mode_attacker.items():\n",
        "        attacker = AttackerAgent(env.attacker_action_space, mode=mode_val, fixed_action=0)\n",
        "        print(f\" - Attaccante {mode_name}:\")\n",
        "        val_def = evaluate_policy_ddqn(env, policy, attacker, q_net, num_test_episodes, seed=42 )\n",
        "        val_def_random = evaluate_policy_ddqn(env, \"random\", attacker, q_net, num_test_episodes, seed=42)\n",
        "        val_def_null = evaluate_policy_ddqn(env, \"null\", attacker,q_net, num_test_episodes, seed=42)\n",
        "        print(f\"   Difensore DDQN policy: {val_def}\")\n",
        "        print(f\"   Difensore random policy: {val_def_random}\")\n",
        "        print(f\"   Difensore null policy: {val_def_null}\")\n"
      ],
      "metadata": {
        "id": "a6wRjHbgdiHn",
        "colab": {
          "base_uri": "https://localhost:8080/"
        },
        "outputId": "479bfae2-a843-4cb6-d21a-b8399b7dc423"
      },
      "execution_count": null,
      "outputs": [
        {
          "output_type": "stream",
          "name": "stdout",
          "text": [
            "\n",
            "Valutazione difensore DDQN: Setup A - Equilibrio generale\n",
            " - Attaccante random:\n",
            "   Difensore DDQN policy: 0.88\n",
            "   Difensore random policy: 0.72\n",
            "   Difensore null policy: 0.66\n",
            " - Attaccante deterministico:\n",
            "   Difensore DDQN policy: 0.85\n",
            "   Difensore random policy: 0.74\n",
            "   Difensore null policy: 0.65\n",
            " - Attaccante ciclico:\n",
            "   Difensore DDQN policy: 0.86\n",
            "   Difensore random policy: 0.72\n",
            "   Difensore null policy: 0.61\n",
            "\n",
            "Valutazione difensore DDQN: Setup B - Esplorazione più lunga\n",
            " - Attaccante random:\n",
            "   Difensore DDQN policy: 0.7\n",
            "   Difensore random policy: 0.74\n",
            "   Difensore null policy: 0.63\n",
            " - Attaccante deterministico:\n",
            "   Difensore DDQN policy: 0.71\n",
            "   Difensore random policy: 0.78\n",
            "   Difensore null policy: 0.59\n",
            " - Attaccante ciclico:\n",
            "   Difensore DDQN policy: 0.72\n",
            "   Difensore random policy: 0.75\n",
            "   Difensore null policy: 0.62\n",
            "\n",
            "Valutazione difensore DDQN: Setup C - Apprendimento più aggressivo\n",
            " - Attaccante random:\n",
            "   Difensore DDQN policy: 0.67\n",
            "   Difensore random policy: 0.75\n",
            "   Difensore null policy: 0.67\n",
            " - Attaccante deterministico:\n",
            "   Difensore DDQN policy: 0.69\n",
            "   Difensore random policy: 0.73\n",
            "   Difensore null policy: 0.67\n",
            " - Attaccante ciclico:\n",
            "   Difensore DDQN policy: 0.63\n",
            "   Difensore random policy: 0.78\n",
            "   Difensore null policy: 0.62\n"
          ]
        }
      ]
    },
    {
      "cell_type": "markdown",
      "source": [
        "Il reward shaping migliora la strategia random fornendo segnali di ricompensa più informativi e guidati, che evidenziano azioni vantaggiose o da evitare. Questo aiuta l’agente a imparare più rapidamente e a prendere decisioni migliori, trasformando una ricompensa grezza e sporadica in un feedback più denso e strutturato, superando così la casualità della strategia random."
      ],
      "metadata": {
        "id": "sgmf8SiSuGOd"
      }
    },
    {
      "cell_type": "markdown",
      "source": [
        "**ANALISI RISULTATI**: *RANDOM ATTACK*\n",
        "\n",
        "Guardando i risultati dei tre setup di training, emerge subito che il primo setup (Setup A - Equilibrio generale) è quello che ha dato i risultati migliori. La rete difensiva, dopo l’allenamento, riesce a fare molto meglio sia della strategia casuale (random) che di quella fissa (null). Questo significa che il modello ha effettivamente imparato a riconoscere situazioni e a scegliere azioni più efficaci per difendersi dagli attacchi. In pratica, il difensore “intelligente” è in grado di ridurre i danni o ottenere risultati migliori rispetto a un difensore che agisce a caso o che non fa praticamente nulla.\n",
        "\n",
        "Passando invece agli altri due setup, i risultati sono un po’ meno soddisfacenti. Nel Setup B (Esplorazione più lunga), la rete non sembra aver imparato molto bene: la sua performance è addirittura inferiore rispetto alla strategia casuale. Questo potrebbe accadere perché, mantenendo un livello alto di esplorazione per troppo tempo, il modello non riesce a “fissare” una strategia valida. È come se fosse ancora indeciso, prova troppe azioni a caso e quindi non migliora veramente.\n",
        "\n",
        "Nel Setup C (Apprendimento più aggressivo), la situazione non migliora molto. Qui la rete ha un tasso di apprendimento più alto e batch più grandi, ma sembra che questo approccio abbia creato instabilità. Il modello probabilmente “salta” troppo velocemente tra strategie diverse, senza consolidarne una buona. Di nuovo, la performance è inferiore a quella di un difensore che agisce a caso. In altre parole, l’apprendimento è stato troppo rapido e poco stabile per portare a buoni risultati.\n",
        "In conclusione, questi risultati evidenziano quanto sia fondamentale bilanciare attentamente il processo di apprendimento: evitare di essere troppo conservativi, come nel Setup B con un’esplorazione prolungata, ma anche di non esagerare con un approccio troppo veloce o intenso, come nel Setup C con un tasso di apprendimento elevato."
      ],
      "metadata": {
        "id": "CQmh4Q_lCXCX"
      }
    },
    {
      "cell_type": "code",
      "source": [
        "import numpy as np\n",
        "import random\n",
        "import torch\n",
        "import matplotlib.pyplot as plt\n",
        "import gymnasium as gym\n",
        "import gym_idsgame\n",
        "from gym_idsgame.envs import IdsGameMaximalAttackV0Env as maximal_attack\n",
        "device = torch.device(\"cuda\" if torch.cuda.is_available() else \"cpu\")\n",
        "\n",
        "\n",
        "# Setup\n",
        "setups = [\n",
        "    {\n",
        "        \"name\": \"Setup 1 - Decay molto lento, lr stabile\",\n",
        "        \"epsilon\": 1.0,\n",
        "        \"epsilon_min\": 0.05,\n",
        "        \"epsilon_decay\": 0.997,\n",
        "        \"gamma\": 0.99,\n",
        "        \"batch_size\": 64,\n",
        "        \"buffer_maxlen\": 100000,\n",
        "        \"update_target_every\": 20,\n",
        "        \"num_episodes\": 50000,\n",
        "        \"lr\": 1e-4\n",
        "    },\n",
        "    {\n",
        "        \"name\": \"Setup 2 - Decay bilanciato, lr moderato\",\n",
        "        \"epsilon\": 1.0,\n",
        "        \"epsilon_min\": 0.01,\n",
        "        \"epsilon_decay\": 0.995,\n",
        "        \"gamma\": 0.98,\n",
        "        \"batch_size\": 64,\n",
        "        \"buffer_maxlen\": 100000,\n",
        "        \"update_target_every\": 10,\n",
        "        \"num_episodes\": 40000,\n",
        "        \"lr\": 5e-4\n",
        "    },\n",
        "    {\n",
        "        \"name\": \"Setup 3 - Decay veloce, batch più grande, lr alto\",\n",
        "        \"epsilon\": 1.0,\n",
        "        \"epsilon_min\": 0.1,\n",
        "        \"epsilon_decay\": 0.98,\n",
        "        \"gamma\": 0.95,\n",
        "        \"batch_size\": 128,\n",
        "        \"buffer_maxlen\": 50000,\n",
        "        \"update_target_every\": 5,\n",
        "        \"num_episodes\": 30000,\n",
        "        \"lr\": 1e-3\n",
        "    }\n",
        "]\n",
        "\n",
        "results = []\n",
        "\n",
        "for setup in setups:\n",
        "    print(f\"\\nAvvio training con: {setup['name']}\")\n",
        "    env = maximal_attack()\n",
        "\n",
        "    sample_state = env.reset()\n",
        "    if isinstance(sample_state, tuple):\n",
        "        sample_state = sample_state[0]\n",
        "    state_size = len(np.array(sample_state).flatten())\n",
        "    action_size = env.defender_action_space.n\n",
        "\n",
        "    q_network = DQN(state_size, action_size).to(device)\n",
        "    target_network = DQN(state_size, action_size).to(device)\n",
        "    target_network.load_state_dict(q_network.state_dict())\n",
        "\n",
        "    optimizer = torch.optim.Adam(q_network.parameters(), lr=setup[\"lr\"])\n",
        "    criterion = torch.nn.MSELoss()\n",
        "\n",
        "    q_net_trained, rewards = ddqn_learning(\n",
        "        env=env,\n",
        "        q_network=q_network,\n",
        "        target_network=target_network,\n",
        "        optimizer=optimizer,\n",
        "        criterion=criterion,\n",
        "        buffer_maxlen=setup[\"buffer_maxlen\"],\n",
        "        batch_size=setup[\"batch_size\"],\n",
        "        gamma=setup[\"gamma\"],\n",
        "        epsilon=setup[\"epsilon\"],\n",
        "        epsilon_min=setup[\"epsilon_min\"],\n",
        "        epsilon_decay=setup[\"epsilon_decay\"],\n",
        "        update_target_every=setup[\"update_target_every\"],\n",
        "        num_episodes=setup[\"num_episodes\"],\n",
        "        print_every=1000\n",
        "    )\n",
        "\n",
        "    results.append((setup[\"name\"], rewards, q_net_trained))\n",
        "    env.close()\n",
        "\n",
        "\n",
        "plt.figure(figsize=(12,6))\n",
        "for name, rewards, _ in results:\n",
        "    ma = moving_average(rewards, 100)\n",
        "    plt.plot(ma, label=name)\n",
        "\n",
        "plt.title(\"Confronto setup DDQN (media mobile dei reward)\")\n",
        "plt.xlabel(\"Episodi\")\n",
        "plt.ylabel(\"Reward (media mobile)\")\n",
        "plt.legend()\n",
        "plt.grid()\n",
        "plt.show()\n"
      ],
      "metadata": {
        "id": "lQLwXYLLDRci",
        "colab": {
          "base_uri": "https://localhost:8080/",
          "height": 1000
        },
        "outputId": "fbf370cb-66d5-49ac-b119-671d2ace5294"
      },
      "execution_count": null,
      "outputs": [
        {
          "metadata": {
            "tags": null
          },
          "name": "stdout",
          "output_type": "stream",
          "text": [
            "\n",
            "Avvio training con: Setup 1 - Decay molto lento, lr stabile\n"
          ]
        },
        {
          "metadata": {
            "tags": null
          },
          "name": "stderr",
          "output_type": "stream",
          "text": [
            "  0%|          | 28/50000 [00:00<03:14, 257.32it/s]"
          ]
        },
        {
          "metadata": {
            "tags": null
          },
          "name": "stdout",
          "output_type": "stream",
          "text": [
            "Episode 0 | AvgReward: 1.08 | Epsilon: 0.997\n"
          ]
        },
        {
          "metadata": {
            "tags": null
          },
          "name": "stderr",
          "output_type": "stream",
          "text": [
            "  2%|▏         | 1016/50000 [00:14<11:06, 73.51it/s]"
          ]
        },
        {
          "metadata": {
            "tags": null
          },
          "name": "stdout",
          "output_type": "stream",
          "text": [
            "Episode 1000 | AvgReward: 0.68 | Epsilon: 0.050\n"
          ]
        },
        {
          "metadata": {
            "tags": null
          },
          "name": "stderr",
          "output_type": "stream",
          "text": [
            "  4%|▍         | 2003/50000 [00:29<11:07, 71.86it/s]"
          ]
        },
        {
          "metadata": {
            "tags": null
          },
          "name": "stdout",
          "output_type": "stream",
          "text": [
            "Episode 2000 | AvgReward: 0.91 | Epsilon: 0.050\n"
          ]
        },
        {
          "metadata": {
            "tags": null
          },
          "name": "stderr",
          "output_type": "stream",
          "text": [
            "  6%|▌         | 3013/50000 [00:46<12:25, 63.04it/s]"
          ]
        },
        {
          "metadata": {
            "tags": null
          },
          "name": "stdout",
          "output_type": "stream",
          "text": [
            "Episode 3000 | AvgReward: 0.89 | Epsilon: 0.050\n"
          ]
        },
        {
          "metadata": {
            "tags": null
          },
          "name": "stderr",
          "output_type": "stream",
          "text": [
            "  8%|▊         | 4012/50000 [01:03<11:32, 66.37it/s]"
          ]
        },
        {
          "metadata": {
            "tags": null
          },
          "name": "stdout",
          "output_type": "stream",
          "text": [
            "Episode 4000 | AvgReward: 0.88 | Epsilon: 0.050\n"
          ]
        },
        {
          "metadata": {
            "tags": null
          },
          "name": "stderr",
          "output_type": "stream",
          "text": [
            " 10%|█         | 5012/50000 [01:19<10:12, 73.40it/s]"
          ]
        },
        {
          "metadata": {
            "tags": null
          },
          "name": "stdout",
          "output_type": "stream",
          "text": [
            "Episode 5000 | AvgReward: 0.90 | Epsilon: 0.050\n"
          ]
        },
        {
          "metadata": {
            "tags": null
          },
          "name": "stderr",
          "output_type": "stream",
          "text": [
            " 12%|█▏        | 6012/50000 [01:35<12:32, 58.47it/s]"
          ]
        },
        {
          "metadata": {
            "tags": null
          },
          "name": "stdout",
          "output_type": "stream",
          "text": [
            "Episode 6000 | AvgReward: 0.90 | Epsilon: 0.050\n"
          ]
        },
        {
          "metadata": {
            "tags": null
          },
          "name": "stderr",
          "output_type": "stream",
          "text": [
            " 14%|█▍        | 7009/50000 [01:52<12:06, 59.17it/s]"
          ]
        },
        {
          "metadata": {
            "tags": null
          },
          "name": "stdout",
          "output_type": "stream",
          "text": [
            "Episode 7000 | AvgReward: 0.86 | Epsilon: 0.050\n"
          ]
        },
        {
          "metadata": {
            "tags": null
          },
          "name": "stderr",
          "output_type": "stream",
          "text": [
            " 16%|█▌        | 8006/50000 [02:07<11:02, 63.43it/s]"
          ]
        },
        {
          "metadata": {
            "tags": null
          },
          "name": "stdout",
          "output_type": "stream",
          "text": [
            "Episode 8000 | AvgReward: 0.91 | Epsilon: 0.050\n"
          ]
        },
        {
          "metadata": {
            "tags": null
          },
          "name": "stderr",
          "output_type": "stream",
          "text": [
            " 18%|█▊        | 9008/50000 [02:24<09:04, 75.22it/s]"
          ]
        },
        {
          "metadata": {
            "tags": null
          },
          "name": "stdout",
          "output_type": "stream",
          "text": [
            "Episode 9000 | AvgReward: 0.90 | Epsilon: 0.050\n"
          ]
        },
        {
          "metadata": {
            "tags": null
          },
          "name": "stderr",
          "output_type": "stream",
          "text": [
            " 20%|██        | 10007/50000 [02:41<11:08, 59.82it/s]"
          ]
        },
        {
          "metadata": {
            "tags": null
          },
          "name": "stdout",
          "output_type": "stream",
          "text": [
            "Episode 10000 | AvgReward: 0.89 | Epsilon: 0.050\n"
          ]
        },
        {
          "metadata": {
            "tags": null
          },
          "name": "stderr",
          "output_type": "stream",
          "text": [
            " 22%|██▏       | 11008/50000 [02:59<11:59, 54.17it/s]"
          ]
        },
        {
          "metadata": {
            "tags": null
          },
          "name": "stdout",
          "output_type": "stream",
          "text": [
            "Episode 11000 | AvgReward: 0.91 | Epsilon: 0.050\n"
          ]
        },
        {
          "metadata": {
            "tags": null
          },
          "name": "stderr",
          "output_type": "stream",
          "text": [
            " 24%|██▍       | 12011/50000 [03:15<11:30, 55.05it/s]"
          ]
        },
        {
          "metadata": {
            "tags": null
          },
          "name": "stdout",
          "output_type": "stream",
          "text": [
            "Episode 12000 | AvgReward: 0.91 | Epsilon: 0.050\n"
          ]
        },
        {
          "metadata": {
            "tags": null
          },
          "name": "stderr",
          "output_type": "stream",
          "text": [
            " 26%|██▌       | 13008/50000 [03:32<11:01, 55.95it/s]"
          ]
        },
        {
          "metadata": {
            "tags": null
          },
          "name": "stdout",
          "output_type": "stream",
          "text": [
            "Episode 13000 | AvgReward: 0.92 | Epsilon: 0.050\n"
          ]
        },
        {
          "metadata": {
            "tags": null
          },
          "name": "stderr",
          "output_type": "stream",
          "text": [
            " 28%|██▊       | 14011/50000 [03:49<10:19, 58.09it/s]"
          ]
        },
        {
          "metadata": {
            "tags": null
          },
          "name": "stdout",
          "output_type": "stream",
          "text": [
            "Episode 14000 | AvgReward: 0.93 | Epsilon: 0.050\n"
          ]
        },
        {
          "metadata": {
            "tags": null
          },
          "name": "stderr",
          "output_type": "stream",
          "text": [
            " 30%|███       | 15006/50000 [04:05<08:16, 70.44it/s]"
          ]
        },
        {
          "metadata": {
            "tags": null
          },
          "name": "stdout",
          "output_type": "stream",
          "text": [
            "Episode 15000 | AvgReward: 0.92 | Epsilon: 0.050\n"
          ]
        },
        {
          "metadata": {
            "tags": null
          },
          "name": "stderr",
          "output_type": "stream",
          "text": [
            " 32%|███▏      | 16009/50000 [04:22<08:18, 68.19it/s]"
          ]
        },
        {
          "metadata": {
            "tags": null
          },
          "name": "stdout",
          "output_type": "stream",
          "text": [
            "Episode 16000 | AvgReward: 0.96 | Epsilon: 0.050\n"
          ]
        },
        {
          "metadata": {
            "tags": null
          },
          "name": "stderr",
          "output_type": "stream",
          "text": [
            " 34%|███▍      | 17011/50000 [04:39<08:53, 61.78it/s]"
          ]
        },
        {
          "metadata": {
            "tags": null
          },
          "name": "stdout",
          "output_type": "stream",
          "text": [
            "Episode 17000 | AvgReward: 0.90 | Epsilon: 0.050\n"
          ]
        },
        {
          "metadata": {
            "tags": null
          },
          "name": "stderr",
          "output_type": "stream",
          "text": [
            " 36%|███▌      | 18015/50000 [04:56<07:19, 72.76it/s]"
          ]
        },
        {
          "metadata": {
            "tags": null
          },
          "name": "stdout",
          "output_type": "stream",
          "text": [
            "Episode 18000 | AvgReward: 0.92 | Epsilon: 0.050\n"
          ]
        },
        {
          "metadata": {
            "tags": null
          },
          "name": "stderr",
          "output_type": "stream",
          "text": [
            " 38%|███▊      | 19010/50000 [05:14<12:56, 39.93it/s]"
          ]
        },
        {
          "metadata": {
            "tags": null
          },
          "name": "stdout",
          "output_type": "stream",
          "text": [
            "Episode 19000 | AvgReward: 0.88 | Epsilon: 0.050\n"
          ]
        },
        {
          "metadata": {
            "tags": null
          },
          "name": "stderr",
          "output_type": "stream",
          "text": [
            " 40%|████      | 20013/50000 [05:31<09:13, 54.20it/s]"
          ]
        },
        {
          "metadata": {
            "tags": null
          },
          "name": "stdout",
          "output_type": "stream",
          "text": [
            "Episode 20000 | AvgReward: 0.93 | Epsilon: 0.050\n"
          ]
        },
        {
          "metadata": {
            "tags": null
          },
          "name": "stderr",
          "output_type": "stream",
          "text": [
            " 42%|████▏     | 21010/50000 [05:48<07:10, 67.39it/s]"
          ]
        },
        {
          "metadata": {
            "tags": null
          },
          "name": "stdout",
          "output_type": "stream",
          "text": [
            "Episode 21000 | AvgReward: 0.92 | Epsilon: 0.050\n"
          ]
        },
        {
          "metadata": {
            "tags": null
          },
          "name": "stderr",
          "output_type": "stream",
          "text": [
            " 44%|████▍     | 22014/50000 [06:06<06:28, 72.08it/s]"
          ]
        },
        {
          "metadata": {
            "tags": null
          },
          "name": "stdout",
          "output_type": "stream",
          "text": [
            "Episode 22000 | AvgReward: 0.89 | Epsilon: 0.050\n"
          ]
        },
        {
          "metadata": {
            "tags": null
          },
          "name": "stderr",
          "output_type": "stream",
          "text": [
            " 46%|████▌     | 23008/50000 [06:23<06:51, 65.53it/s]"
          ]
        },
        {
          "metadata": {
            "tags": null
          },
          "name": "stdout",
          "output_type": "stream",
          "text": [
            "Episode 23000 | AvgReward: 0.95 | Epsilon: 0.050\n"
          ]
        },
        {
          "metadata": {
            "tags": null
          },
          "name": "stderr",
          "output_type": "stream",
          "text": [
            " 48%|████▊     | 24007/50000 [06:40<08:40, 49.98it/s]"
          ]
        },
        {
          "metadata": {
            "tags": null
          },
          "name": "stdout",
          "output_type": "stream",
          "text": [
            "Episode 24000 | AvgReward: 0.95 | Epsilon: 0.050\n"
          ]
        },
        {
          "metadata": {
            "tags": null
          },
          "name": "stderr",
          "output_type": "stream",
          "text": [
            " 50%|█████     | 25008/50000 [06:57<07:50, 53.11it/s]"
          ]
        },
        {
          "metadata": {
            "tags": null
          },
          "name": "stdout",
          "output_type": "stream",
          "text": [
            "Episode 25000 | AvgReward: 0.95 | Epsilon: 0.050\n"
          ]
        },
        {
          "metadata": {
            "tags": null
          },
          "name": "stderr",
          "output_type": "stream",
          "text": [
            " 52%|█████▏    | 26008/50000 [07:14<07:15, 55.14it/s]"
          ]
        },
        {
          "metadata": {
            "tags": null
          },
          "name": "stdout",
          "output_type": "stream",
          "text": [
            "Episode 26000 | AvgReward: 0.87 | Epsilon: 0.050\n"
          ]
        },
        {
          "metadata": {
            "tags": null
          },
          "name": "stderr",
          "output_type": "stream",
          "text": [
            " 54%|█████▍    | 27012/50000 [07:32<07:15, 52.78it/s]"
          ]
        },
        {
          "metadata": {
            "tags": null
          },
          "name": "stdout",
          "output_type": "stream",
          "text": [
            "Episode 27000 | AvgReward: 0.96 | Epsilon: 0.050\n"
          ]
        },
        {
          "metadata": {
            "tags": null
          },
          "name": "stderr",
          "output_type": "stream",
          "text": [
            " 56%|█████▌    | 28010/50000 [07:49<05:43, 64.09it/s]"
          ]
        },
        {
          "metadata": {
            "tags": null
          },
          "name": "stdout",
          "output_type": "stream",
          "text": [
            "Episode 28000 | AvgReward: 0.90 | Epsilon: 0.050\n"
          ]
        },
        {
          "metadata": {
            "tags": null
          },
          "name": "stderr",
          "output_type": "stream",
          "text": [
            " 58%|█████▊    | 29006/50000 [08:07<06:59, 50.07it/s]"
          ]
        },
        {
          "metadata": {
            "tags": null
          },
          "name": "stdout",
          "output_type": "stream",
          "text": [
            "Episode 29000 | AvgReward: 0.92 | Epsilon: 0.050\n"
          ]
        },
        {
          "metadata": {
            "tags": null
          },
          "name": "stderr",
          "output_type": "stream",
          "text": [
            " 60%|██████    | 30010/50000 [08:24<05:06, 65.31it/s]"
          ]
        },
        {
          "metadata": {
            "tags": null
          },
          "name": "stdout",
          "output_type": "stream",
          "text": [
            "Episode 30000 | AvgReward: 0.92 | Epsilon: 0.050\n"
          ]
        },
        {
          "metadata": {
            "tags": null
          },
          "name": "stderr",
          "output_type": "stream",
          "text": [
            " 62%|██████▏   | 31010/50000 [08:42<04:56, 64.00it/s]"
          ]
        },
        {
          "metadata": {
            "tags": null
          },
          "name": "stdout",
          "output_type": "stream",
          "text": [
            "Episode 31000 | AvgReward: 0.89 | Epsilon: 0.050\n"
          ]
        },
        {
          "metadata": {
            "tags": null
          },
          "name": "stderr",
          "output_type": "stream",
          "text": [
            " 64%|██████▍   | 32009/50000 [08:58<06:09, 48.65it/s]"
          ]
        },
        {
          "metadata": {
            "tags": null
          },
          "name": "stdout",
          "output_type": "stream",
          "text": [
            "Episode 32000 | AvgReward: 0.95 | Epsilon: 0.050\n"
          ]
        },
        {
          "metadata": {
            "tags": null
          },
          "name": "stderr",
          "output_type": "stream",
          "text": [
            " 66%|██████▌   | 33006/50000 [09:16<04:51, 58.29it/s]"
          ]
        },
        {
          "metadata": {
            "tags": null
          },
          "name": "stdout",
          "output_type": "stream",
          "text": [
            "Episode 33000 | AvgReward: 0.91 | Epsilon: 0.050\n"
          ]
        },
        {
          "metadata": {
            "tags": null
          },
          "name": "stderr",
          "output_type": "stream",
          "text": [
            " 68%|██████▊   | 34008/50000 [09:33<03:20, 79.71it/s]"
          ]
        },
        {
          "metadata": {
            "tags": null
          },
          "name": "stdout",
          "output_type": "stream",
          "text": [
            "Episode 34000 | AvgReward: 0.90 | Epsilon: 0.050\n"
          ]
        },
        {
          "metadata": {
            "tags": null
          },
          "name": "stderr",
          "output_type": "stream",
          "text": [
            " 70%|███████   | 35015/50000 [09:50<03:43, 67.11it/s]"
          ]
        },
        {
          "metadata": {
            "tags": null
          },
          "name": "stdout",
          "output_type": "stream",
          "text": [
            "Episode 35000 | AvgReward: 0.88 | Epsilon: 0.050\n"
          ]
        },
        {
          "metadata": {
            "tags": null
          },
          "name": "stderr",
          "output_type": "stream",
          "text": [
            " 72%|███████▏  | 36009/50000 [10:08<05:08, 45.32it/s]"
          ]
        },
        {
          "metadata": {
            "tags": null
          },
          "name": "stdout",
          "output_type": "stream",
          "text": [
            "Episode 36000 | AvgReward: 0.92 | Epsilon: 0.050\n"
          ]
        },
        {
          "metadata": {
            "tags": null
          },
          "name": "stderr",
          "output_type": "stream",
          "text": [
            " 74%|███████▍  | 37008/50000 [10:24<03:09, 68.70it/s]"
          ]
        },
        {
          "metadata": {
            "tags": null
          },
          "name": "stdout",
          "output_type": "stream",
          "text": [
            "Episode 37000 | AvgReward: 0.91 | Epsilon: 0.050\n"
          ]
        },
        {
          "metadata": {
            "tags": null
          },
          "name": "stderr",
          "output_type": "stream",
          "text": [
            " 76%|███████▌  | 38007/50000 [10:42<02:53, 69.05it/s]"
          ]
        },
        {
          "metadata": {
            "tags": null
          },
          "name": "stdout",
          "output_type": "stream",
          "text": [
            "Episode 38000 | AvgReward: 0.92 | Epsilon: 0.050\n"
          ]
        },
        {
          "metadata": {
            "tags": null
          },
          "name": "stderr",
          "output_type": "stream",
          "text": [
            " 78%|███████▊  | 39007/50000 [10:58<03:11, 57.43it/s]"
          ]
        },
        {
          "metadata": {
            "tags": null
          },
          "name": "stdout",
          "output_type": "stream",
          "text": [
            "Episode 39000 | AvgReward: 0.93 | Epsilon: 0.050\n"
          ]
        },
        {
          "metadata": {
            "tags": null
          },
          "name": "stderr",
          "output_type": "stream",
          "text": [
            " 80%|████████  | 40011/50000 [11:16<02:45, 60.18it/s]"
          ]
        },
        {
          "metadata": {
            "tags": null
          },
          "name": "stdout",
          "output_type": "stream",
          "text": [
            "Episode 40000 | AvgReward: 0.95 | Epsilon: 0.050\n"
          ]
        },
        {
          "metadata": {
            "tags": null
          },
          "name": "stderr",
          "output_type": "stream",
          "text": [
            " 82%|████████▏ | 41005/50000 [11:33<03:38, 41.22it/s]"
          ]
        },
        {
          "metadata": {
            "tags": null
          },
          "name": "stdout",
          "output_type": "stream",
          "text": [
            "Episode 41000 | AvgReward: 0.94 | Epsilon: 0.050\n"
          ]
        },
        {
          "metadata": {
            "tags": null
          },
          "name": "stderr",
          "output_type": "stream",
          "text": [
            " 84%|████████▍ | 42009/50000 [11:50<02:12, 60.43it/s]"
          ]
        },
        {
          "metadata": {
            "tags": null
          },
          "name": "stdout",
          "output_type": "stream",
          "text": [
            "Episode 42000 | AvgReward: 0.94 | Epsilon: 0.050\n"
          ]
        },
        {
          "metadata": {
            "tags": null
          },
          "name": "stderr",
          "output_type": "stream",
          "text": [
            " 86%|████████▌ | 43008/50000 [12:07<01:44, 66.77it/s]"
          ]
        },
        {
          "metadata": {
            "tags": null
          },
          "name": "stdout",
          "output_type": "stream",
          "text": [
            "Episode 43000 | AvgReward: 0.94 | Epsilon: 0.050\n"
          ]
        },
        {
          "metadata": {
            "tags": null
          },
          "name": "stderr",
          "output_type": "stream",
          "text": [
            " 88%|████████▊ | 44007/50000 [12:25<01:59, 49.98it/s]"
          ]
        },
        {
          "metadata": {
            "tags": null
          },
          "name": "stdout",
          "output_type": "stream",
          "text": [
            "Episode 44000 | AvgReward: 0.88 | Epsilon: 0.050\n"
          ]
        },
        {
          "metadata": {
            "tags": null
          },
          "name": "stderr",
          "output_type": "stream",
          "text": [
            " 90%|█████████ | 45011/50000 [12:42<01:08, 72.31it/s]"
          ]
        },
        {
          "metadata": {
            "tags": null
          },
          "name": "stdout",
          "output_type": "stream",
          "text": [
            "Episode 45000 | AvgReward: 0.92 | Epsilon: 0.050\n"
          ]
        },
        {
          "metadata": {
            "tags": null
          },
          "name": "stderr",
          "output_type": "stream",
          "text": [
            " 92%|█████████▏| 46015/50000 [13:01<00:48, 81.86it/s]"
          ]
        },
        {
          "metadata": {
            "tags": null
          },
          "name": "stdout",
          "output_type": "stream",
          "text": [
            "Episode 46000 | AvgReward: 0.86 | Epsilon: 0.050\n"
          ]
        },
        {
          "metadata": {
            "tags": null
          },
          "name": "stderr",
          "output_type": "stream",
          "text": [
            " 94%|█████████▍| 47004/50000 [13:18<00:46, 63.84it/s]"
          ]
        },
        {
          "metadata": {
            "tags": null
          },
          "name": "stdout",
          "output_type": "stream",
          "text": [
            "Episode 47000 | AvgReward: 0.92 | Epsilon: 0.050\n"
          ]
        },
        {
          "metadata": {
            "tags": null
          },
          "name": "stderr",
          "output_type": "stream",
          "text": [
            " 96%|█████████▌| 48008/50000 [13:36<00:36, 53.98it/s]"
          ]
        },
        {
          "metadata": {
            "tags": null
          },
          "name": "stdout",
          "output_type": "stream",
          "text": [
            "Episode 48000 | AvgReward: 0.89 | Epsilon: 0.050\n"
          ]
        },
        {
          "metadata": {
            "tags": null
          },
          "name": "stderr",
          "output_type": "stream",
          "text": [
            " 98%|█████████▊| 49012/50000 [13:54<00:17, 58.09it/s]"
          ]
        },
        {
          "metadata": {
            "tags": null
          },
          "name": "stdout",
          "output_type": "stream",
          "text": [
            "Episode 49000 | AvgReward: 0.91 | Epsilon: 0.050\n"
          ]
        },
        {
          "metadata": {
            "tags": null
          },
          "name": "stderr",
          "output_type": "stream",
          "text": [
            "100%|██████████| 50000/50000 [14:11<00:00, 58.71it/s]\n"
          ]
        },
        {
          "metadata": {
            "tags": null
          },
          "name": "stdout",
          "output_type": "stream",
          "text": [
            "\n",
            "Avvio training con: Setup 2 - Decay bilanciato, lr moderato\n"
          ]
        },
        {
          "metadata": {
            "tags": null
          },
          "name": "stderr",
          "output_type": "stream",
          "text": [
            "  0%|          | 19/40000 [00:00<03:33, 187.54it/s]"
          ]
        },
        {
          "metadata": {
            "tags": null
          },
          "name": "stdout",
          "output_type": "stream",
          "text": [
            "Episode 0 | AvgReward: 1.04 | Epsilon: 0.995\n"
          ]
        },
        {
          "metadata": {
            "tags": null
          },
          "name": "stderr",
          "output_type": "stream",
          "text": [
            "  3%|▎         | 1007/40000 [00:15<11:04, 58.69it/s]"
          ]
        },
        {
          "metadata": {
            "tags": null
          },
          "name": "stdout",
          "output_type": "stream",
          "text": [
            "Episode 1000 | AvgReward: 0.70 | Epsilon: 0.010\n"
          ]
        },
        {
          "metadata": {
            "tags": null
          },
          "name": "stderr",
          "output_type": "stream",
          "text": [
            "  5%|▌         | 2007/40000 [00:32<11:40, 54.21it/s]"
          ]
        },
        {
          "metadata": {
            "tags": null
          },
          "name": "stdout",
          "output_type": "stream",
          "text": [
            "Episode 2000 | AvgReward: 0.93 | Epsilon: 0.010\n"
          ]
        },
        {
          "metadata": {
            "tags": null
          },
          "name": "stderr",
          "output_type": "stream",
          "text": [
            "  8%|▊         | 3009/40000 [00:48<12:48, 48.15it/s]"
          ]
        },
        {
          "metadata": {
            "tags": null
          },
          "name": "stdout",
          "output_type": "stream",
          "text": [
            "Episode 3000 | AvgReward: 0.97 | Epsilon: 0.010\n"
          ]
        },
        {
          "metadata": {
            "tags": null
          },
          "name": "stderr",
          "output_type": "stream",
          "text": [
            " 10%|█         | 4010/40000 [01:07<08:16, 72.51it/s]"
          ]
        },
        {
          "metadata": {
            "tags": null
          },
          "name": "stdout",
          "output_type": "stream",
          "text": [
            "Episode 4000 | AvgReward: 0.94 | Epsilon: 0.010\n"
          ]
        },
        {
          "metadata": {
            "tags": null
          },
          "name": "stderr",
          "output_type": "stream",
          "text": [
            " 13%|█▎        | 5007/40000 [01:24<09:58, 58.43it/s]"
          ]
        },
        {
          "metadata": {
            "tags": null
          },
          "name": "stdout",
          "output_type": "stream",
          "text": [
            "Episode 5000 | AvgReward: 0.98 | Epsilon: 0.010\n"
          ]
        },
        {
          "metadata": {
            "tags": null
          },
          "name": "stderr",
          "output_type": "stream",
          "text": [
            " 15%|█▌        | 6012/40000 [01:42<10:48, 52.43it/s]"
          ]
        },
        {
          "metadata": {
            "tags": null
          },
          "name": "stdout",
          "output_type": "stream",
          "text": [
            "Episode 6000 | AvgReward: 0.93 | Epsilon: 0.010\n"
          ]
        },
        {
          "metadata": {
            "tags": null
          },
          "name": "stderr",
          "output_type": "stream",
          "text": [
            " 18%|█▊        | 7017/40000 [02:00<08:25, 65.31it/s]"
          ]
        },
        {
          "metadata": {
            "tags": null
          },
          "name": "stdout",
          "output_type": "stream",
          "text": [
            "Episode 7000 | AvgReward: 0.94 | Epsilon: 0.010\n"
          ]
        },
        {
          "metadata": {
            "tags": null
          },
          "name": "stderr",
          "output_type": "stream",
          "text": [
            " 20%|██        | 8012/40000 [02:20<09:59, 53.33it/s]"
          ]
        },
        {
          "metadata": {
            "tags": null
          },
          "name": "stdout",
          "output_type": "stream",
          "text": [
            "Episode 8000 | AvgReward: 0.93 | Epsilon: 0.010\n"
          ]
        },
        {
          "metadata": {
            "tags": null
          },
          "name": "stderr",
          "output_type": "stream",
          "text": [
            " 23%|██▎       | 9007/40000 [02:39<13:06, 39.40it/s]"
          ]
        },
        {
          "metadata": {
            "tags": null
          },
          "name": "stdout",
          "output_type": "stream",
          "text": [
            "Episode 9000 | AvgReward: 0.92 | Epsilon: 0.010\n"
          ]
        },
        {
          "metadata": {
            "tags": null
          },
          "name": "stderr",
          "output_type": "stream",
          "text": [
            " 25%|██▌       | 10010/40000 [02:58<09:33, 52.26it/s]"
          ]
        },
        {
          "metadata": {
            "tags": null
          },
          "name": "stdout",
          "output_type": "stream",
          "text": [
            "Episode 10000 | AvgReward: 0.90 | Epsilon: 0.010\n"
          ]
        },
        {
          "metadata": {
            "tags": null
          },
          "name": "stderr",
          "output_type": "stream",
          "text": [
            " 28%|██▊       | 11004/40000 [03:17<09:28, 51.00it/s]"
          ]
        },
        {
          "metadata": {
            "tags": null
          },
          "name": "stdout",
          "output_type": "stream",
          "text": [
            "Episode 11000 | AvgReward: 0.89 | Epsilon: 0.010\n"
          ]
        },
        {
          "metadata": {
            "tags": null
          },
          "name": "stderr",
          "output_type": "stream",
          "text": [
            " 30%|███       | 12007/40000 [03:36<09:26, 49.39it/s]"
          ]
        },
        {
          "metadata": {
            "tags": null
          },
          "name": "stdout",
          "output_type": "stream",
          "text": [
            "Episode 12000 | AvgReward: 0.94 | Epsilon: 0.010\n"
          ]
        },
        {
          "metadata": {
            "tags": null
          },
          "name": "stderr",
          "output_type": "stream",
          "text": [
            " 33%|███▎      | 13011/40000 [03:55<09:05, 49.50it/s]"
          ]
        },
        {
          "metadata": {
            "tags": null
          },
          "name": "stdout",
          "output_type": "stream",
          "text": [
            "Episode 13000 | AvgReward: 0.87 | Epsilon: 0.010\n"
          ]
        },
        {
          "metadata": {
            "tags": null
          },
          "name": "stderr",
          "output_type": "stream",
          "text": [
            " 35%|███▌      | 14007/40000 [04:13<07:02, 61.55it/s]"
          ]
        },
        {
          "metadata": {
            "tags": null
          },
          "name": "stdout",
          "output_type": "stream",
          "text": [
            "Episode 14000 | AvgReward: 0.90 | Epsilon: 0.010\n"
          ]
        },
        {
          "metadata": {
            "tags": null
          },
          "name": "stderr",
          "output_type": "stream",
          "text": [
            " 38%|███▊      | 15013/40000 [04:33<07:56, 52.44it/s]"
          ]
        },
        {
          "metadata": {
            "tags": null
          },
          "name": "stdout",
          "output_type": "stream",
          "text": [
            "Episode 15000 | AvgReward: 0.93 | Epsilon: 0.010\n"
          ]
        },
        {
          "metadata": {
            "tags": null
          },
          "name": "stderr",
          "output_type": "stream",
          "text": [
            " 40%|████      | 16015/40000 [04:52<06:29, 61.62it/s]"
          ]
        },
        {
          "metadata": {
            "tags": null
          },
          "name": "stdout",
          "output_type": "stream",
          "text": [
            "Episode 16000 | AvgReward: 0.92 | Epsilon: 0.010\n"
          ]
        },
        {
          "metadata": {
            "tags": null
          },
          "name": "stderr",
          "output_type": "stream",
          "text": [
            " 43%|████▎     | 17009/40000 [05:11<06:46, 56.52it/s]"
          ]
        },
        {
          "metadata": {
            "tags": null
          },
          "name": "stdout",
          "output_type": "stream",
          "text": [
            "Episode 17000 | AvgReward: 0.94 | Epsilon: 0.010\n"
          ]
        },
        {
          "metadata": {
            "tags": null
          },
          "name": "stderr",
          "output_type": "stream",
          "text": [
            " 45%|████▌     | 18008/40000 [05:31<08:37, 42.49it/s]"
          ]
        },
        {
          "metadata": {
            "tags": null
          },
          "name": "stdout",
          "output_type": "stream",
          "text": [
            "Episode 18000 | AvgReward: 0.94 | Epsilon: 0.010\n"
          ]
        },
        {
          "metadata": {
            "tags": null
          },
          "name": "stderr",
          "output_type": "stream",
          "text": [
            " 48%|████▊     | 19007/40000 [05:51<07:34, 46.18it/s]"
          ]
        },
        {
          "metadata": {
            "tags": null
          },
          "name": "stdout",
          "output_type": "stream",
          "text": [
            "Episode 19000 | AvgReward: 0.93 | Epsilon: 0.010\n"
          ]
        },
        {
          "metadata": {
            "tags": null
          },
          "name": "stderr",
          "output_type": "stream",
          "text": [
            " 50%|█████     | 20004/40000 [06:11<06:16, 53.11it/s]"
          ]
        },
        {
          "metadata": {
            "tags": null
          },
          "name": "stdout",
          "output_type": "stream",
          "text": [
            "Episode 20000 | AvgReward: 0.93 | Epsilon: 0.010\n"
          ]
        },
        {
          "metadata": {
            "tags": null
          },
          "name": "stderr",
          "output_type": "stream",
          "text": [
            " 53%|█████▎    | 21004/40000 [06:30<09:09, 34.56it/s]"
          ]
        },
        {
          "metadata": {
            "tags": null
          },
          "name": "stdout",
          "output_type": "stream",
          "text": [
            "Episode 21000 | AvgReward: 0.91 | Epsilon: 0.010\n"
          ]
        },
        {
          "metadata": {
            "tags": null
          },
          "name": "stderr",
          "output_type": "stream",
          "text": [
            " 55%|█████▌    | 22008/40000 [06:50<06:44, 44.48it/s]"
          ]
        },
        {
          "metadata": {
            "tags": null
          },
          "name": "stdout",
          "output_type": "stream",
          "text": [
            "Episode 22000 | AvgReward: 0.98 | Epsilon: 0.010\n"
          ]
        },
        {
          "metadata": {
            "tags": null
          },
          "name": "stderr",
          "output_type": "stream",
          "text": [
            " 58%|█████▊    | 23010/40000 [07:10<05:33, 50.87it/s]"
          ]
        },
        {
          "metadata": {
            "tags": null
          },
          "name": "stdout",
          "output_type": "stream",
          "text": [
            "Episode 23000 | AvgReward: 0.91 | Epsilon: 0.010\n"
          ]
        },
        {
          "metadata": {
            "tags": null
          },
          "name": "stderr",
          "output_type": "stream",
          "text": [
            " 60%|██████    | 24006/40000 [07:30<05:13, 50.94it/s]"
          ]
        },
        {
          "metadata": {
            "tags": null
          },
          "name": "stdout",
          "output_type": "stream",
          "text": [
            "Episode 24000 | AvgReward: 0.96 | Epsilon: 0.010\n"
          ]
        },
        {
          "metadata": {
            "tags": null
          },
          "name": "stderr",
          "output_type": "stream",
          "text": [
            " 63%|██████▎   | 25010/40000 [07:50<05:05, 49.12it/s]"
          ]
        },
        {
          "metadata": {
            "tags": null
          },
          "name": "stdout",
          "output_type": "stream",
          "text": [
            "Episode 25000 | AvgReward: 0.98 | Epsilon: 0.010\n"
          ]
        },
        {
          "metadata": {
            "tags": null
          },
          "name": "stderr",
          "output_type": "stream",
          "text": [
            " 65%|██████▌   | 26014/40000 [08:11<03:07, 74.72it/s]"
          ]
        },
        {
          "metadata": {
            "tags": null
          },
          "name": "stdout",
          "output_type": "stream",
          "text": [
            "Episode 26000 | AvgReward: 0.94 | Epsilon: 0.010\n"
          ]
        },
        {
          "metadata": {
            "tags": null
          },
          "name": "stderr",
          "output_type": "stream",
          "text": [
            " 68%|██████▊   | 27012/40000 [08:31<03:15, 66.47it/s]"
          ]
        },
        {
          "metadata": {
            "tags": null
          },
          "name": "stdout",
          "output_type": "stream",
          "text": [
            "Episode 27000 | AvgReward: 0.97 | Epsilon: 0.010\n"
          ]
        },
        {
          "metadata": {
            "tags": null
          },
          "name": "stderr",
          "output_type": "stream",
          "text": [
            " 70%|███████   | 28007/40000 [08:49<03:39, 54.71it/s]"
          ]
        },
        {
          "metadata": {
            "tags": null
          },
          "name": "stdout",
          "output_type": "stream",
          "text": [
            "Episode 28000 | AvgReward: 0.99 | Epsilon: 0.010\n"
          ]
        },
        {
          "metadata": {
            "tags": null
          },
          "name": "stderr",
          "output_type": "stream",
          "text": [
            " 73%|███████▎  | 29006/40000 [09:08<02:51, 64.07it/s]"
          ]
        },
        {
          "metadata": {
            "tags": null
          },
          "name": "stdout",
          "output_type": "stream",
          "text": [
            "Episode 29000 | AvgReward: 0.97 | Epsilon: 0.010\n"
          ]
        },
        {
          "metadata": {
            "tags": null
          },
          "name": "stderr",
          "output_type": "stream",
          "text": [
            " 75%|███████▌  | 30005/40000 [09:28<02:41, 61.92it/s]"
          ]
        },
        {
          "metadata": {
            "tags": null
          },
          "name": "stdout",
          "output_type": "stream",
          "text": [
            "Episode 30000 | AvgReward: 0.97 | Epsilon: 0.010\n"
          ]
        },
        {
          "metadata": {
            "tags": null
          },
          "name": "stderr",
          "output_type": "stream",
          "text": [
            " 78%|███████▊  | 31006/40000 [09:48<02:37, 57.06it/s]"
          ]
        },
        {
          "metadata": {
            "tags": null
          },
          "name": "stdout",
          "output_type": "stream",
          "text": [
            "Episode 31000 | AvgReward: 0.99 | Epsilon: 0.010\n"
          ]
        },
        {
          "metadata": {
            "tags": null
          },
          "name": "stderr",
          "output_type": "stream",
          "text": [
            " 80%|████████  | 32010/40000 [10:07<02:19, 57.31it/s]"
          ]
        },
        {
          "metadata": {
            "tags": null
          },
          "name": "stdout",
          "output_type": "stream",
          "text": [
            "Episode 32000 | AvgReward: 0.96 | Epsilon: 0.010\n"
          ]
        },
        {
          "metadata": {
            "tags": null
          },
          "name": "stderr",
          "output_type": "stream",
          "text": [
            " 83%|████████▎ | 33010/40000 [10:27<01:51, 62.61it/s]"
          ]
        },
        {
          "metadata": {
            "tags": null
          },
          "name": "stdout",
          "output_type": "stream",
          "text": [
            "Episode 33000 | AvgReward: 0.92 | Epsilon: 0.010\n"
          ]
        },
        {
          "output_type": "stream",
          "name": "stderr",
          "text": [
            " 85%|████████▌ | 34005/40000 [10:45<01:40, 59.62it/s]"
          ]
        },
        {
          "output_type": "stream",
          "name": "stdout",
          "text": [
            "Episode 34000 | AvgReward: 0.88 | Epsilon: 0.010\n"
          ]
        },
        {
          "output_type": "stream",
          "name": "stderr",
          "text": [
            " 88%|████████▊ | 35008/40000 [11:05<01:37, 51.28it/s]"
          ]
        },
        {
          "output_type": "stream",
          "name": "stdout",
          "text": [
            "Episode 35000 | AvgReward: 0.93 | Epsilon: 0.010\n"
          ]
        },
        {
          "output_type": "stream",
          "name": "stderr",
          "text": [
            " 90%|█████████ | 36006/40000 [11:24<01:16, 51.96it/s]"
          ]
        },
        {
          "output_type": "stream",
          "name": "stdout",
          "text": [
            "Episode 36000 | AvgReward: 0.95 | Epsilon: 0.010\n"
          ]
        },
        {
          "output_type": "stream",
          "name": "stderr",
          "text": [
            " 93%|█████████▎| 37015/40000 [11:43<00:43, 68.04it/s]"
          ]
        },
        {
          "output_type": "stream",
          "name": "stdout",
          "text": [
            "Episode 37000 | AvgReward: 0.79 | Epsilon: 0.010\n"
          ]
        },
        {
          "output_type": "stream",
          "name": "stderr",
          "text": [
            " 95%|█████████▌| 38006/40000 [12:01<00:35, 55.43it/s]"
          ]
        },
        {
          "output_type": "stream",
          "name": "stdout",
          "text": [
            "Episode 38000 | AvgReward: 0.89 | Epsilon: 0.010\n"
          ]
        },
        {
          "output_type": "stream",
          "name": "stderr",
          "text": [
            " 98%|█████████▊| 39009/40000 [12:19<00:18, 52.85it/s]"
          ]
        },
        {
          "output_type": "stream",
          "name": "stdout",
          "text": [
            "Episode 39000 | AvgReward: 0.86 | Epsilon: 0.010\n"
          ]
        },
        {
          "output_type": "stream",
          "name": "stderr",
          "text": [
            "100%|██████████| 40000/40000 [12:38<00:00, 52.74it/s]\n"
          ]
        },
        {
          "output_type": "stream",
          "name": "stdout",
          "text": [
            "\n",
            "Avvio training con: Setup 3 - Decay veloce, batch più grande, lr alto\n"
          ]
        },
        {
          "output_type": "stream",
          "name": "stderr",
          "text": [
            "  0%|          | 45/30000 [00:00<01:08, 437.32it/s]"
          ]
        },
        {
          "output_type": "stream",
          "name": "stdout",
          "text": [
            "Episode 0 | AvgReward: -1.16 | Epsilon: 0.980\n"
          ]
        },
        {
          "output_type": "stream",
          "name": "stderr",
          "text": [
            "  3%|▎         | 1013/30000 [00:15<07:21, 65.72it/s]"
          ]
        },
        {
          "output_type": "stream",
          "name": "stdout",
          "text": [
            "Episode 1000 | AvgReward: 0.57 | Epsilon: 0.100\n"
          ]
        },
        {
          "output_type": "stream",
          "name": "stderr",
          "text": [
            "  7%|▋         | 2009/30000 [00:30<06:47, 68.65it/s]"
          ]
        },
        {
          "output_type": "stream",
          "name": "stdout",
          "text": [
            "Episode 2000 | AvgReward: 0.54 | Epsilon: 0.100\n"
          ]
        },
        {
          "output_type": "stream",
          "name": "stderr",
          "text": [
            " 10%|█         | 3006/30000 [00:46<08:12, 54.84it/s]"
          ]
        },
        {
          "output_type": "stream",
          "name": "stdout",
          "text": [
            "Episode 3000 | AvgReward: 0.49 | Epsilon: 0.100\n"
          ]
        },
        {
          "output_type": "stream",
          "name": "stderr",
          "text": [
            " 13%|█▎        | 4010/30000 [01:03<06:54, 62.75it/s]"
          ]
        },
        {
          "output_type": "stream",
          "name": "stdout",
          "text": [
            "Episode 4000 | AvgReward: 0.50 | Epsilon: 0.100\n"
          ]
        },
        {
          "output_type": "stream",
          "name": "stderr",
          "text": [
            " 17%|█▋        | 5013/30000 [01:19<06:55, 60.14it/s]"
          ]
        },
        {
          "output_type": "stream",
          "name": "stdout",
          "text": [
            "Episode 5000 | AvgReward: 0.47 | Epsilon: 0.100\n"
          ]
        },
        {
          "output_type": "stream",
          "name": "stderr",
          "text": [
            " 20%|██        | 6006/30000 [01:36<06:45, 59.21it/s]"
          ]
        },
        {
          "output_type": "stream",
          "name": "stdout",
          "text": [
            "Episode 6000 | AvgReward: 0.62 | Epsilon: 0.100\n"
          ]
        },
        {
          "output_type": "stream",
          "name": "stderr",
          "text": [
            " 23%|██▎       | 7007/30000 [01:54<06:10, 62.08it/s]"
          ]
        },
        {
          "output_type": "stream",
          "name": "stdout",
          "text": [
            "Episode 7000 | AvgReward: 0.57 | Epsilon: 0.100\n"
          ]
        },
        {
          "output_type": "stream",
          "name": "stderr",
          "text": [
            " 27%|██▋       | 8008/30000 [02:11<05:55, 61.89it/s]"
          ]
        },
        {
          "output_type": "stream",
          "name": "stdout",
          "text": [
            "Episode 8000 | AvgReward: 0.62 | Epsilon: 0.100\n"
          ]
        },
        {
          "output_type": "stream",
          "name": "stderr",
          "text": [
            " 30%|███       | 9011/30000 [02:28<06:09, 56.80it/s]"
          ]
        },
        {
          "output_type": "stream",
          "name": "stdout",
          "text": [
            "Episode 9000 | AvgReward: 0.61 | Epsilon: 0.100\n"
          ]
        },
        {
          "output_type": "stream",
          "name": "stderr",
          "text": [
            " 33%|███▎      | 10009/30000 [02:46<09:57, 33.45it/s]"
          ]
        },
        {
          "output_type": "stream",
          "name": "stdout",
          "text": [
            "Episode 10000 | AvgReward: 0.64 | Epsilon: 0.100\n"
          ]
        },
        {
          "output_type": "stream",
          "name": "stderr",
          "text": [
            " 37%|███▋      | 11012/30000 [03:04<05:56, 53.19it/s]"
          ]
        },
        {
          "output_type": "stream",
          "name": "stdout",
          "text": [
            "Episode 11000 | AvgReward: 0.56 | Epsilon: 0.100\n"
          ]
        },
        {
          "output_type": "stream",
          "name": "stderr",
          "text": [
            " 40%|████      | 12008/30000 [03:21<05:11, 57.70it/s]"
          ]
        },
        {
          "output_type": "stream",
          "name": "stdout",
          "text": [
            "Episode 12000 | AvgReward: 0.60 | Epsilon: 0.100\n"
          ]
        },
        {
          "output_type": "stream",
          "name": "stderr",
          "text": [
            " 43%|████▎     | 13006/30000 [03:40<04:43, 59.94it/s]"
          ]
        },
        {
          "output_type": "stream",
          "name": "stdout",
          "text": [
            "Episode 13000 | AvgReward: 0.58 | Epsilon: 0.100\n"
          ]
        },
        {
          "output_type": "stream",
          "name": "stderr",
          "text": [
            " 47%|████▋     | 14016/30000 [03:57<04:12, 63.20it/s]"
          ]
        },
        {
          "output_type": "stream",
          "name": "stdout",
          "text": [
            "Episode 14000 | AvgReward: 0.60 | Epsilon: 0.100\n"
          ]
        },
        {
          "output_type": "stream",
          "name": "stderr",
          "text": [
            " 50%|█████     | 15008/30000 [04:16<05:32, 45.12it/s]"
          ]
        },
        {
          "output_type": "stream",
          "name": "stdout",
          "text": [
            "Episode 15000 | AvgReward: 0.63 | Epsilon: 0.100\n"
          ]
        },
        {
          "output_type": "stream",
          "name": "stderr",
          "text": [
            " 53%|█████▎    | 16011/30000 [04:33<03:45, 61.97it/s]"
          ]
        },
        {
          "output_type": "stream",
          "name": "stdout",
          "text": [
            "Episode 16000 | AvgReward: 0.58 | Epsilon: 0.100\n"
          ]
        },
        {
          "output_type": "stream",
          "name": "stderr",
          "text": [
            " 57%|█████▋    | 17010/30000 [04:51<03:58, 54.37it/s]"
          ]
        },
        {
          "output_type": "stream",
          "name": "stdout",
          "text": [
            "Episode 17000 | AvgReward: 0.55 | Epsilon: 0.100\n"
          ]
        },
        {
          "output_type": "stream",
          "name": "stderr",
          "text": [
            " 60%|██████    | 18006/30000 [05:08<04:05, 48.87it/s]"
          ]
        },
        {
          "output_type": "stream",
          "name": "stdout",
          "text": [
            "Episode 18000 | AvgReward: 0.59 | Epsilon: 0.100\n"
          ]
        },
        {
          "output_type": "stream",
          "name": "stderr",
          "text": [
            " 63%|██████▎   | 19009/30000 [05:26<03:01, 60.64it/s]"
          ]
        },
        {
          "output_type": "stream",
          "name": "stdout",
          "text": [
            "Episode 19000 | AvgReward: 0.58 | Epsilon: 0.100\n"
          ]
        },
        {
          "output_type": "stream",
          "name": "stderr",
          "text": [
            " 67%|██████▋   | 20011/30000 [05:44<02:33, 65.11it/s]"
          ]
        },
        {
          "output_type": "stream",
          "name": "stdout",
          "text": [
            "Episode 20000 | AvgReward: 0.68 | Epsilon: 0.100\n"
          ]
        },
        {
          "output_type": "stream",
          "name": "stderr",
          "text": [
            " 70%|███████   | 21004/30000 [06:02<02:05, 71.61it/s]"
          ]
        },
        {
          "output_type": "stream",
          "name": "stdout",
          "text": [
            "Episode 21000 | AvgReward: 0.60 | Epsilon: 0.100\n"
          ]
        },
        {
          "output_type": "stream",
          "name": "stderr",
          "text": [
            " 73%|███████▎  | 22009/30000 [06:20<01:51, 71.36it/s]"
          ]
        },
        {
          "output_type": "stream",
          "name": "stdout",
          "text": [
            "Episode 22000 | AvgReward: 0.62 | Epsilon: 0.100\n"
          ]
        },
        {
          "output_type": "stream",
          "name": "stderr",
          "text": [
            " 77%|███████▋  | 23013/30000 [06:39<01:28, 78.68it/s]"
          ]
        },
        {
          "output_type": "stream",
          "name": "stdout",
          "text": [
            "Episode 23000 | AvgReward: 0.60 | Epsilon: 0.100\n"
          ]
        },
        {
          "output_type": "stream",
          "name": "stderr",
          "text": [
            " 80%|████████  | 24008/30000 [06:58<01:41, 59.03it/s]"
          ]
        },
        {
          "output_type": "stream",
          "name": "stdout",
          "text": [
            "Episode 24000 | AvgReward: 0.57 | Epsilon: 0.100\n"
          ]
        },
        {
          "output_type": "stream",
          "name": "stderr",
          "text": [
            " 83%|████████▎ | 25005/30000 [07:17<02:05, 39.90it/s]"
          ]
        },
        {
          "output_type": "stream",
          "name": "stdout",
          "text": [
            "Episode 25000 | AvgReward: 0.53 | Epsilon: 0.100\n"
          ]
        },
        {
          "output_type": "stream",
          "name": "stderr",
          "text": [
            " 87%|████████▋ | 26013/30000 [07:35<01:14, 53.59it/s]"
          ]
        },
        {
          "output_type": "stream",
          "name": "stdout",
          "text": [
            "Episode 26000 | AvgReward: 0.61 | Epsilon: 0.100\n"
          ]
        },
        {
          "output_type": "stream",
          "name": "stderr",
          "text": [
            " 90%|█████████ | 27011/30000 [07:53<00:52, 56.84it/s]"
          ]
        },
        {
          "output_type": "stream",
          "name": "stdout",
          "text": [
            "Episode 27000 | AvgReward: 0.63 | Epsilon: 0.100\n"
          ]
        },
        {
          "output_type": "stream",
          "name": "stderr",
          "text": [
            " 93%|█████████▎| 28006/30000 [08:12<00:55, 36.23it/s]"
          ]
        },
        {
          "output_type": "stream",
          "name": "stdout",
          "text": [
            "Episode 28000 | AvgReward: 0.64 | Epsilon: 0.100\n"
          ]
        },
        {
          "output_type": "stream",
          "name": "stderr",
          "text": [
            " 97%|█████████▋| 29004/30000 [08:29<00:15, 63.40it/s]"
          ]
        },
        {
          "output_type": "stream",
          "name": "stdout",
          "text": [
            "Episode 29000 | AvgReward: 0.67 | Epsilon: 0.100\n"
          ]
        },
        {
          "output_type": "stream",
          "name": "stderr",
          "text": [
            "100%|██████████| 30000/30000 [08:49<00:00, 56.70it/s]\n"
          ]
        },
        {
          "output_type": "display_data",
          "data": {
            "text/plain": [
              "<Figure size 1200x600 with 1 Axes>"
            ],
            "image/png": "[encoded data removed]"
          },
          "metadata": {}
        }
      ]
    },
    {
      "cell_type": "markdown",
      "source": [
        "**PERFORMANCE**: *MAXIMAL ATTACK*\n",
        "\n",
        "Rispetto a questi approcci di random attack, il concetto di maximal_attack rappresenta una strategia più mirata e deterministica. Invece di scegliere azioni casuali o quasi casuali come nel random attack, maximal_attack tende a scegliere sistematicamente l’azione con l’impatto più grande o “massimale” rispetto a un certo criterio (ad esempio, quella che produce il danno massimo o la perturbazione più significativa). Questo approccio può portare a risultati più rapidi o più efficaci in contesti dove si cerca di massimizzare un certo tipo di risultato, ma rischia anche di ridurre la diversità delle azioni esplorate.\n",
        "\n",
        "In termini di apprendimento, l’attacco maximal_attack potrebbe ridurre la necessità di una lunga fase di esplorazione perché punta sempre all’azione considerata migliore, potenzialmente accelerando la convergenza, ma con il rischio di cadere in ottimi locali o politiche sub-ottimali se non calibrato bene. Al contrario, i setup di random attack, soprattutto quelli con decay più lento di epsilon, favoriscono una maggiore esplorazione, preservando la capacità del modello di scoprire strategie difensive diverse.\n",
        "\n",
        "In questo contesto, i tre setup proposti per l’allenamento della rete neurale difensiva riflettono differenti scelte di bilanciamento tra esplorazione e sfruttamento, ognuno con punti di forza e limiti.\n",
        "\n",
        "Il Setup 1 si caratterizza per un decadimento molto lento di epsilon, mantenendo quindi una lunga fase di esplorazione. Ciò permette all’agente difensivo di provare molte azioni diverse e apprendere con calma, grazie anche a un learning rate basso e stabile che favorisce aggiornamenti graduali. Questa configurazione è particolarmente utile in scenari complessi dove è importante evitare di convergere troppo presto su strategie sub-ottimali.\n",
        "\n",
        "Il Setup 2 presenta un decadimento di epsilon più bilanciato, che consente una transizione più rapida dall’esplorazione allo sfruttamento. Il learning rate moderato e il valore minimo di epsilon più basso aiutano a consolidare le strategie efficaci emerse durante il training, pur mantenendo una residuale capacità di esplorare. È un compromesso efficace per ambienti dove serve apprendere velocemente ma senza perdere flessibilità.\n",
        "\n",
        "Infine, il Setup 3 privilegia una convergenza veloce grazie a un decadimento rapido di epsilon, un batch size più grande e un learning rate alto. L’agente riduce presto l’esplorazione e punta a sfruttare rapidamente le migliori azioni individuate, rischiando però di trascurare alternative potenzialmente migliori. Questa configurazione è indicata in situazioni in cui la rapidità nell’adottare una strategia difensiva efficace è prioritaria, anche a scapito di una minor generalizzazione.\n",
        "\n",
        "In sintesi, mentre i setup tipici di random attack cercano un bilanciamento tra esplorazione e sfruttamento per affrontare scenari imprevedibili, l’attacco maximal_attack richiede al difensore di adattarsi a una minaccia più aggressiva e mirata. I diversi setup per la rete neurale difensiva riflettono proprio questa necessità di calibrare l’apprendimento tra esplorazione ampia e convergenza rapida, a seconda delle caratteristiche dell’ambiente e degli obiettivi di difesa."
      ],
      "metadata": {
        "id": "WDa37pmmskkf"
      }
    },
    {
      "cell_type": "code",
      "source": [
        "\n",
        "\n",
        "num_test_episodes = 300\n",
        "mode_attacker = {\n",
        "    'random': 'random',\n",
        "    'deterministico': 'deterministic',\n",
        "    'ciclico': 'cyclic'\n",
        "}\n",
        "env = maximal_attack()\n",
        "for name, rewards, q_net in results:\n",
        "    # utilizziamo q_net per recuperare la policy appresa\n",
        "    # q_values = q_net(state)\n",
        "    # return torch.argmax(q_values).item()\n",
        "\n",
        "    print(f\"\\nValutazione difensore DDQN: {name}\")\n",
        "    for mode_name, mode_val in mode_attacker.items():\n",
        "        attacker = AttackerAgent(env.attacker_action_space, mode=mode_val, fixed_action=0)\n",
        "        print(f\" - Attaccante {mode_name}:\")\n",
        "        val_def = evaluate_policy_ddqn(env, policy, attacker, q_net, num_test_episodes, seed=42 )\n",
        "        val_def_random = evaluate_policy_ddqn(env, \"random\", attacker, q_net, num_test_episodes, seed=42)\n",
        "        val_def_null = evaluate_policy_ddqn(env, \"null\", attacker,q_net, num_test_episodes, seed=42)\n",
        "        print(f\"   Difensore DDQN policy: {val_def}\")\n",
        "        print(f\"   Difensore random policy: {val_def_random}\")\n",
        "        print(f\"   Difensore null policy: {val_def_null}\")\n"
      ],
      "metadata": {
        "id": "OJN5yA4Kf_ag",
        "colab": {
          "base_uri": "https://localhost:8080/"
        },
        "outputId": "ace3babc-a6b5-45f0-e41f-adb92e469b6f"
      },
      "execution_count": null,
      "outputs": [
        {
          "output_type": "stream",
          "name": "stdout",
          "text": [
            "\n",
            "Valutazione difensore DDQN: Setup 1 - Decay molto lento, lr stabile\n",
            " - Attaccante random:\n",
            "   Difensore DDQN policy: 1.04\n",
            "   Difensore random policy: 0.24\n",
            "   Difensore null policy: 0.91\n",
            " - Attaccante deterministico:\n",
            "   Difensore DDQN policy: 1.04\n",
            "   Difensore random policy: 0.23\n",
            "   Difensore null policy: 0.94\n",
            " - Attaccante ciclico:\n",
            "   Difensore DDQN policy: 1.04\n",
            "   Difensore random policy: 0.23\n",
            "   Difensore null policy: 0.93\n",
            "\n",
            "Valutazione difensore DDQN: Setup 2 - Decay bilanciato, lr moderato\n",
            " - Attaccante random:\n",
            "   Difensore DDQN policy: 0.94\n",
            "   Difensore random policy: 0.24\n",
            "   Difensore null policy: 0.93\n",
            " - Attaccante deterministico:\n",
            "   Difensore DDQN policy: 0.97\n",
            "   Difensore random policy: 0.24\n",
            "   Difensore null policy: 0.91\n",
            " - Attaccante ciclico:\n",
            "   Difensore DDQN policy: 0.94\n",
            "   Difensore random policy: 0.22\n",
            "   Difensore null policy: 0.92\n",
            "\n",
            "Valutazione difensore DDQN: Setup 3 - Decay veloce, batch più grande, lr alto\n",
            " - Attaccante random:\n",
            "   Difensore DDQN policy: 0.95\n",
            "   Difensore random policy: 0.22\n",
            "   Difensore null policy: 0.93\n",
            " - Attaccante deterministico:\n",
            "   Difensore DDQN policy: 0.93\n",
            "   Difensore random policy: 0.24\n",
            "   Difensore null policy: 0.93\n",
            " - Attaccante ciclico:\n",
            "   Difensore DDQN policy: 0.95\n",
            "   Difensore random policy: 0.22\n",
            "   Difensore null policy: 0.93\n"
          ]
        }
      ]
    },
    {
      "cell_type": "markdown",
      "source": [
        "**ANALISI RISULTATI**: *MAXIMAL ATTACK*\n",
        "\n",
        "Dai risultati emerge chiaramente che il difensore DDQN supera consistentemente sia la politica random sia quella null in tutti e tre i setup e contro tutte le tipologie di attacco (random, deterministico, ciclico).\n",
        "\n",
        "Il Setup 1, con un decay molto lento di epsilon e learning rate basso, ottiene le migliori performance (reward attorno a 1.04), indicando che una lunga esplorazione favorisce l’apprendimento di strategie difensive più robuste e generalizzabili.\n",
        "\n",
        "Il Setup 2, con un decay più bilanciato e learning rate moderato, raggiunge risultati leggermente inferiori (tra 0.94 e 0.97), ma mantiene comunque un buon vantaggio rispetto alle baseline, mostrando un buon compromesso tra esplorazione e velocità di apprendimento.\n",
        "\n",
        "Il Setup 3, caratterizzato da un decay veloce, batch più grande e learning rate alto, non migliora ulteriormente le performance (reward intorno a 0.93-0.95), suggerendo che una riduzione troppo rapida dell’esplorazione può limitare la qualità della strategia appresa.\n",
        "\n",
        "La random policy difensiva ottiene punteggi relativamente alti contro i vari attaccanti perché la sua imprevedibilità rende difficile per l’attaccante sfruttare sempre la stessa vulnerabilità. Questo dimostra che una certa casualità nelle difese può limitare l’efficacia di attacchi deterministici, anche se strategie più mirate restano fondamentali per prestazioni migliori.\n",
        "\n",
        "In sintesi, i dati suggeriscono che anche in questo caso un’esplorazione più duratura risulta vantaggiosa per sviluppare difese efficaci contro attacchi maximal_attack mirati e deterministici.\n"
      ],
      "metadata": {
        "id": "0JkjELpJCae7"
      }
    }
  ]
}